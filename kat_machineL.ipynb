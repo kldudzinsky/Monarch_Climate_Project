{
 "metadata": {
  "language_info": {
   "codemirror_mode": {
    "name": "ipython",
    "version": 3
   },
   "file_extension": ".py",
   "mimetype": "text/x-python",
   "name": "python",
   "nbconvert_exporter": "python",
   "pygments_lexer": "ipython3",
   "version": "3.6.10-final"
  },
  "orig_nbformat": 2,
  "kernelspec": {
   "name": "python3",
   "display_name": "Python 3",
   "language": "python"
  }
 },
 "nbformat": 4,
 "nbformat_minor": 2,
 "cells": [
  {
   "cell_type": "code",
   "execution_count": 107,
   "metadata": {},
   "outputs": [],
   "source": [
    "import pandas as pd\n",
    "from sklearn.model_selection import train_test_split\n",
    "from sklearn.preprocessing import MinMaxScaler\n",
    "from sklearn.linear_model import LogisticRegression\n",
    "from sklearn.model_selection import GridSearchCV\n",
    "from sklearn.metrics import explained_variance_score, \\\n",
    "    mean_absolute_error, \\\n",
    "    median_absolute_error\n",
    "import tensorflow as tf\n",
    "import joblib\n",
    "import matplotlib.pyplot as plt      \n",
    "import numpy as np        \n",
    "import pandas\n",
    "import matplotlib as plt\n",
    "import matplotlib.pyplot as plt\n",
    "from os import listdir\n",
    "from os.path import isfile, join\n",
    "import csv\n",
    "from datetime import date, timedelta\n",
    "from collections import defaultdict\n"
   ]
  },
  {
   "cell_type": "code",
   "execution_count": 105,
   "metadata": {},
   "outputs": [],
   "source": [
    "Path=\"Raw_Data/grouped_dates_monterey_avg\"\n",
    "df=pd.read_csv(Path)\n",
    "monterey_df=pd.DataFrame(df)\n"
   ]
  },
  {
   "cell_type": "code",
   "execution_count": 106,
   "metadata": {},
   "outputs": [
    {
     "output_type": "execute_result",
     "data": {
      "text/plain": [
       "        DATE   LATITUDE   LONGITUDE  ELEVATION   EMNT       EMXT       TAVG\n",
       "0    2000-03  36.574080 -121.786360  64.260000  4.575  26.125000  11.800000\n",
       "1    2000-04  36.574080 -121.786360  64.260000  5.025  28.475000  13.750000\n",
       "2    2000-05  36.574080 -121.786360  64.260000  5.125  29.450000  14.625000\n",
       "3    2000-06  36.569425 -121.769075  71.025000  7.400  29.433333  15.866667\n",
       "4    2000-07  36.574080 -121.786360  64.260000  8.475  21.825000  15.400000\n",
       "..       ...        ...         ...        ...    ...        ...        ...\n",
       "236  2019-11  36.637198 -121.759970  57.528571  2.250  28.900000  13.250000\n",
       "237  2019-12  36.637198 -121.759970  57.528571  1.650  20.850000  12.100000\n",
       "238  2020-01  36.637198 -121.759970  57.528571  1.950  23.300000  11.200000\n",
       "239  2020-02  36.664012 -121.766689  44.466667 -1.400  26.650000  12.200000\n",
       "240  2020-03  36.613995 -121.765233  66.200000  2.200  24.200000  12.400000\n",
       "\n",
       "[241 rows x 7 columns]"
      ],
      "text/html": "<div>\n<style scoped>\n    .dataframe tbody tr th:only-of-type {\n        vertical-align: middle;\n    }\n\n    .dataframe tbody tr th {\n        vertical-align: top;\n    }\n\n    .dataframe thead th {\n        text-align: right;\n    }\n</style>\n<table border=\"1\" class=\"dataframe\">\n  <thead>\n    <tr style=\"text-align: right;\">\n      <th></th>\n      <th>DATE</th>\n      <th>LATITUDE</th>\n      <th>LONGITUDE</th>\n      <th>ELEVATION</th>\n      <th>EMNT</th>\n      <th>EMXT</th>\n      <th>TAVG</th>\n    </tr>\n  </thead>\n  <tbody>\n    <tr>\n      <th>0</th>\n      <td>2000-03</td>\n      <td>36.574080</td>\n      <td>-121.786360</td>\n      <td>64.260000</td>\n      <td>4.575</td>\n      <td>26.125000</td>\n      <td>11.800000</td>\n    </tr>\n    <tr>\n      <th>1</th>\n      <td>2000-04</td>\n      <td>36.574080</td>\n      <td>-121.786360</td>\n      <td>64.260000</td>\n      <td>5.025</td>\n      <td>28.475000</td>\n      <td>13.750000</td>\n    </tr>\n    <tr>\n      <th>2</th>\n      <td>2000-05</td>\n      <td>36.574080</td>\n      <td>-121.786360</td>\n      <td>64.260000</td>\n      <td>5.125</td>\n      <td>29.450000</td>\n      <td>14.625000</td>\n    </tr>\n    <tr>\n      <th>3</th>\n      <td>2000-06</td>\n      <td>36.569425</td>\n      <td>-121.769075</td>\n      <td>71.025000</td>\n      <td>7.400</td>\n      <td>29.433333</td>\n      <td>15.866667</td>\n    </tr>\n    <tr>\n      <th>4</th>\n      <td>2000-07</td>\n      <td>36.574080</td>\n      <td>-121.786360</td>\n      <td>64.260000</td>\n      <td>8.475</td>\n      <td>21.825000</td>\n      <td>15.400000</td>\n    </tr>\n    <tr>\n      <th>...</th>\n      <td>...</td>\n      <td>...</td>\n      <td>...</td>\n      <td>...</td>\n      <td>...</td>\n      <td>...</td>\n      <td>...</td>\n    </tr>\n    <tr>\n      <th>236</th>\n      <td>2019-11</td>\n      <td>36.637198</td>\n      <td>-121.759970</td>\n      <td>57.528571</td>\n      <td>2.250</td>\n      <td>28.900000</td>\n      <td>13.250000</td>\n    </tr>\n    <tr>\n      <th>237</th>\n      <td>2019-12</td>\n      <td>36.637198</td>\n      <td>-121.759970</td>\n      <td>57.528571</td>\n      <td>1.650</td>\n      <td>20.850000</td>\n      <td>12.100000</td>\n    </tr>\n    <tr>\n      <th>238</th>\n      <td>2020-01</td>\n      <td>36.637198</td>\n      <td>-121.759970</td>\n      <td>57.528571</td>\n      <td>1.950</td>\n      <td>23.300000</td>\n      <td>11.200000</td>\n    </tr>\n    <tr>\n      <th>239</th>\n      <td>2020-02</td>\n      <td>36.664012</td>\n      <td>-121.766689</td>\n      <td>44.466667</td>\n      <td>-1.400</td>\n      <td>26.650000</td>\n      <td>12.200000</td>\n    </tr>\n    <tr>\n      <th>240</th>\n      <td>2020-03</td>\n      <td>36.613995</td>\n      <td>-121.765233</td>\n      <td>66.200000</td>\n      <td>2.200</td>\n      <td>24.200000</td>\n      <td>12.400000</td>\n    </tr>\n  </tbody>\n</table>\n<p>241 rows × 7 columns</p>\n</div>"
     },
     "metadata": {},
     "execution_count": 106
    }
   ],
   "source": [
    "monterey_df"
   ]
  },
  {
   "cell_type": "code",
   "execution_count": 109,
   "metadata": {},
   "outputs": [],
   "source": [
    "monterey_df[['Year', 'Month']]=monterey_df['DATE'].str.split('-',1,expand=True)"
   ]
  },
  {
   "cell_type": "code",
   "execution_count": 110,
   "metadata": {},
   "outputs": [],
   "source": [
    "monterey_yr_mo_avg=monterey_df[['Year','Month','TAVG']]"
   ]
  },
  {
   "cell_type": "code",
   "execution_count": 113,
   "metadata": {},
   "outputs": [],
   "source": [
    "monterey_yr_mo_avg_pivot=monterey_yr_mo_avg.pivot(index='Year', columns='Month', values=['TAVG'])"
   ]
  },
  {
   "cell_type": "code",
   "execution_count": 114,
   "metadata": {},
   "outputs": [
    {
     "output_type": "execute_result",
     "data": {
      "text/plain": [
       "            TAVG                                                         \\\n",
       "Month         01         02         03         04         05         06   \n",
       "Year                                                                      \n",
       "2000         NaN        NaN  11.800000  13.750000  14.625000  15.866667   \n",
       "2001   10.025000  10.675000  12.575000  11.050000  15.450000  15.700000   \n",
       "2002    8.866667  11.685714  11.433333  12.560000  13.066667  14.542857   \n",
       "2003   13.571429  11.228571  12.485714  11.916667  14.050000  15.960000   \n",
       "2004   10.033333  10.785714  14.542857  13.771429  14.428571  15.085714   \n",
       "\n",
       "                                                                         \n",
       "Month         07         08         09         10         11         12  \n",
       "Year                                                                     \n",
       "2000   15.400000  16.025000  17.400000  14.725000  10.833333  11.900000  \n",
       "2001   15.925000  15.925000  15.975000  15.700000  13.216667  10.666667  \n",
       "2002   16.085714  16.428571  17.000000  14.871429  14.514286  11.414286  \n",
       "2003   16.800000  17.828571  18.342857  16.557143  12.000000  11.428571  \n",
       "2004   16.700000  17.760000  17.880000  15.140000  12.285714  11.228571  "
      ],
      "text/html": "<div>\n<style scoped>\n    .dataframe tbody tr th:only-of-type {\n        vertical-align: middle;\n    }\n\n    .dataframe tbody tr th {\n        vertical-align: top;\n    }\n\n    .dataframe thead tr th {\n        text-align: left;\n    }\n\n    .dataframe thead tr:last-of-type th {\n        text-align: right;\n    }\n</style>\n<table border=\"1\" class=\"dataframe\">\n  <thead>\n    <tr>\n      <th></th>\n      <th colspan=\"12\" halign=\"left\">TAVG</th>\n    </tr>\n    <tr>\n      <th>Month</th>\n      <th>01</th>\n      <th>02</th>\n      <th>03</th>\n      <th>04</th>\n      <th>05</th>\n      <th>06</th>\n      <th>07</th>\n      <th>08</th>\n      <th>09</th>\n      <th>10</th>\n      <th>11</th>\n      <th>12</th>\n    </tr>\n    <tr>\n      <th>Year</th>\n      <th></th>\n      <th></th>\n      <th></th>\n      <th></th>\n      <th></th>\n      <th></th>\n      <th></th>\n      <th></th>\n      <th></th>\n      <th></th>\n      <th></th>\n      <th></th>\n    </tr>\n  </thead>\n  <tbody>\n    <tr>\n      <th>2000</th>\n      <td>NaN</td>\n      <td>NaN</td>\n      <td>11.800000</td>\n      <td>13.750000</td>\n      <td>14.625000</td>\n      <td>15.866667</td>\n      <td>15.400000</td>\n      <td>16.025000</td>\n      <td>17.400000</td>\n      <td>14.725000</td>\n      <td>10.833333</td>\n      <td>11.900000</td>\n    </tr>\n    <tr>\n      <th>2001</th>\n      <td>10.025000</td>\n      <td>10.675000</td>\n      <td>12.575000</td>\n      <td>11.050000</td>\n      <td>15.450000</td>\n      <td>15.700000</td>\n      <td>15.925000</td>\n      <td>15.925000</td>\n      <td>15.975000</td>\n      <td>15.700000</td>\n      <td>13.216667</td>\n      <td>10.666667</td>\n    </tr>\n    <tr>\n      <th>2002</th>\n      <td>8.866667</td>\n      <td>11.685714</td>\n      <td>11.433333</td>\n      <td>12.560000</td>\n      <td>13.066667</td>\n      <td>14.542857</td>\n      <td>16.085714</td>\n      <td>16.428571</td>\n      <td>17.000000</td>\n      <td>14.871429</td>\n      <td>14.514286</td>\n      <td>11.414286</td>\n    </tr>\n    <tr>\n      <th>2003</th>\n      <td>13.571429</td>\n      <td>11.228571</td>\n      <td>12.485714</td>\n      <td>11.916667</td>\n      <td>14.050000</td>\n      <td>15.960000</td>\n      <td>16.800000</td>\n      <td>17.828571</td>\n      <td>18.342857</td>\n      <td>16.557143</td>\n      <td>12.000000</td>\n      <td>11.428571</td>\n    </tr>\n    <tr>\n      <th>2004</th>\n      <td>10.033333</td>\n      <td>10.785714</td>\n      <td>14.542857</td>\n      <td>13.771429</td>\n      <td>14.428571</td>\n      <td>15.085714</td>\n      <td>16.700000</td>\n      <td>17.760000</td>\n      <td>17.880000</td>\n      <td>15.140000</td>\n      <td>12.285714</td>\n      <td>11.228571</td>\n    </tr>\n  </tbody>\n</table>\n</div>"
     },
     "metadata": {},
     "execution_count": 114
    }
   ],
   "source": [
    "monterey_yr_mo_avg_pivot.head()"
   ]
  },
  {
   "cell_type": "code",
   "execution_count": 115,
   "metadata": {},
   "outputs": [],
   "source": [
    "Sacramento=pd.read_csv(\"Raw_Data/grouped_dates_sacramento_avg.csv\")\n",
    "sacramento_df=pd.DataFrame(Sacramento)\n",
    "Sandiego=pd.read_csv(\"Raw_Data/grouped_dates_sandiego_avg.csv\")\n",
    "sandiego_df=Sandiego\n",
    "Santamaria=pd.read_csv(\"Raw_Data/grouped_dates_santamaria_avg.csv\")\n",
    "santamaria_df=Santamaria\n",
    "Santa_rosa=pd.read_csv(\"Raw_Data/grouped_dates_santarosa_avg.csv\")\n",
    "santarosa_df=Santa_rosa\n",
    "Stockton=pd.read_csv(\"Raw_Data/grouped_dates_stockton_avg.csv\")\n",
    "stockton_df=Stockton"
   ]
  },
  {
   "cell_type": "code",
   "execution_count": 121,
   "metadata": {},
   "outputs": [],
   "source": [
    "sacramento_df[['Year', 'Month']]=sacramento_df['DATE'].str.split('-',1,expand=True)\n",
    "sacramento_yr_mo_avg=sacramento_df[['Year','Month','TAVG']]\n",
    "sacramento_yr_mo_avg_pivot=sacramento_yr_mo_avg.pivot(index='Year', columns='Month', values=['TAVG'])"
   ]
  },
  {
   "cell_type": "code",
   "execution_count": 128,
   "metadata": {},
   "outputs": [
    {
     "output_type": "execute_result",
     "data": {
      "text/plain": [
       "            TAVG                                                         \\\n",
       "Month         01         02         03         04         05         06   \n",
       "Year                                                                      \n",
       "2000    9.466667  11.000000  13.266667  16.433333  19.433333  23.633333   \n",
       "2001    7.966667   9.566667  14.433333  13.933333  22.800000  23.500000   \n",
       "2002    7.333333  10.633333  11.733333  15.100000  18.766667  23.166667   \n",
       "2003   10.466667  10.233333  13.500000  12.600000  18.766667  23.033333   \n",
       "2004    8.366667  10.533333  15.800000  17.166667  19.800000  22.966667   \n",
       "\n",
       "                                                                        \n",
       "Month         07         08         09         10         11        12  \n",
       "Year                                                                    \n",
       "2000   23.000000  23.933333  22.033333  16.666667   9.333333  8.633333  \n",
       "2001   23.633333  24.200000  22.200000  19.066667  13.466667  9.400000  \n",
       "2002   25.066667  23.600000  22.966667  17.200000  12.600000  9.900000  \n",
       "2003   26.766667  24.333333  23.500000  19.400000  10.766667  9.600000  \n",
       "2004   24.566667  24.666667  22.500000  17.000000  10.933333  8.466667  "
      ],
      "text/html": "<div>\n<style scoped>\n    .dataframe tbody tr th:only-of-type {\n        vertical-align: middle;\n    }\n\n    .dataframe tbody tr th {\n        vertical-align: top;\n    }\n\n    .dataframe thead tr th {\n        text-align: left;\n    }\n\n    .dataframe thead tr:last-of-type th {\n        text-align: right;\n    }\n</style>\n<table border=\"1\" class=\"dataframe\">\n  <thead>\n    <tr>\n      <th></th>\n      <th colspan=\"12\" halign=\"left\">TAVG</th>\n    </tr>\n    <tr>\n      <th>Month</th>\n      <th>01</th>\n      <th>02</th>\n      <th>03</th>\n      <th>04</th>\n      <th>05</th>\n      <th>06</th>\n      <th>07</th>\n      <th>08</th>\n      <th>09</th>\n      <th>10</th>\n      <th>11</th>\n      <th>12</th>\n    </tr>\n    <tr>\n      <th>Year</th>\n      <th></th>\n      <th></th>\n      <th></th>\n      <th></th>\n      <th></th>\n      <th></th>\n      <th></th>\n      <th></th>\n      <th></th>\n      <th></th>\n      <th></th>\n      <th></th>\n    </tr>\n  </thead>\n  <tbody>\n    <tr>\n      <th>2000</th>\n      <td>9.466667</td>\n      <td>11.000000</td>\n      <td>13.266667</td>\n      <td>16.433333</td>\n      <td>19.433333</td>\n      <td>23.633333</td>\n      <td>23.000000</td>\n      <td>23.933333</td>\n      <td>22.033333</td>\n      <td>16.666667</td>\n      <td>9.333333</td>\n      <td>8.633333</td>\n    </tr>\n    <tr>\n      <th>2001</th>\n      <td>7.966667</td>\n      <td>9.566667</td>\n      <td>14.433333</td>\n      <td>13.933333</td>\n      <td>22.800000</td>\n      <td>23.500000</td>\n      <td>23.633333</td>\n      <td>24.200000</td>\n      <td>22.200000</td>\n      <td>19.066667</td>\n      <td>13.466667</td>\n      <td>9.400000</td>\n    </tr>\n    <tr>\n      <th>2002</th>\n      <td>7.333333</td>\n      <td>10.633333</td>\n      <td>11.733333</td>\n      <td>15.100000</td>\n      <td>18.766667</td>\n      <td>23.166667</td>\n      <td>25.066667</td>\n      <td>23.600000</td>\n      <td>22.966667</td>\n      <td>17.200000</td>\n      <td>12.600000</td>\n      <td>9.900000</td>\n    </tr>\n    <tr>\n      <th>2003</th>\n      <td>10.466667</td>\n      <td>10.233333</td>\n      <td>13.500000</td>\n      <td>12.600000</td>\n      <td>18.766667</td>\n      <td>23.033333</td>\n      <td>26.766667</td>\n      <td>24.333333</td>\n      <td>23.500000</td>\n      <td>19.400000</td>\n      <td>10.766667</td>\n      <td>9.600000</td>\n    </tr>\n    <tr>\n      <th>2004</th>\n      <td>8.366667</td>\n      <td>10.533333</td>\n      <td>15.800000</td>\n      <td>17.166667</td>\n      <td>19.800000</td>\n      <td>22.966667</td>\n      <td>24.566667</td>\n      <td>24.666667</td>\n      <td>22.500000</td>\n      <td>17.000000</td>\n      <td>10.933333</td>\n      <td>8.466667</td>\n    </tr>\n  </tbody>\n</table>\n</div>"
     },
     "metadata": {},
     "execution_count": 128
    }
   ],
   "source": [
    "sacramento_yr_mo_avg_pivot.head()"
   ]
  },
  {
   "cell_type": "code",
   "execution_count": 123,
   "metadata": {},
   "outputs": [],
   "source": [
    "sandiego_df[['Year', 'Month']]=sandiego_df['DATE'].str.split('-',1,expand=True)\n",
    "sandiego_yr_mo_avg=sandiego_df[['Year','Month','TAVG']]\n",
    "sandiego_yr_mo_avg_pivot=sandiego_yr_mo_avg.pivot(index='Year', columns='Month', values=['TAVG'])"
   ]
  },
  {
   "cell_type": "code",
   "execution_count": 129,
   "metadata": {},
   "outputs": [
    {
     "output_type": "execute_result",
     "data": {
      "text/plain": [
       "            TAVG                                                         \\\n",
       "Month         01         02         03         04         05         06   \n",
       "Year                                                                      \n",
       "2000   13.658824  13.406667  13.368750  16.481250  18.740000  21.021429   \n",
       "2001   11.022222  11.255556  14.042105  13.752632  18.505263  20.794444   \n",
       "2002   11.868182  13.495000  12.829412  14.795000  16.563158  19.244444   \n",
       "2003   15.664706  13.336842  14.194737  13.673684  16.688889  18.733333   \n",
       "2004   12.252632  11.678947  16.300000  16.364706  19.029412  19.287500   \n",
       "\n",
       "                                                                         \n",
       "Month         07         08         09         10         11         12  \n",
       "Year                                                                     \n",
       "2000   21.852941  23.529412  21.922222  17.300000  13.029412  13.964706  \n",
       "2001   21.476190  22.566667  21.500000  19.131579  15.221053  11.342105  \n",
       "2002   21.463158  21.566667  22.066667  17.100000  16.605263  11.778947  \n",
       "2003   23.178947  24.315000  22.300000  20.486667  14.440000  12.300000  \n",
       "2004   22.680000  22.378947  22.406250  17.443750  13.372222  12.817647  "
      ],
      "text/html": "<div>\n<style scoped>\n    .dataframe tbody tr th:only-of-type {\n        vertical-align: middle;\n    }\n\n    .dataframe tbody tr th {\n        vertical-align: top;\n    }\n\n    .dataframe thead tr th {\n        text-align: left;\n    }\n\n    .dataframe thead tr:last-of-type th {\n        text-align: right;\n    }\n</style>\n<table border=\"1\" class=\"dataframe\">\n  <thead>\n    <tr>\n      <th></th>\n      <th colspan=\"12\" halign=\"left\">TAVG</th>\n    </tr>\n    <tr>\n      <th>Month</th>\n      <th>01</th>\n      <th>02</th>\n      <th>03</th>\n      <th>04</th>\n      <th>05</th>\n      <th>06</th>\n      <th>07</th>\n      <th>08</th>\n      <th>09</th>\n      <th>10</th>\n      <th>11</th>\n      <th>12</th>\n    </tr>\n    <tr>\n      <th>Year</th>\n      <th></th>\n      <th></th>\n      <th></th>\n      <th></th>\n      <th></th>\n      <th></th>\n      <th></th>\n      <th></th>\n      <th></th>\n      <th></th>\n      <th></th>\n      <th></th>\n    </tr>\n  </thead>\n  <tbody>\n    <tr>\n      <th>2000</th>\n      <td>13.658824</td>\n      <td>13.406667</td>\n      <td>13.368750</td>\n      <td>16.481250</td>\n      <td>18.740000</td>\n      <td>21.021429</td>\n      <td>21.852941</td>\n      <td>23.529412</td>\n      <td>21.922222</td>\n      <td>17.300000</td>\n      <td>13.029412</td>\n      <td>13.964706</td>\n    </tr>\n    <tr>\n      <th>2001</th>\n      <td>11.022222</td>\n      <td>11.255556</td>\n      <td>14.042105</td>\n      <td>13.752632</td>\n      <td>18.505263</td>\n      <td>20.794444</td>\n      <td>21.476190</td>\n      <td>22.566667</td>\n      <td>21.500000</td>\n      <td>19.131579</td>\n      <td>15.221053</td>\n      <td>11.342105</td>\n    </tr>\n    <tr>\n      <th>2002</th>\n      <td>11.868182</td>\n      <td>13.495000</td>\n      <td>12.829412</td>\n      <td>14.795000</td>\n      <td>16.563158</td>\n      <td>19.244444</td>\n      <td>21.463158</td>\n      <td>21.566667</td>\n      <td>22.066667</td>\n      <td>17.100000</td>\n      <td>16.605263</td>\n      <td>11.778947</td>\n    </tr>\n    <tr>\n      <th>2003</th>\n      <td>15.664706</td>\n      <td>13.336842</td>\n      <td>14.194737</td>\n      <td>13.673684</td>\n      <td>16.688889</td>\n      <td>18.733333</td>\n      <td>23.178947</td>\n      <td>24.315000</td>\n      <td>22.300000</td>\n      <td>20.486667</td>\n      <td>14.440000</td>\n      <td>12.300000</td>\n    </tr>\n    <tr>\n      <th>2004</th>\n      <td>12.252632</td>\n      <td>11.678947</td>\n      <td>16.300000</td>\n      <td>16.364706</td>\n      <td>19.029412</td>\n      <td>19.287500</td>\n      <td>22.680000</td>\n      <td>22.378947</td>\n      <td>22.406250</td>\n      <td>17.443750</td>\n      <td>13.372222</td>\n      <td>12.817647</td>\n    </tr>\n  </tbody>\n</table>\n</div>"
     },
     "metadata": {},
     "execution_count": 129
    }
   ],
   "source": [
    "sandiego_yr_mo_avg_pivot.head()"
   ]
  },
  {
   "cell_type": "code",
   "execution_count": 124,
   "metadata": {},
   "outputs": [],
   "source": [
    "santamaria_df[['Year', 'Month']]=santamaria_df['DATE'].str.split('-',1,expand=True)\n",
    "santamaria_yr_mo_avg=santamaria_df[['Year','Month','TAVG']]\n",
    "santamaria_yr_mo_avg_pivot=santamaria_yr_mo_avg.pivot(index='Year', columns='Month', values=['TAVG'])"
   ]
  },
  {
   "cell_type": "code",
   "execution_count": 130,
   "metadata": {},
   "outputs": [
    {
     "output_type": "execute_result",
     "data": {
      "text/plain": [
       "            TAVG                                                               \\\n",
       "Month         01    02         03         04         05         06         07   \n",
       "Year                                                                            \n",
       "2000   11.400000  11.8  12.100000  13.700000  14.700000  16.900000  16.200000   \n",
       "2001    9.500000  10.2  12.800000        NaN        NaN        NaN        NaN   \n",
       "2002    9.450000  12.7  11.500000  13.266667  13.733333  16.100000  18.350000   \n",
       "2003   14.500000  12.1  13.666667  12.633333  15.500000  16.666667  18.833333   \n",
       "2004   10.833333  10.9  15.050000  14.500000  16.033333  16.100000  17.800000   \n",
       "\n",
       "                                                         \n",
       "Month         08         09    10         11         12  \n",
       "Year                                                     \n",
       "2000   16.900000  17.700000  15.0  10.900000  12.100000  \n",
       "2001         NaN        NaN   NaN  14.150000  10.400000  \n",
       "2002   16.600000  17.000000  14.2  15.900000  11.466667  \n",
       "2003   18.833333  18.366667  19.0  13.166667  11.433333  \n",
       "2004   18.866667  19.433333  15.5  12.350000  13.033333  "
      ],
      "text/html": "<div>\n<style scoped>\n    .dataframe tbody tr th:only-of-type {\n        vertical-align: middle;\n    }\n\n    .dataframe tbody tr th {\n        vertical-align: top;\n    }\n\n    .dataframe thead tr th {\n        text-align: left;\n    }\n\n    .dataframe thead tr:last-of-type th {\n        text-align: right;\n    }\n</style>\n<table border=\"1\" class=\"dataframe\">\n  <thead>\n    <tr>\n      <th></th>\n      <th colspan=\"12\" halign=\"left\">TAVG</th>\n    </tr>\n    <tr>\n      <th>Month</th>\n      <th>01</th>\n      <th>02</th>\n      <th>03</th>\n      <th>04</th>\n      <th>05</th>\n      <th>06</th>\n      <th>07</th>\n      <th>08</th>\n      <th>09</th>\n      <th>10</th>\n      <th>11</th>\n      <th>12</th>\n    </tr>\n    <tr>\n      <th>Year</th>\n      <th></th>\n      <th></th>\n      <th></th>\n      <th></th>\n      <th></th>\n      <th></th>\n      <th></th>\n      <th></th>\n      <th></th>\n      <th></th>\n      <th></th>\n      <th></th>\n    </tr>\n  </thead>\n  <tbody>\n    <tr>\n      <th>2000</th>\n      <td>11.400000</td>\n      <td>11.8</td>\n      <td>12.100000</td>\n      <td>13.700000</td>\n      <td>14.700000</td>\n      <td>16.900000</td>\n      <td>16.200000</td>\n      <td>16.900000</td>\n      <td>17.700000</td>\n      <td>15.0</td>\n      <td>10.900000</td>\n      <td>12.100000</td>\n    </tr>\n    <tr>\n      <th>2001</th>\n      <td>9.500000</td>\n      <td>10.2</td>\n      <td>12.800000</td>\n      <td>NaN</td>\n      <td>NaN</td>\n      <td>NaN</td>\n      <td>NaN</td>\n      <td>NaN</td>\n      <td>NaN</td>\n      <td>NaN</td>\n      <td>14.150000</td>\n      <td>10.400000</td>\n    </tr>\n    <tr>\n      <th>2002</th>\n      <td>9.450000</td>\n      <td>12.7</td>\n      <td>11.500000</td>\n      <td>13.266667</td>\n      <td>13.733333</td>\n      <td>16.100000</td>\n      <td>18.350000</td>\n      <td>16.600000</td>\n      <td>17.000000</td>\n      <td>14.2</td>\n      <td>15.900000</td>\n      <td>11.466667</td>\n    </tr>\n    <tr>\n      <th>2003</th>\n      <td>14.500000</td>\n      <td>12.1</td>\n      <td>13.666667</td>\n      <td>12.633333</td>\n      <td>15.500000</td>\n      <td>16.666667</td>\n      <td>18.833333</td>\n      <td>18.833333</td>\n      <td>18.366667</td>\n      <td>19.0</td>\n      <td>13.166667</td>\n      <td>11.433333</td>\n    </tr>\n    <tr>\n      <th>2004</th>\n      <td>10.833333</td>\n      <td>10.9</td>\n      <td>15.050000</td>\n      <td>14.500000</td>\n      <td>16.033333</td>\n      <td>16.100000</td>\n      <td>17.800000</td>\n      <td>18.866667</td>\n      <td>19.433333</td>\n      <td>15.5</td>\n      <td>12.350000</td>\n      <td>13.033333</td>\n    </tr>\n  </tbody>\n</table>\n</div>"
     },
     "metadata": {},
     "execution_count": 130
    }
   ],
   "source": [
    "santamaria_yr_mo_avg_pivot.head()"
   ]
  },
  {
   "cell_type": "code",
   "execution_count": 131,
   "metadata": {},
   "outputs": [],
   "source": [
    "santarosa_df[['Year', 'Month']]=santarosa_df['DATE'].str.split('-',1,expand=True)\n",
    "santarosa_yr_mo_avg=santarosa_df[['Year','Month','TAVG']]\n",
    "santarosa_yr_mo_avg_pivot=santarosa_yr_mo_avg.pivot(index='Year', columns='Month', values=['TAVG'])"
   ]
  },
  {
   "cell_type": "code",
   "execution_count": 132,
   "metadata": {},
   "outputs": [
    {
     "output_type": "execute_result",
     "data": {
      "text/plain": [
       "            TAVG                                                         \\\n",
       "Month         01         02         03         04         05         06   \n",
       "Year                                                                      \n",
       "2000    9.671429  10.875000  12.285714  14.542857  17.033333  18.442857   \n",
       "2001    8.037500   9.333333  13.257143  12.200000  19.350000  20.375000   \n",
       "2002    8.162500  10.966667  11.285714  13.750000  15.362500  20.100000   \n",
       "2003   11.344444  10.425000  12.800000  11.177778  16.188889  19.414286   \n",
       "2004    9.100000   9.962500  15.555556  15.087500  16.950000  19.342857   \n",
       "\n",
       "                                                                        \n",
       "Month         07         08         09         10         11        12  \n",
       "Year                                                                    \n",
       "2000   18.925000  19.700000  19.757143  15.475000  10.228571  9.575000  \n",
       "2001   18.900000  20.344444  18.675000  17.875000  12.828571  9.487500  \n",
       "2002   20.342857  20.285714  19.750000  16.188889  13.288889  9.812500  \n",
       "2003   21.214286  20.800000  20.500000  18.314286  10.411111  9.162500  \n",
       "2004   20.287500  21.271429  20.942857  15.633333  11.587500  9.528571  "
      ],
      "text/html": "<div>\n<style scoped>\n    .dataframe tbody tr th:only-of-type {\n        vertical-align: middle;\n    }\n\n    .dataframe tbody tr th {\n        vertical-align: top;\n    }\n\n    .dataframe thead tr th {\n        text-align: left;\n    }\n\n    .dataframe thead tr:last-of-type th {\n        text-align: right;\n    }\n</style>\n<table border=\"1\" class=\"dataframe\">\n  <thead>\n    <tr>\n      <th></th>\n      <th colspan=\"12\" halign=\"left\">TAVG</th>\n    </tr>\n    <tr>\n      <th>Month</th>\n      <th>01</th>\n      <th>02</th>\n      <th>03</th>\n      <th>04</th>\n      <th>05</th>\n      <th>06</th>\n      <th>07</th>\n      <th>08</th>\n      <th>09</th>\n      <th>10</th>\n      <th>11</th>\n      <th>12</th>\n    </tr>\n    <tr>\n      <th>Year</th>\n      <th></th>\n      <th></th>\n      <th></th>\n      <th></th>\n      <th></th>\n      <th></th>\n      <th></th>\n      <th></th>\n      <th></th>\n      <th></th>\n      <th></th>\n      <th></th>\n    </tr>\n  </thead>\n  <tbody>\n    <tr>\n      <th>2000</th>\n      <td>9.671429</td>\n      <td>10.875000</td>\n      <td>12.285714</td>\n      <td>14.542857</td>\n      <td>17.033333</td>\n      <td>18.442857</td>\n      <td>18.925000</td>\n      <td>19.700000</td>\n      <td>19.757143</td>\n      <td>15.475000</td>\n      <td>10.228571</td>\n      <td>9.575000</td>\n    </tr>\n    <tr>\n      <th>2001</th>\n      <td>8.037500</td>\n      <td>9.333333</td>\n      <td>13.257143</td>\n      <td>12.200000</td>\n      <td>19.350000</td>\n      <td>20.375000</td>\n      <td>18.900000</td>\n      <td>20.344444</td>\n      <td>18.675000</td>\n      <td>17.875000</td>\n      <td>12.828571</td>\n      <td>9.487500</td>\n    </tr>\n    <tr>\n      <th>2002</th>\n      <td>8.162500</td>\n      <td>10.966667</td>\n      <td>11.285714</td>\n      <td>13.750000</td>\n      <td>15.362500</td>\n      <td>20.100000</td>\n      <td>20.342857</td>\n      <td>20.285714</td>\n      <td>19.750000</td>\n      <td>16.188889</td>\n      <td>13.288889</td>\n      <td>9.812500</td>\n    </tr>\n    <tr>\n      <th>2003</th>\n      <td>11.344444</td>\n      <td>10.425000</td>\n      <td>12.800000</td>\n      <td>11.177778</td>\n      <td>16.188889</td>\n      <td>19.414286</td>\n      <td>21.214286</td>\n      <td>20.800000</td>\n      <td>20.500000</td>\n      <td>18.314286</td>\n      <td>10.411111</td>\n      <td>9.162500</td>\n    </tr>\n    <tr>\n      <th>2004</th>\n      <td>9.100000</td>\n      <td>9.962500</td>\n      <td>15.555556</td>\n      <td>15.087500</td>\n      <td>16.950000</td>\n      <td>19.342857</td>\n      <td>20.287500</td>\n      <td>21.271429</td>\n      <td>20.942857</td>\n      <td>15.633333</td>\n      <td>11.587500</td>\n      <td>9.528571</td>\n    </tr>\n  </tbody>\n</table>\n</div>"
     },
     "metadata": {},
     "execution_count": 132
    }
   ],
   "source": [
    "santarosa_yr_mo_avg_pivot.head()"
   ]
  },
  {
   "cell_type": "code",
   "execution_count": 126,
   "metadata": {},
   "outputs": [],
   "source": [
    "stockton_df[['Year', 'Month']]=stockton_df['DATE'].str.split('-',1,expand=True)\n",
    "stockton_yr_mo_avg=stockton_df[['Year','Month','TAVG']]\n",
    "stockton_yr_mo_avg_pivot=stockton_yr_mo_avg.pivot(index='Year', columns='Month', values=['TAVG'])"
   ]
  },
  {
   "cell_type": "code",
   "execution_count": 133,
   "metadata": {},
   "outputs": [
    {
     "output_type": "execute_result",
     "data": {
      "text/plain": [
       "            TAVG                                                     \\\n",
       "Month         01         02         03     04         05         06   \n",
       "Year                                                                  \n",
       "2000    9.866667  11.600000  13.166667  16.10  18.933333  23.166667   \n",
       "2001    7.200000   9.700000  13.966667  13.60  22.100000  23.433333   \n",
       "2002    7.033333  10.633333  11.950000  15.15  18.600000  23.000000   \n",
       "2003   10.100000  10.200000  13.433333  13.40  18.950000  22.733333   \n",
       "2004    8.133333  10.233333  15.800000  17.00  19.766667  22.766667   \n",
       "\n",
       "                                                                    \n",
       "Month         07     08         09         10         11        12  \n",
       "Year                                                                \n",
       "2000   22.633333  23.95  22.066667  16.866667   9.566667  8.266667  \n",
       "2001   23.650000  24.20  22.133333  19.000000  12.966667  8.966667  \n",
       "2002   24.600000  23.10  23.033333  17.533333  12.233333  9.300000  \n",
       "2003   25.966667  23.90  23.300000  19.966667  11.100000  9.500000  \n",
       "2004   24.233333  24.20  22.533333  16.700000  10.633333  8.233333  "
      ],
      "text/html": "<div>\n<style scoped>\n    .dataframe tbody tr th:only-of-type {\n        vertical-align: middle;\n    }\n\n    .dataframe tbody tr th {\n        vertical-align: top;\n    }\n\n    .dataframe thead tr th {\n        text-align: left;\n    }\n\n    .dataframe thead tr:last-of-type th {\n        text-align: right;\n    }\n</style>\n<table border=\"1\" class=\"dataframe\">\n  <thead>\n    <tr>\n      <th></th>\n      <th colspan=\"12\" halign=\"left\">TAVG</th>\n    </tr>\n    <tr>\n      <th>Month</th>\n      <th>01</th>\n      <th>02</th>\n      <th>03</th>\n      <th>04</th>\n      <th>05</th>\n      <th>06</th>\n      <th>07</th>\n      <th>08</th>\n      <th>09</th>\n      <th>10</th>\n      <th>11</th>\n      <th>12</th>\n    </tr>\n    <tr>\n      <th>Year</th>\n      <th></th>\n      <th></th>\n      <th></th>\n      <th></th>\n      <th></th>\n      <th></th>\n      <th></th>\n      <th></th>\n      <th></th>\n      <th></th>\n      <th></th>\n      <th></th>\n    </tr>\n  </thead>\n  <tbody>\n    <tr>\n      <th>2000</th>\n      <td>9.866667</td>\n      <td>11.600000</td>\n      <td>13.166667</td>\n      <td>16.10</td>\n      <td>18.933333</td>\n      <td>23.166667</td>\n      <td>22.633333</td>\n      <td>23.95</td>\n      <td>22.066667</td>\n      <td>16.866667</td>\n      <td>9.566667</td>\n      <td>8.266667</td>\n    </tr>\n    <tr>\n      <th>2001</th>\n      <td>7.200000</td>\n      <td>9.700000</td>\n      <td>13.966667</td>\n      <td>13.60</td>\n      <td>22.100000</td>\n      <td>23.433333</td>\n      <td>23.650000</td>\n      <td>24.20</td>\n      <td>22.133333</td>\n      <td>19.000000</td>\n      <td>12.966667</td>\n      <td>8.966667</td>\n    </tr>\n    <tr>\n      <th>2002</th>\n      <td>7.033333</td>\n      <td>10.633333</td>\n      <td>11.950000</td>\n      <td>15.15</td>\n      <td>18.600000</td>\n      <td>23.000000</td>\n      <td>24.600000</td>\n      <td>23.10</td>\n      <td>23.033333</td>\n      <td>17.533333</td>\n      <td>12.233333</td>\n      <td>9.300000</td>\n    </tr>\n    <tr>\n      <th>2003</th>\n      <td>10.100000</td>\n      <td>10.200000</td>\n      <td>13.433333</td>\n      <td>13.40</td>\n      <td>18.950000</td>\n      <td>22.733333</td>\n      <td>25.966667</td>\n      <td>23.90</td>\n      <td>23.300000</td>\n      <td>19.966667</td>\n      <td>11.100000</td>\n      <td>9.500000</td>\n    </tr>\n    <tr>\n      <th>2004</th>\n      <td>8.133333</td>\n      <td>10.233333</td>\n      <td>15.800000</td>\n      <td>17.00</td>\n      <td>19.766667</td>\n      <td>22.766667</td>\n      <td>24.233333</td>\n      <td>24.20</td>\n      <td>22.533333</td>\n      <td>16.700000</td>\n      <td>10.633333</td>\n      <td>8.233333</td>\n    </tr>\n  </tbody>\n</table>\n</div>"
     },
     "metadata": {},
     "execution_count": 133
    }
   ],
   "source": [
    "stockton_yr_mo_avg_pivot.head()"
   ]
  },
  {
   "cell_type": "code",
   "execution_count": null,
   "metadata": {},
   "outputs": [],
   "source": []
  }
 ]
}