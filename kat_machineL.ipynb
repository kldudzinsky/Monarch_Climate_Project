{
 "cells": [
  {
   "cell_type": "code",
   "execution_count": 1,
   "metadata": {},
   "outputs": [],
   "source": [
    "import pandas as pd\n",
    "from sklearn.model_selection import train_test_split\n",
    "from sklearn.preprocessing import MinMaxScaler\n",
    "from sklearn.linear_model import LogisticRegression\n",
    "from sklearn.model_selection import GridSearchCV\n",
    "from sklearn.metrics import explained_variance_score, \\\n",
    "    mean_absolute_error, \\\n",
    "    median_absolute_error\n",
    "\n",
    "import joblib\n",
    "import matplotlib.pyplot as plt      \n",
    "import numpy as np        \n",
    "import pandas\n",
    "import matplotlib as plt\n",
    "import matplotlib.pyplot as plt\n",
    "from os import listdir\n",
    "from os.path import isfile, join\n",
    "import csv\n",
    "from datetime import date, timedelta\n",
    "from collections import defaultdict\n",
    "\n"
   ]
  },
  {
   "cell_type": "code",
   "execution_count": 2,
   "metadata": {},
   "outputs": [],
   "source": [
    "Path=\"Raw_Data/grouped_dates_monterey_avg.csv\"\n",
    "df=pd.read_csv(Path)\n",
    "monterey_df=pd.DataFrame(df)\n"
   ]
  },
  {
   "cell_type": "code",
   "execution_count": 3,
   "metadata": {},
   "outputs": [],
   "source": [
    "#monterey_df.head()"
   ]
  },
  {
   "cell_type": "code",
   "execution_count": 4,
   "metadata": {},
   "outputs": [],
   "source": [
    "#monterey_df[['Year', 'Month']]=monterey_df['DATE'].str.split('-',1,expand=True)"
   ]
  },
  {
   "cell_type": "code",
   "execution_count": 5,
   "metadata": {},
   "outputs": [],
   "source": [
    "#monterey_yr_mo_avg=monterey_df[['Year','Month','TAVG']]"
   ]
  },
  {
   "cell_type": "code",
   "execution_count": 6,
   "metadata": {},
   "outputs": [],
   "source": [
    "#monterey_yr_mo_avg_pivot=monterey_yr_mo_avg.pivot(index='Year', columns='Month', values=['TAVG'])\n"
   ]
  },
  {
   "cell_type": "code",
   "execution_count": 7,
   "metadata": {},
   "outputs": [],
   "source": [
    "#monterey_yr_mo_avg_pivot.head()"
   ]
  },
  {
   "cell_type": "code",
   "execution_count": 8,
   "metadata": {},
   "outputs": [],
   "source": [
    "#monterey_yr_mo_avg_pivot.columns=monterey_yr_mo_avg_pivot.columns.droplevel(0)"
   ]
  },
  {
   "cell_type": "code",
   "execution_count": 9,
   "metadata": {},
   "outputs": [],
   "source": [
    "#monterey_butterfly_count=(20000,31203,11593,68979,54481,37540,59957,15426,31063,4735,8634,27788,29048,35772,55879,27945,64974,33657,1890,2792,58)\n",
    "\n",
    "#monterey_yr_mo_avg_pivot['Count']=monterey_butterfly_count"
   ]
  },
  {
   "cell_type": "code",
   "execution_count": 10,
   "metadata": {},
   "outputs": [],
   "source": [
    "#monterey_yr_mo_avg_pivot.head()"
   ]
  },
  {
   "cell_type": "code",
   "execution_count": 11,
   "metadata": {},
   "outputs": [],
   "source": [
    "#monterey_on_season=monterey_yr_mo_avg_pivot[['11','12','01','02','03','Count']]\n"
   ]
  },
  {
   "cell_type": "code",
   "execution_count": 12,
   "metadata": {},
   "outputs": [],
   "source": [
    "\n",
    "#monterey_off_season=monterey_yr_mo_avg_pivot[['04','05','06','07','08']]"
   ]
  },
  {
   "cell_type": "code",
   "execution_count": 13,
   "metadata": {},
   "outputs": [],
   "source": [
    "#monterey_on_season.head()"
   ]
  },
  {
   "cell_type": "code",
   "execution_count": 14,
   "metadata": {},
   "outputs": [],
   "source": [
    "#monterey_on_season['Y/N']=[1,1,1,1,1,1,1,1,1,1,1,1,1,1,1,1,1,1,1,1,1]\n"
   ]
  },
  {
   "cell_type": "code",
   "execution_count": 15,
   "metadata": {},
   "outputs": [],
   "source": [
    "#monterey_on_season['bad_count']=('0')"
   ]
  },
  {
   "cell_type": "code",
   "execution_count": 16,
   "metadata": {},
   "outputs": [],
   "source": [
    "#monterey_off_season['Count']=(0,0,0,0,0,0,0,0,0,0,0,0,0,0,0,0,0,0,0,0,0)"
   ]
  },
  {
   "cell_type": "code",
   "execution_count": 17,
   "metadata": {},
   "outputs": [],
   "source": [
    "#monterey_off_season['Y/N']=[1,1,1,1,1,1,1,1,1,1,1,1,1,1,1,1,1,1,1,1,1]\n",
    "#monterey_off_season.head()"
   ]
  },
  {
   "cell_type": "code",
   "execution_count": 18,
   "metadata": {},
   "outputs": [],
   "source": [
    "#monterey_off_season=monterey_off_season.dropna()"
   ]
  },
  {
   "cell_type": "code",
   "execution_count": 19,
   "metadata": {},
   "outputs": [],
   "source": [
    "#insert bad data column\n",
    "#monterey_off_season['bad_count']=('400')"
   ]
  },
  {
   "cell_type": "code",
   "execution_count": 20,
   "metadata": {},
   "outputs": [],
   "source": [
    "#monterey_off_season.head()"
   ]
  },
  {
   "cell_type": "code",
   "execution_count": 21,
   "metadata": {},
   "outputs": [],
   "source": [
    "#monterey_on_season.head()"
   ]
  },
  {
   "cell_type": "code",
   "execution_count": 22,
   "metadata": {},
   "outputs": [],
   "source": [
    "#monterey_on_season=monterey_on_season.rename(columns={'11':'month_1','12':'month_2','01':\"month_3\",'02':'month_4','03':'month_5'})\n",
    "#montere_off_season=monterey_off_season.rename(columns={'04':'month_1','05':'month_2','06':'month_3','07':'month_4','08':'month_5'})"
   ]
  },
  {
   "cell_type": "code",
   "execution_count": 23,
   "metadata": {},
   "outputs": [],
   "source": [
    "#monterey_on_season=monterey_on_season.dropna()\n"
   ]
  },
  {
   "cell_type": "code",
   "execution_count": 24,
   "metadata": {},
   "outputs": [],
   "source": [
    "#good_data_monterey=pd.concat([montere_off_season,monterey_on_season])"
   ]
  },
  {
   "cell_type": "code",
   "execution_count": 25,
   "metadata": {},
   "outputs": [],
   "source": [
    "#good_data_monterey=good_data_monterey.rename(columns={\"Y/N\": \"Y\"})"
   ]
  },
  {
   "cell_type": "code",
   "execution_count": 26,
   "metadata": {},
   "outputs": [],
   "source": [
    "##good_data_monterey=good_data_monterey.dropna()"
   ]
  },
  {
   "cell_type": "code",
   "execution_count": 27,
   "metadata": {},
   "outputs": [],
   "source": [
    "#good_data_monterey=good_data_monterey.reset_index()"
   ]
  },
  {
   "cell_type": "code",
   "execution_count": 28,
   "metadata": {},
   "outputs": [],
   "source": [
    "##good_data_monterey=good_data_monterey.dropna()"
   ]
  },
  {
   "cell_type": "code",
   "execution_count": 29,
   "metadata": {},
   "outputs": [],
   "source": [
    "#good_data_monterey.head()"
   ]
  },
  {
   "cell_type": "code",
   "execution_count": 30,
   "metadata": {},
   "outputs": [],
   "source": [
    "#good_data_monterey['N']=('0')"
   ]
  },
  {
   "cell_type": "code",
   "execution_count": 31,
   "metadata": {},
   "outputs": [],
   "source": [
    "#all_good_bad_data_monterey=good_data_monterey\n",
    "#all_good_bad_data_monterey.head()"
   ]
  },
  {
   "cell_type": "code",
   "execution_count": 32,
   "metadata": {},
   "outputs": [],
   "source": [
    "#bad_data=all_good_bad_data_monterey[['Year','month_1','month_2','month_3','month_4','month_5','bad_count','N']]\n",
    "#good_data=all_good_bad_data_monterey[['Year','month_1','month_2','month_3','month_4','month_5','Count','Y']]"
   ]
  },
  {
   "cell_type": "code",
   "execution_count": 33,
   "metadata": {},
   "outputs": [],
   "source": [
    "#bad_data=bad_data.rename(columns={'N':'Y'})\n"
   ]
  },
  {
   "cell_type": "code",
   "execution_count": 34,
   "metadata": {},
   "outputs": [],
   "source": [
    "#bad_data=bad_data.rename(columns={'bad_count':'Count'})\n"
   ]
  },
  {
   "cell_type": "code",
   "execution_count": 35,
   "metadata": {},
   "outputs": [],
   "source": [
    "#total_monterey=pd.concat([good_data,bad_data])"
   ]
  },
  {
   "cell_type": "code",
   "execution_count": 36,
   "metadata": {},
   "outputs": [],
   "source": [
    "#total_monterey"
   ]
  },
  {
   "cell_type": "code",
   "execution_count": 37,
   "metadata": {},
   "outputs": [],
   "source": [
    "from sklearn.utils import shuffle\n",
    "#monterey_shuffle=shuffle(total_monterey)"
   ]
  },
  {
   "cell_type": "code",
   "execution_count": 38,
   "metadata": {},
   "outputs": [],
   "source": [
    "#monterey_shuffle"
   ]
  },
  {
   "cell_type": "code",
   "execution_count": 39,
   "metadata": {},
   "outputs": [],
   "source": [
    "# from sklearn.utils import shuffle\n",
    "# monterey_shuffle=shuffle(total_monterey)\n",
    "# monterey_shuffle[['Count','Y']]=monterey_shuffle[['Count','Y']].astype(int)\n",
    "# monterey_shuffle.dtypes\n",
    "# X=monterey_shuffle[['month_1','month_2','month_3','month_4','month_5','Count','Y']]\n",
    "# y=monterey_shuffle['Count']\n",
    "# X.values,y.values\n",
    "# from sklearn.linear_model import LogisticRegression\n",
    "\n",
    "# X_train, X_test, y_train, y_test = train_test_split(X, y, random_state=1)\n",
    "# classifier = LogisticRegression()\n",
    "# classifier\n",
    "# classifier.fit(X_train, y_train)\n",
    "\n",
    "# # Create a StandardScater model and fit it to the training data\n",
    "# from sklearn.preprocessing import StandardScaler\n",
    "# X_scaler = StandardScaler().fit(X_train)\n",
    "# X_train_scaled = X_scaler.transform(X_train)\n",
    "# X_test_scaled = X_scaler.transform(X_test)\n",
    "# print(f\"Training Data Score: {classifier.score(X_train, y_train)}\")\n",
    "# print(f\"Testing Data Score: {classifier.score(X_test, y_test)}\")"
   ]
  },
  {
   "cell_type": "code",
   "execution_count": 40,
   "metadata": {},
   "outputs": [],
   "source": [
    "# #good data\n",
    "# X=monterey_shuffle[['month_1','month_2','month_3','month_4','month_5','Count','Y']]\n",
    "# y=monterey_shuffle['Count']\n"
   ]
  },
  {
   "cell_type": "code",
   "execution_count": 41,
   "metadata": {},
   "outputs": [],
   "source": [
    "# X.values,y.values\n"
   ]
  },
  {
   "cell_type": "code",
   "execution_count": 42,
   "metadata": {},
   "outputs": [],
   "source": [
    "# from sklearn.linear_model import LogisticRegression\n",
    "\n",
    "# X_train, X_test, y_train, y_test = train_test_split(X, y, random_state=1)\n"
   ]
  },
  {
   "cell_type": "code",
   "execution_count": 43,
   "metadata": {},
   "outputs": [],
   "source": [
    "# classifier = LogisticRegression()\n",
    "# classifier"
   ]
  },
  {
   "cell_type": "code",
   "execution_count": 44,
   "metadata": {},
   "outputs": [],
   "source": [
    "# classifier.fit(X_train, y_train)"
   ]
  },
  {
   "cell_type": "code",
   "execution_count": 45,
   "metadata": {},
   "outputs": [],
   "source": [
    "# # Create a StandardScater model and fit it to the training data\n",
    "# from sklearn.preprocessing import StandardScaler\n",
    "# X_scaler = StandardScaler().fit(X_train)\n",
    "# X_train_scaled = X_scaler.transform(X_train)\n",
    "# X_test_scaled = X_scaler.transform(X_test)"
   ]
  },
  {
   "cell_type": "code",
   "execution_count": 46,
   "metadata": {},
   "outputs": [],
   "source": [
    "# print(f\"Training Data Score: {classifier.score(X_train, y_train)}\")\n",
    "# print(f\"Testing Data Score: {classifier.score(X_test, y_test)}\")"
   ]
  },
  {
   "cell_type": "code",
   "execution_count": 47,
   "metadata": {},
   "outputs": [],
   "source": [
    "# #bad data\n",
    "# X=monterey_shuffle[['month_1','month_2','month_3','month_4','month_5','Count','Y']]\n",
    "# y=monterey_shuffle['Count']"
   ]
  },
  {
   "cell_type": "code",
   "execution_count": 48,
   "metadata": {},
   "outputs": [],
   "source": [
    "Sacramento=pd.read_csv(\"Raw_Data/grouped_dates_sacramento_avg.csv\")\n",
    "sacramento_df=pd.DataFrame(Sacramento)\n",
    "Sandiego=pd.read_csv(\"Raw_Data/grouped_dates_sandiego_avg.csv\")\n",
    "sandiego_df=pd.DataFrame(Sandiego)\n",
    "Santamaria=pd.read_csv(\"Raw_Data/grouped_dates_santamaria_avg.csv\")\n",
    "santamaria_df=pd.DataFrame(Santamaria)\n",
    "Santa_rosa=pd.read_csv(\"Raw_Data/grouped_dates_santarosa_avg.csv\")\n",
    "santarosa_df=pd.DataFrame(Santa_rosa)\n",
    "Stockton=pd.read_csv(\"Raw_Data/grouped_dates_stockton_avg.csv\")\n",
    "stockton_df=pd.DataFrame(Stockton)\n",
    "Sanfran1=pd.read_csv(\"Raw_Data/Rahwa/SanFrancisco/SanFran1.csv\")\n",
    "San_fran1=pd.DataFrame(Sanfran1)\n",
    "Sanfran2=pd.read_csv(\"Raw_Data/Rahwa/SanFrancisco/SanFran2.csv\")\n",
    "San_fran2=pd.DataFrame(Sanfran2)\n",
    "Sanfran3=pd.read_csv(\"Raw_Data/Rahwa/SanFrancisco/SanFran3.csv\")\n",
    "san_fran3=pd.DataFrame(Sanfran3)\n",
    "sanjose1=pd.read_csv(\"Raw_Data/Rahwa/SanJose/SanJose1.csv\")\n",
    "san_jose1=pd.DataFrame(sanjose1)\n",
    "sanjose2=pd.read_csv(\"Raw_Data/Rahwa/SanJose/SanJose2.csv\")\n",
    "san_jose2=pd.DataFrame(sanjose2)\n",
    "sanjose3=pd.read_csv(\"Raw_Data/Rahwa/SanJose/SanJose3.csv\")\n",
    "san_jose3=pd.DataFrame(sanjose3)\n",
    "sanjose4=pd.read_csv(\"Raw_Data/Rahwa/SanJose/SanJose4.csv\")\n",
    "san_jose4=pd.DataFrame(sanjose4)\n",
    "#central: \n",
    "SanLuisObispo=pd.read_csv(\"Raw_Data/Rahwa/SanLuisObispo.csv\")\n",
    "SanLuis_df=pd.DataFrame(SanLuisObispo)\n",
    "    #monterey\n",
    "santacruz=pd.read_csv(\"Raw_Data/City_Info_All/Santa_Cruz.csv\")\n",
    "santa_cruz=pd.DataFrame(santacruz)\n",
    "#southern\n",
    "santabarbara=pd.read_csv(\"Raw_Data/City_Info_All/SantaBarbara.csv\")\n",
    "santa_barb=pd.DataFrame(santabarbara)\n",
    "LA=pd.read_csv(\"Raw_Data/City_Info_All/Los_Angeles.csv\")\n",
    "LA_df=pd.DataFrame(LA)\n",
    "#sandiego\n",
    "#santaana=anaheim\n",
    "santa_ana1=pd.read_csv(\"Raw_Data/Rahwa/Anaheim/Anaheim1.csv\")\n",
    "santa_ana2=pd.read_csv(\"Raw_Data/Rahwa/Anaheim/Anaheim2.csv\")\n",
    "\n",
    "\n",
    "\n"
   ]
  },
  {
   "cell_type": "code",
   "execution_count": 49,
   "metadata": {},
   "outputs": [],
   "source": [
    "santa_ana=pd.concat([santa_ana1,santa_ana2])"
   ]
  },
  {
   "cell_type": "code",
   "execution_count": 50,
   "metadata": {},
   "outputs": [],
   "source": [
    "def cleandata(data):\n",
    "    data.dropna(inplace=True)\n",
    "    groupdata=data.groupby([data.DATE]).mean()\n",
    "    groupdata.reset_index(inplace=True)\n",
    "    new_df=groupdata[['DATE','TAVG']]\n",
    "    return new_df"
   ]
  },
  {
   "cell_type": "code",
   "execution_count": 51,
   "metadata": {},
   "outputs": [],
   "source": [
    "#combine separate cities into single city\n",
    "sanfran0=pd.concat([San_fran1,San_fran2])\n",
    "Sanfran_combined=pd.concat([sanfran0,san_fran3])\n",
    "sanjose0=pd.concat([san_jose1,san_jose2])\n",
    "sanjose_0=pd.concat([sanjose0,san_jose3])\n",
    "sanjose_combined=pd.concat([sanjose_0,san_jose4])"
   ]
  },
  {
   "cell_type": "code",
   "execution_count": 52,
   "metadata": {},
   "outputs": [],
   "source": [
    "sanfran_clean=cleandata(Sanfran_combined)\n",
    "sanjose_clean=cleandata(sanjose_combined)\n",
    "santarosa_clean=cleandata(santarosa_df)"
   ]
  },
  {
   "cell_type": "code",
   "execution_count": null,
   "metadata": {},
   "outputs": [],
   "source": []
  },
  {
   "cell_type": "code",
   "execution_count": 53,
   "metadata": {},
   "outputs": [],
   "source": [
    "santa_cruz=santa_cruz[['DATE','TAVG']]"
   ]
  },
  {
   "cell_type": "code",
   "execution_count": 54,
   "metadata": {},
   "outputs": [],
   "source": [
    "sanluis_clean=cleandata(SanLuis_df)\n",
    "monterey_clean=cleandata(monterey_df)\n",
    "santa_cruz_clean=cleandata(santa_cruz)"
   ]
  },
  {
   "cell_type": "code",
   "execution_count": 55,
   "metadata": {},
   "outputs": [],
   "source": [
    "santabarbara_clean= cleandata(santa_barb)\n",
    "sandiego_clean = cleandata(sandiego_df)\n",
    "santaana_clean = cleandata(santa_ana)\n",
    "LA_clean=cleandata(LA_df)"
   ]
  },
  {
   "cell_type": "code",
   "execution_count": 56,
   "metadata": {},
   "outputs": [],
   "source": [
    "#Northern\n",
    "nothern_ca_0=pd.concat([sanfran_clean, sanjose_clean])\n",
    "northern_ca=pd.concat([nothern_ca_0, santarosa_clean])\n",
    "#Central\n",
    "central_ca0=pd.concat([sanluis_clean,santa_cruz_clean])\n",
    "central_ca=pd.concat([central_ca0, monterey_clean])\n",
    "#Southern \n",
    "south_0=pd.concat([santabarbara_clean,LA_clean])\n",
    "south_1=pd.concat([south_0,sandiego_clean])\n",
    "south_2=pd.concat([south_1, santaana_clean])\n",
    "\n"
   ]
  },
  {
   "cell_type": "code",
   "execution_count": 57,
   "metadata": {},
   "outputs": [],
   "source": [
    "#groupdata[['Year','Month']]=groupdata['DATE'].str.split('-', 1, expand=True)"
   ]
  },
  {
   "cell_type": "code",
   "execution_count": 58,
   "metadata": {},
   "outputs": [],
   "source": [
    "#groupby date \n",
    "northern_ca_grouped=northern_ca.groupby(['DATE']).mean()\n"
   ]
  },
  {
   "cell_type": "code",
   "execution_count": 59,
   "metadata": {},
   "outputs": [],
   "source": [
    "central_ca_grouped=central_ca.groupby(['DATE']).mean()\n",
    "southern_ca_grouped=south_2.groupby(['DATE']).mean()"
   ]
  },
  {
   "cell_type": "code",
   "execution_count": 60,
   "metadata": {},
   "outputs": [
    {
     "data": {
      "text/html": [
       "<div>\n",
       "<style scoped>\n",
       "    .dataframe tbody tr th:only-of-type {\n",
       "        vertical-align: middle;\n",
       "    }\n",
       "\n",
       "    .dataframe tbody tr th {\n",
       "        vertical-align: top;\n",
       "    }\n",
       "\n",
       "    .dataframe thead th {\n",
       "        text-align: right;\n",
       "    }\n",
       "</style>\n",
       "<table border=\"1\" class=\"dataframe\">\n",
       "  <thead>\n",
       "    <tr style=\"text-align: right;\">\n",
       "      <th></th>\n",
       "      <th>DATE</th>\n",
       "      <th>TAVG</th>\n",
       "    </tr>\n",
       "  </thead>\n",
       "  <tbody>\n",
       "    <tr>\n",
       "      <th>0</th>\n",
       "      <td>2000-01</td>\n",
       "      <td>9.671429</td>\n",
       "    </tr>\n",
       "    <tr>\n",
       "      <th>1</th>\n",
       "      <td>2000-02</td>\n",
       "      <td>10.875000</td>\n",
       "    </tr>\n",
       "    <tr>\n",
       "      <th>2</th>\n",
       "      <td>2000-03</td>\n",
       "      <td>12.285714</td>\n",
       "    </tr>\n",
       "    <tr>\n",
       "      <th>3</th>\n",
       "      <td>2000-04</td>\n",
       "      <td>14.542857</td>\n",
       "    </tr>\n",
       "    <tr>\n",
       "      <th>4</th>\n",
       "      <td>2000-05</td>\n",
       "      <td>17.033333</td>\n",
       "    </tr>\n",
       "    <tr>\n",
       "      <th>...</th>\n",
       "      <td>...</td>\n",
       "      <td>...</td>\n",
       "    </tr>\n",
       "    <tr>\n",
       "      <th>238</th>\n",
       "      <td>2019-11</td>\n",
       "      <td>34.259783</td>\n",
       "    </tr>\n",
       "    <tr>\n",
       "      <th>239</th>\n",
       "      <td>2019-12</td>\n",
       "      <td>30.109662</td>\n",
       "    </tr>\n",
       "    <tr>\n",
       "      <th>240</th>\n",
       "      <td>2020-01</td>\n",
       "      <td>29.252174</td>\n",
       "    </tr>\n",
       "    <tr>\n",
       "      <th>241</th>\n",
       "      <td>2020-02</td>\n",
       "      <td>33.137500</td>\n",
       "    </tr>\n",
       "    <tr>\n",
       "      <th>242</th>\n",
       "      <td>2020-03</td>\n",
       "      <td>31.375362</td>\n",
       "    </tr>\n",
       "  </tbody>\n",
       "</table>\n",
       "<p>243 rows × 2 columns</p>\n",
       "</div>"
      ],
      "text/plain": [
       "        DATE       TAVG\n",
       "0    2000-01   9.671429\n",
       "1    2000-02  10.875000\n",
       "2    2000-03  12.285714\n",
       "3    2000-04  14.542857\n",
       "4    2000-05  17.033333\n",
       "..       ...        ...\n",
       "238  2019-11  34.259783\n",
       "239  2019-12  30.109662\n",
       "240  2020-01  29.252174\n",
       "241  2020-02  33.137500\n",
       "242  2020-03  31.375362\n",
       "\n",
       "[243 rows x 2 columns]"
      ]
     },
     "execution_count": 60,
     "metadata": {},
     "output_type": "execute_result"
    }
   ],
   "source": [
    "northern_ca_grouped_reset=northern_ca_grouped.reset_index()\n",
    "northern_ca_grouped_reset"
   ]
  },
  {
   "cell_type": "code",
   "execution_count": 61,
   "metadata": {},
   "outputs": [],
   "source": [
    "central_ca_grouped_reset=central_ca_grouped.reset_index()\n",
    "southern_ca_grouped_reset=southern_ca_grouped.reset_index()"
   ]
  },
  {
   "cell_type": "code",
   "execution_count": 62,
   "metadata": {},
   "outputs": [],
   "source": [
    "#split date\n",
    "northern_ca_grouped_reset[['Year','Month']]=northern_ca_grouped_reset['DATE'].str.split('-', 1, expand=True)\n",
    "central_ca_grouped_reset[['Year','Month']]=central_ca_grouped_reset['DATE'].str.split('-', 1, expand=True)\n",
    "southern_ca_grouped_reset[['Year','Month']]=southern_ca_grouped_reset['DATE'].str.split('-', 1, expand=True)"
   ]
  },
  {
   "cell_type": "code",
   "execution_count": 63,
   "metadata": {},
   "outputs": [],
   "source": [
    "#drop DATE column\n",
    "northern_ca_yrmo=northern_ca_grouped_reset.drop(columns=['DATE'])\n",
    "central_ca_yrmo=central_ca_grouped_reset.drop(columns=['DATE'])\n",
    "southern_ca_yrmo=southern_ca_grouped_reset.drop(columns=['DATE'])"
   ]
  },
  {
   "cell_type": "code",
   "execution_count": 64,
   "metadata": {},
   "outputs": [],
   "source": [
    "#pivot\n",
    "central_ca_pivot=central_ca_yrmo.pivot(index='Year',columns='Month', values=['TAVG'])\n",
    "southern_ca_pivot=southern_ca_yrmo.pivot(index='Year',columns='Month', values=['TAVG'])\n",
    "northern_ca_pivot=northern_ca_yrmo.pivot(index='Year',columns='Month', values=['TAVG'])\n"
   ]
  },
  {
   "cell_type": "code",
   "execution_count": 65,
   "metadata": {},
   "outputs": [],
   "source": [
    "#rename months to month_1, month_2 etc and drop level \n",
    "northern_ca_pivot.columns=northern_ca_pivot.columns.droplevel(0)\n"
   ]
  },
  {
   "cell_type": "code",
   "execution_count": 66,
   "metadata": {},
   "outputs": [],
   "source": [
    "central_ca_pivot.columns=central_ca_pivot.columns.droplevel(0)\n",
    "southern_ca_pivot.columns=southern_ca_pivot.columns.droplevel(0)\n"
   ]
  },
  {
   "cell_type": "code",
   "execution_count": 67,
   "metadata": {},
   "outputs": [],
   "source": [
    "#split into on season and off season\n",
    "northern_ca_on=northern_ca_pivot[['11','12','01','02','03',]]\n",
    "northern_ca_off=northern_ca_pivot[['04','05','06','07','08']]\n",
    "central_ca_on=central_ca_pivot[['11','12','01','02','03',]]\n",
    "central_ca_off=central_ca_pivot[['04','05','06','07','08']]\n",
    "southern_ca_on=southern_ca_pivot[['11','12','01','02','03',]]\n",
    "southern_ca_off=southern_ca_pivot[['04','05','06','07','08']]"
   ]
  },
  {
   "cell_type": "code",
   "execution_count": 68,
   "metadata": {},
   "outputs": [],
   "source": [
    "#rename columns\n",
    "northern_ca_on=northern_ca_on.rename(columns={'11':'month_1','12':'month_2','01':\"month_3\",'02':'month_4','03':'month_5'})\n",
    "northern_ca_off=northern_ca_off.rename(columns={'04':'month_1','05':'month_2','06':'month_3','07':'month_4','08':'month_5'})"
   ]
  },
  {
   "cell_type": "code",
   "execution_count": 69,
   "metadata": {},
   "outputs": [],
   "source": [
    "#rename columns\n",
    "central_ca_on=central_ca_on.rename(columns={'11':'month_1','12':'month_2','01':\"month_3\",'02':'month_4','03':'month_5'})\n",
    "central_ca_off=central_ca_off.rename(columns={'04':'month_1','05':'month_2','06':'month_3','07':'month_4','08':'month_5'})"
   ]
  },
  {
   "cell_type": "code",
   "execution_count": 70,
   "metadata": {},
   "outputs": [],
   "source": [
    "#rename columns\n",
    "southern_ca_on=southern_ca_on.rename(columns={'11':'month_1','12':'month_2','01':\"month_3\",'02':'month_4','03':'month_5'})\n",
    "southern_ca_off=southern_ca_off.rename(columns={'04':'month_1','05':'month_2','06':'month_3','07':'month_4','08':'month_5'})"
   ]
  },
  {
   "cell_type": "code",
   "execution_count": 71,
   "metadata": {},
   "outputs": [],
   "source": [
    "#butterfly counts columns and y:good, n:bad, \n",
    "N_butterfly_count=(44801,7228,9335,17978,29650,6696,16560,7197,6206,7909,3271,24752,8697,7620,11036,60028,36766,31303,2945,1426,321)\n",
    "C_butterfly_count=(185990,105094,70969,184441,140936,118134,138371,53649,82783,42275,73439,124473,92027,137847,163639,173482,178016,111851,17076,19831,1228)\n",
    "S_butterfly_count=(140556,68783,14084,36654,34499,82316,51376,18231,32475,8284,42512,54996,34238,55864,47841,58053,74765,46052,6355,7695,226)\n",
    "N=0\n",
    "Y=1\n",
    "bad_data_on=(0)\n",
    "bad_data_off=(400)\n"
   ]
  },
  {
   "cell_type": "code",
   "execution_count": 72,
   "metadata": {},
   "outputs": [],
   "source": [
    "northern_ca_on['Count']=N_butterfly_count\n",
    "central_ca_on['Count']=C_butterfly_count\n",
    "southern_ca_on['Count']=S_butterfly_count"
   ]
  },
  {
   "cell_type": "code",
   "execution_count": 73,
   "metadata": {},
   "outputs": [],
   "source": [
    "northern_ca_off['Count']=0\n",
    "central_ca_off['Count']=0\n",
    "southern_ca_off['Count']=0"
   ]
  },
  {
   "cell_type": "code",
   "execution_count": 74,
   "metadata": {},
   "outputs": [],
   "source": [
    "northern_ca_on['bad_count']=bad_data_on\n",
    "northern_ca_off['bad_count']=bad_data_off\n",
    "central_ca_on['bad_count']=bad_data_on\n",
    "central_ca_off['bad_count']=bad_data_off\n",
    "southern_ca_on['bad_count']=bad_data_on\n",
    "southern_ca_off['bad_count']=bad_data_off"
   ]
  },
  {
   "cell_type": "code",
   "execution_count": 75,
   "metadata": {},
   "outputs": [],
   "source": [
    "northern_ca_on['Y']=1\n",
    "northern_ca_off['Y']=1\n",
    "central_ca_on['Y']=1\n",
    "central_ca_off['Y']=1\n",
    "southern_ca_on['Y']=1\n",
    "southern_ca_off['Y']=1\n",
    "northern_ca_on['N']=0\n",
    "northern_ca_off['N']=0\n",
    "central_ca_on['N']=0\n",
    "central_ca_off['N']=0\n",
    "southern_ca_on['N']=0\n",
    "southern_ca_off['N']=0"
   ]
  },
  {
   "cell_type": "code",
   "execution_count": 76,
   "metadata": {},
   "outputs": [],
   "source": [
    "#combined on and off seasons\n",
    "northern_all_season=pd.concat([northern_ca_on,northern_ca_off])\n",
    "central_all_season=pd.concat([central_ca_on,central_ca_off])\n",
    "southern_all_seasson=pd.concat([southern_ca_on, southern_ca_off])"
   ]
  },
  {
   "cell_type": "code",
   "execution_count": 77,
   "metadata": {},
   "outputs": [],
   "source": [
    "northern_all_season=northern_all_season.dropna()\n",
    "southern_all_seasson=southern_all_seasson.dropna()"
   ]
  },
  {
   "cell_type": "code",
   "execution_count": 78,
   "metadata": {},
   "outputs": [],
   "source": [
    "central_all_season=central_all_season.dropna()"
   ]
  },
  {
   "cell_type": "code",
   "execution_count": 100,
   "metadata": {},
   "outputs": [],
   "source": [
    "#pull out false data\n",
    "central_false_data=central_all_season[['month_1','month_2','month_3','month_4','month_5','bad_count','N']]\n",
    "southern_false_data=southern_all_seasson[['month_1','month_2','month_3','month_4','month_5','bad_count','N']]\n",
    "northern_false_data=northern_all_season[['month_1','month_2','month_3','month_4','month_5','bad_count','N']]"
   ]
  },
  {
   "cell_type": "code",
   "execution_count": 101,
   "metadata": {},
   "outputs": [],
   "source": [
    "#rename false data column bad count to count and N to Y\n",
    "central_false_data=central_false_data.rename(columns={'bad_count':'Count', 'N':'Y'})\n",
    "southern_false_data=southern_false_data.rename(columns={'bad_count':'Count','N':'Y'})\n",
    "northern_false_data=northern_false_data.rename(columns={'bad_count':'Count','N':'Y'})"
   ]
  },
  {
   "cell_type": "code",
   "execution_count": 120,
   "metadata": {},
   "outputs": [],
   "source": [
    "#drop N and bad_count\n",
    "#northern_all_season=northern_all_season.drop(columns=['bad_count'])\n",
    "#central_all_season=central_all_season.drop(columns=['bad_count'])\n",
    "southern_all_seasson=southern_all_seasson.drop(columns=['bad_count'])"
   ]
  },
  {
   "cell_type": "code",
   "execution_count": 125,
   "metadata": {},
   "outputs": [],
   "source": [
    "#northern_all_season=northern_all_season.drop(columns=['N'])\n",
    "#central_all_season=central_all_season.drop(columns=['N'])\n",
    "southern_all_seasson=southern_all_seasson.drop(columns=['N'])"
   ]
  },
  {
   "cell_type": "code",
   "execution_count": 127,
   "metadata": {},
   "outputs": [],
   "source": [
    "#concat true and false data\n",
    "northern_all_data= pd.concat([northern_all_season,northern_false_data])\n",
    "central_all_data=pd.concat([central_all_season,central_false_data])\n",
    "southern_all_data=pd.concat([southern_all_seasson, southern_false_data])"
   ]
  },
  {
   "cell_type": "code",
   "execution_count": 131,
   "metadata": {},
   "outputs": [
    {
     "name": "stdout",
     "output_type": "stream",
     "text": [
      "Training Data Score: 0.85\n",
      "Testing Data Score: 0.55\n"
     ]
    },
    {
     "name": "stderr",
     "output_type": "stream",
     "text": [
      "/Users/katherinedudzinsky/opt/anaconda3/lib/python3.8/site-packages/sklearn/linear_model/_logistic.py:762: ConvergenceWarning: lbfgs failed to converge (status=1):\n",
      "STOP: TOTAL NO. of ITERATIONS REACHED LIMIT.\n",
      "\n",
      "Increase the number of iterations (max_iter) or scale the data as shown in:\n",
      "    https://scikit-learn.org/stable/modules/preprocessing.html\n",
      "Please also refer to the documentation for alternative solver options:\n",
      "    https://scikit-learn.org/stable/modules/linear_model.html#logistic-regression\n",
      "  n_iter_i = _check_optimize_result(\n"
     ]
    }
   ],
   "source": [
    "from sklearn.utils import shuffle\n",
    "#shuffle northern\n",
    "northern_shuffle=shuffle(northern_all_data)\n",
    "northern_shuffle[['Count','Y']]=northern_shuffle[['Count','Y']].astype(int)\n",
    "X=northern_shuffle[['month_1','month_2','month_3','month_4','month_5','Count','Y']]\n",
    "y=northern_shuffle['Count']\n",
    "from sklearn.linear_model import LogisticRegression\n",
    "X_train, X_test, y_train, y_test = train_test_split(X, y, random_state=1)\n",
    "classifier = LogisticRegression()\n",
    "classifier.fit(X_train, y_train)\n",
    "from sklearn.preprocessing import StandardScaler\n",
    "X_scaler = StandardScaler().fit(X_train)\n",
    "X_train_scaled = X_scaler.transform(X_train)\n",
    "X_test_scaled = X_scaler.transform(X_test)\n",
    "print(f\"Training Data Score: {classifier.score(X_train, y_train)}\")\n",
    "print(f\"Testing Data Score: {classifier.score(X_test, y_test)}\")"
   ]
  },
  {
   "cell_type": "code",
   "execution_count": 132,
   "metadata": {},
   "outputs": [
    {
     "name": "stdout",
     "output_type": "stream",
     "text": [
      "Training Data Score: 0.7931034482758621\n",
      "Testing Data Score: 0.7\n"
     ]
    },
    {
     "name": "stderr",
     "output_type": "stream",
     "text": [
      "/Users/katherinedudzinsky/opt/anaconda3/lib/python3.8/site-packages/sklearn/linear_model/_logistic.py:762: ConvergenceWarning: lbfgs failed to converge (status=1):\n",
      "STOP: TOTAL NO. of ITERATIONS REACHED LIMIT.\n",
      "\n",
      "Increase the number of iterations (max_iter) or scale the data as shown in:\n",
      "    https://scikit-learn.org/stable/modules/preprocessing.html\n",
      "Please also refer to the documentation for alternative solver options:\n",
      "    https://scikit-learn.org/stable/modules/linear_model.html#logistic-regression\n",
      "  n_iter_i = _check_optimize_result(\n"
     ]
    }
   ],
   "source": [
    "#central \n",
    "central_shuffle=shuffle(central_all_data)\n",
    "central_shuffle[['Count','Y']]=central_shuffle[['Count','Y']].astype(int)\n",
    "X=central_shuffle[['month_1','month_2','month_3','month_4','month_5','Count','Y']]\n",
    "y=central_shuffle['Count']\n",
    "from sklearn.linear_model import LogisticRegression\n",
    "X_train, X_test, y_train, y_test = train_test_split(X, y, random_state=1)\n",
    "classifier = LogisticRegression()\n",
    "classifier.fit(X_train, y_train)\n",
    "# Create a StandardScater model and fit it to the training data\n",
    "from sklearn.preprocessing import StandardScaler\n",
    "X_scaler = StandardScaler().fit(X_train)\n",
    "X_train_scaled = X_scaler.transform(X_train)\n",
    "X_test_scaled = X_scaler.transform(X_test)\n",
    "print(f\"Training Data Score: {classifier.score(X_train, y_train)}\")\n",
    "print(f\"Testing Data Score: {classifier.score(X_test, y_test)}\")"
   ]
  },
  {
   "cell_type": "code",
   "execution_count": 137,
   "metadata": {},
   "outputs": [
    {
     "name": "stdout",
     "output_type": "stream",
     "text": [
      "Training Data Score: 0.8\n",
      "Testing Data Score: 0.65\n"
     ]
    },
    {
     "name": "stderr",
     "output_type": "stream",
     "text": [
      "/Users/katherinedudzinsky/opt/anaconda3/lib/python3.8/site-packages/sklearn/linear_model/_logistic.py:762: ConvergenceWarning: lbfgs failed to converge (status=1):\n",
      "STOP: TOTAL NO. of ITERATIONS REACHED LIMIT.\n",
      "\n",
      "Increase the number of iterations (max_iter) or scale the data as shown in:\n",
      "    https://scikit-learn.org/stable/modules/preprocessing.html\n",
      "Please also refer to the documentation for alternative solver options:\n",
      "    https://scikit-learn.org/stable/modules/linear_model.html#logistic-regression\n",
      "  n_iter_i = _check_optimize_result(\n"
     ]
    }
   ],
   "source": [
    "#southern \n",
    "southern_shuffle=shuffle(southern_all_data) \n",
    "southern_shuffle[['Count','Y']]=southern_shuffle[['Count','Y']].astype(int)\n",
    "X=southern_shuffle[['month_1','month_2','month_3','month_4','month_5','Count','Y']]\n",
    "y=southern_shuffle['Count']\n",
    "from sklearn.linear_model import LogisticRegression\n",
    "X_train, X_test, y_train, y_test = train_test_split(X, y, random_state=1)\n",
    "classifier = LogisticRegression()\n",
    "classifier.fit(X_train, y_train)\n",
    "# Create a StandardScater model and fit it to the training data\n",
    "from sklearn.preprocessing import StandardScaler\n",
    "X_scaler = StandardScaler().fit(X_train)\n",
    "X_train_scaled = X_scaler.transform(X_train)\n",
    "X_test_scaled = X_scaler.transform(X_test)\n",
    "print(f\"Training Data Score: {classifier.score(X_train, y_train)}\")\n",
    "print(f\"Testing Data Score: {classifier.score(X_test, y_test)}\")"
   ]
  },
  {
   "cell_type": "code",
   "execution_count": null,
   "metadata": {},
   "outputs": [],
   "source": []
  }
 ],
 "metadata": {
  "kernelspec": {
   "display_name": "Python 3",
   "language": "python",
   "name": "python3"
  },
  "language_info": {
   "codemirror_mode": {
    "name": "ipython",
    "version": 3
   },
   "file_extension": ".py",
   "mimetype": "text/x-python",
   "name": "python",
   "nbconvert_exporter": "python",
   "pygments_lexer": "ipython3",
   "version": "3.8.3"
  }
 },
 "nbformat": 4,
 "nbformat_minor": 2
}
