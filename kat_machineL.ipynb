{
 "metadata": {
  "language_info": {
   "codemirror_mode": {
    "name": "ipython",
    "version": 3
   },
   "file_extension": ".py",
   "mimetype": "text/x-python",
   "name": "python",
   "nbconvert_exporter": "python",
   "pygments_lexer": "ipython3",
   "version": "3.6.10-final"
  },
  "orig_nbformat": 2,
  "kernelspec": {
   "name": "python3",
   "display_name": "Python 3",
   "language": "python"
  }
 },
 "nbformat": 4,
 "nbformat_minor": 2,
 "cells": [
  {
   "cell_type": "code",
   "execution_count": 2,
   "metadata": {},
   "outputs": [],
   "source": [
    "import pandas as pd\n",
    "from sklearn.model_selection import train_test_split\n",
    "from sklearn.preprocessing import MinMaxScaler\n",
    "from sklearn.linear_model import LogisticRegression\n",
    "from sklearn.model_selection import GridSearchCV\n",
    "from sklearn.metrics import explained_variance_score, \\\n",
    "    mean_absolute_error, \\\n",
    "    median_absolute_error\n",
    "import tensorflow as tf\n",
    "import joblib\n",
    "import matplotlib.pyplot as plt      \n",
    "import numpy as np        \n",
    "import pandas\n",
    "import matplotlib as plt\n",
    "import matplotlib.pyplot as plt\n",
    "from os import listdir\n",
    "from os.path import isfile, join\n",
    "import csv\n",
    "from datetime import date, timedelta\n",
    "from collections import defaultdict\n",
    "\n"
   ]
  },
  {
   "cell_type": "code",
   "execution_count": 3,
   "metadata": {},
   "outputs": [],
   "source": [
    "Path=\"Raw_Data/grouped_dates_monterey_avg.csv\"\n",
    "df=pd.read_csv(Path)\n",
    "monterey_df=pd.DataFrame(df)\n"
   ]
  },
  {
   "cell_type": "code",
   "execution_count": 4,
   "metadata": {},
   "outputs": [
    {
     "output_type": "execute_result",
     "data": {
      "text/plain": [
       "      DATE   LATITUDE   LONGITUDE  ELEVATION   EMNT       EMXT       TAVG\n",
       "0  2000-03  36.574080 -121.786360     64.260  4.575  26.125000  11.800000\n",
       "1  2000-04  36.574080 -121.786360     64.260  5.025  28.475000  13.750000\n",
       "2  2000-05  36.574080 -121.786360     64.260  5.125  29.450000  14.625000\n",
       "3  2000-06  36.569425 -121.769075     71.025  7.400  29.433333  15.866667\n",
       "4  2000-07  36.574080 -121.786360     64.260  8.475  21.825000  15.400000"
      ],
      "text/html": "<div>\n<style scoped>\n    .dataframe tbody tr th:only-of-type {\n        vertical-align: middle;\n    }\n\n    .dataframe tbody tr th {\n        vertical-align: top;\n    }\n\n    .dataframe thead th {\n        text-align: right;\n    }\n</style>\n<table border=\"1\" class=\"dataframe\">\n  <thead>\n    <tr style=\"text-align: right;\">\n      <th></th>\n      <th>DATE</th>\n      <th>LATITUDE</th>\n      <th>LONGITUDE</th>\n      <th>ELEVATION</th>\n      <th>EMNT</th>\n      <th>EMXT</th>\n      <th>TAVG</th>\n    </tr>\n  </thead>\n  <tbody>\n    <tr>\n      <th>0</th>\n      <td>2000-03</td>\n      <td>36.574080</td>\n      <td>-121.786360</td>\n      <td>64.260</td>\n      <td>4.575</td>\n      <td>26.125000</td>\n      <td>11.800000</td>\n    </tr>\n    <tr>\n      <th>1</th>\n      <td>2000-04</td>\n      <td>36.574080</td>\n      <td>-121.786360</td>\n      <td>64.260</td>\n      <td>5.025</td>\n      <td>28.475000</td>\n      <td>13.750000</td>\n    </tr>\n    <tr>\n      <th>2</th>\n      <td>2000-05</td>\n      <td>36.574080</td>\n      <td>-121.786360</td>\n      <td>64.260</td>\n      <td>5.125</td>\n      <td>29.450000</td>\n      <td>14.625000</td>\n    </tr>\n    <tr>\n      <th>3</th>\n      <td>2000-06</td>\n      <td>36.569425</td>\n      <td>-121.769075</td>\n      <td>71.025</td>\n      <td>7.400</td>\n      <td>29.433333</td>\n      <td>15.866667</td>\n    </tr>\n    <tr>\n      <th>4</th>\n      <td>2000-07</td>\n      <td>36.574080</td>\n      <td>-121.786360</td>\n      <td>64.260</td>\n      <td>8.475</td>\n      <td>21.825000</td>\n      <td>15.400000</td>\n    </tr>\n  </tbody>\n</table>\n</div>"
     },
     "metadata": {},
     "execution_count": 4
    }
   ],
   "source": [
    "monterey_df.head()"
   ]
  },
  {
   "cell_type": "code",
   "execution_count": 5,
   "metadata": {},
   "outputs": [],
   "source": [
    "monterey_df[['Year', 'Month']]=monterey_df['DATE'].str.split('-',1,expand=True)"
   ]
  },
  {
   "cell_type": "code",
   "execution_count": 6,
   "metadata": {},
   "outputs": [],
   "source": [
    "monterey_yr_mo_avg=monterey_df[['Year','Month','TAVG']]"
   ]
  },
  {
   "cell_type": "code",
   "execution_count": 7,
   "metadata": {},
   "outputs": [],
   "source": [
    "monterey_yr_mo_avg_pivot=monterey_yr_mo_avg.pivot(index='Year', columns='Month', values=['TAVG'])"
   ]
  },
  {
   "cell_type": "code",
   "execution_count": 8,
   "metadata": {},
   "outputs": [
    {
     "output_type": "execute_result",
     "data": {
      "text/plain": [
       "            TAVG                                                         \\\n",
       "Month         01         02         03         04         05         06   \n",
       "Year                                                                      \n",
       "2000         NaN        NaN  11.800000  13.750000  14.625000  15.866667   \n",
       "2001   10.025000  10.675000  12.575000  11.050000  15.450000  15.700000   \n",
       "2002    8.866667  11.685714  11.433333  12.560000  13.066667  14.542857   \n",
       "2003   13.571429  11.228571  12.485714  11.916667  14.050000  15.960000   \n",
       "2004   10.033333  10.785714  14.542857  13.771429  14.428571  15.085714   \n",
       "\n",
       "                                                                         \n",
       "Month         07         08         09         10         11         12  \n",
       "Year                                                                     \n",
       "2000   15.400000  16.025000  17.400000  14.725000  10.833333  11.900000  \n",
       "2001   15.925000  15.925000  15.975000  15.700000  13.216667  10.666667  \n",
       "2002   16.085714  16.428571  17.000000  14.871429  14.514286  11.414286  \n",
       "2003   16.800000  17.828571  18.342857  16.557143  12.000000  11.428571  \n",
       "2004   16.700000  17.760000  17.880000  15.140000  12.285714  11.228571  "
      ],
      "text/html": "<div>\n<style scoped>\n    .dataframe tbody tr th:only-of-type {\n        vertical-align: middle;\n    }\n\n    .dataframe tbody tr th {\n        vertical-align: top;\n    }\n\n    .dataframe thead tr th {\n        text-align: left;\n    }\n\n    .dataframe thead tr:last-of-type th {\n        text-align: right;\n    }\n</style>\n<table border=\"1\" class=\"dataframe\">\n  <thead>\n    <tr>\n      <th></th>\n      <th colspan=\"12\" halign=\"left\">TAVG</th>\n    </tr>\n    <tr>\n      <th>Month</th>\n      <th>01</th>\n      <th>02</th>\n      <th>03</th>\n      <th>04</th>\n      <th>05</th>\n      <th>06</th>\n      <th>07</th>\n      <th>08</th>\n      <th>09</th>\n      <th>10</th>\n      <th>11</th>\n      <th>12</th>\n    </tr>\n    <tr>\n      <th>Year</th>\n      <th></th>\n      <th></th>\n      <th></th>\n      <th></th>\n      <th></th>\n      <th></th>\n      <th></th>\n      <th></th>\n      <th></th>\n      <th></th>\n      <th></th>\n      <th></th>\n    </tr>\n  </thead>\n  <tbody>\n    <tr>\n      <th>2000</th>\n      <td>NaN</td>\n      <td>NaN</td>\n      <td>11.800000</td>\n      <td>13.750000</td>\n      <td>14.625000</td>\n      <td>15.866667</td>\n      <td>15.400000</td>\n      <td>16.025000</td>\n      <td>17.400000</td>\n      <td>14.725000</td>\n      <td>10.833333</td>\n      <td>11.900000</td>\n    </tr>\n    <tr>\n      <th>2001</th>\n      <td>10.025000</td>\n      <td>10.675000</td>\n      <td>12.575000</td>\n      <td>11.050000</td>\n      <td>15.450000</td>\n      <td>15.700000</td>\n      <td>15.925000</td>\n      <td>15.925000</td>\n      <td>15.975000</td>\n      <td>15.700000</td>\n      <td>13.216667</td>\n      <td>10.666667</td>\n    </tr>\n    <tr>\n      <th>2002</th>\n      <td>8.866667</td>\n      <td>11.685714</td>\n      <td>11.433333</td>\n      <td>12.560000</td>\n      <td>13.066667</td>\n      <td>14.542857</td>\n      <td>16.085714</td>\n      <td>16.428571</td>\n      <td>17.000000</td>\n      <td>14.871429</td>\n      <td>14.514286</td>\n      <td>11.414286</td>\n    </tr>\n    <tr>\n      <th>2003</th>\n      <td>13.571429</td>\n      <td>11.228571</td>\n      <td>12.485714</td>\n      <td>11.916667</td>\n      <td>14.050000</td>\n      <td>15.960000</td>\n      <td>16.800000</td>\n      <td>17.828571</td>\n      <td>18.342857</td>\n      <td>16.557143</td>\n      <td>12.000000</td>\n      <td>11.428571</td>\n    </tr>\n    <tr>\n      <th>2004</th>\n      <td>10.033333</td>\n      <td>10.785714</td>\n      <td>14.542857</td>\n      <td>13.771429</td>\n      <td>14.428571</td>\n      <td>15.085714</td>\n      <td>16.700000</td>\n      <td>17.760000</td>\n      <td>17.880000</td>\n      <td>15.140000</td>\n      <td>12.285714</td>\n      <td>11.228571</td>\n    </tr>\n  </tbody>\n</table>\n</div>"
     },
     "metadata": {},
     "execution_count": 8
    }
   ],
   "source": [
    "monterey_yr_mo_avg_pivot.head()"
   ]
  },
  {
   "cell_type": "code",
   "execution_count": 9,
   "metadata": {},
   "outputs": [],
   "source": [
    "monterey_yr_mo_avg_pivot.columns=monterey_yr_mo_avg_pivot.columns.droplevel(0)"
   ]
  },
  {
   "cell_type": "code",
   "execution_count": 10,
   "metadata": {},
   "outputs": [],
   "source": [
    "monterey_butterfly_count=(20000,31203,11593,68979,54481,37540,59957,15426,31063,4735,8634,27788,29048,35772,55879,27945,64974,33657,1890,2792,58)\n",
    "\n",
    "monterey_yr_mo_avg_pivot['Count']=monterey_butterfly_count"
   ]
  },
  {
   "cell_type": "code",
   "execution_count": 11,
   "metadata": {},
   "outputs": [
    {
     "output_type": "execute_result",
     "data": {
      "text/plain": [
       "Month         01         02         03         04         05         06  \\\n",
       "Year                                                                      \n",
       "2000         NaN        NaN  11.800000  13.750000  14.625000  15.866667   \n",
       "2001   10.025000  10.675000  12.575000  11.050000  15.450000  15.700000   \n",
       "2002    8.866667  11.685714  11.433333  12.560000  13.066667  14.542857   \n",
       "2003   13.571429  11.228571  12.485714  11.916667  14.050000  15.960000   \n",
       "2004   10.033333  10.785714  14.542857  13.771429  14.428571  15.085714   \n",
       "\n",
       "Month         07         08         09         10         11         12  Count  \n",
       "Year                                                                            \n",
       "2000   15.400000  16.025000  17.400000  14.725000  10.833333  11.900000  20000  \n",
       "2001   15.925000  15.925000  15.975000  15.700000  13.216667  10.666667  31203  \n",
       "2002   16.085714  16.428571  17.000000  14.871429  14.514286  11.414286  11593  \n",
       "2003   16.800000  17.828571  18.342857  16.557143  12.000000  11.428571  68979  \n",
       "2004   16.700000  17.760000  17.880000  15.140000  12.285714  11.228571  54481  "
      ],
      "text/html": "<div>\n<style scoped>\n    .dataframe tbody tr th:only-of-type {\n        vertical-align: middle;\n    }\n\n    .dataframe tbody tr th {\n        vertical-align: top;\n    }\n\n    .dataframe thead th {\n        text-align: right;\n    }\n</style>\n<table border=\"1\" class=\"dataframe\">\n  <thead>\n    <tr style=\"text-align: right;\">\n      <th>Month</th>\n      <th>01</th>\n      <th>02</th>\n      <th>03</th>\n      <th>04</th>\n      <th>05</th>\n      <th>06</th>\n      <th>07</th>\n      <th>08</th>\n      <th>09</th>\n      <th>10</th>\n      <th>11</th>\n      <th>12</th>\n      <th>Count</th>\n    </tr>\n    <tr>\n      <th>Year</th>\n      <th></th>\n      <th></th>\n      <th></th>\n      <th></th>\n      <th></th>\n      <th></th>\n      <th></th>\n      <th></th>\n      <th></th>\n      <th></th>\n      <th></th>\n      <th></th>\n      <th></th>\n    </tr>\n  </thead>\n  <tbody>\n    <tr>\n      <th>2000</th>\n      <td>NaN</td>\n      <td>NaN</td>\n      <td>11.800000</td>\n      <td>13.750000</td>\n      <td>14.625000</td>\n      <td>15.866667</td>\n      <td>15.400000</td>\n      <td>16.025000</td>\n      <td>17.400000</td>\n      <td>14.725000</td>\n      <td>10.833333</td>\n      <td>11.900000</td>\n      <td>20000</td>\n    </tr>\n    <tr>\n      <th>2001</th>\n      <td>10.025000</td>\n      <td>10.675000</td>\n      <td>12.575000</td>\n      <td>11.050000</td>\n      <td>15.450000</td>\n      <td>15.700000</td>\n      <td>15.925000</td>\n      <td>15.925000</td>\n      <td>15.975000</td>\n      <td>15.700000</td>\n      <td>13.216667</td>\n      <td>10.666667</td>\n      <td>31203</td>\n    </tr>\n    <tr>\n      <th>2002</th>\n      <td>8.866667</td>\n      <td>11.685714</td>\n      <td>11.433333</td>\n      <td>12.560000</td>\n      <td>13.066667</td>\n      <td>14.542857</td>\n      <td>16.085714</td>\n      <td>16.428571</td>\n      <td>17.000000</td>\n      <td>14.871429</td>\n      <td>14.514286</td>\n      <td>11.414286</td>\n      <td>11593</td>\n    </tr>\n    <tr>\n      <th>2003</th>\n      <td>13.571429</td>\n      <td>11.228571</td>\n      <td>12.485714</td>\n      <td>11.916667</td>\n      <td>14.050000</td>\n      <td>15.960000</td>\n      <td>16.800000</td>\n      <td>17.828571</td>\n      <td>18.342857</td>\n      <td>16.557143</td>\n      <td>12.000000</td>\n      <td>11.428571</td>\n      <td>68979</td>\n    </tr>\n    <tr>\n      <th>2004</th>\n      <td>10.033333</td>\n      <td>10.785714</td>\n      <td>14.542857</td>\n      <td>13.771429</td>\n      <td>14.428571</td>\n      <td>15.085714</td>\n      <td>16.700000</td>\n      <td>17.760000</td>\n      <td>17.880000</td>\n      <td>15.140000</td>\n      <td>12.285714</td>\n      <td>11.228571</td>\n      <td>54481</td>\n    </tr>\n  </tbody>\n</table>\n</div>"
     },
     "metadata": {},
     "execution_count": 11
    }
   ],
   "source": [
    "monterey_yr_mo_avg_pivot.head()"
   ]
  },
  {
   "cell_type": "code",
   "execution_count": 56,
   "metadata": {},
   "outputs": [],
   "source": [
    "monterey_on_season=monterey_yr_mo_avg_pivot[['11','12','01','02','03','Count']]"
   ]
  },
  {
   "cell_type": "code",
   "execution_count": 13,
   "metadata": {},
   "outputs": [],
   "source": [
    "\n",
    "monterey_off_season=monterey_yr_mo_avg_pivot[['04','05','06','07','08']]"
   ]
  },
  {
   "cell_type": "code",
   "execution_count": 57,
   "metadata": {},
   "outputs": [
    {
     "output_type": "execute_result",
     "data": {
      "text/plain": [
       "Month         11         12         01         02         03  Count\n",
       "Year                                                               \n",
       "2000   10.833333  11.900000        NaN        NaN  11.800000  20000\n",
       "2001   13.216667  10.666667  10.025000  10.675000  12.575000  31203\n",
       "2002   14.514286  11.414286   8.866667  11.685714  11.433333  11593\n",
       "2003   12.000000  11.428571  13.571429  11.228571  12.485714  68979\n",
       "2004   12.285714  11.228571  10.033333  10.785714  14.542857  54481\n",
       "2005   14.600000  12.000000  10.900000  12.485714  13.585714  37540\n",
       "2006   12.928571  10.871429  11.014286  12.014286   9.914286  59957\n",
       "2007   13.250000   9.416667   9.028571  10.971429  12.700000  15426\n",
       "2008   14.333333   9.716667   9.600000  10.633333  11.300000  31063\n",
       "2009   12.550000   9.950000  12.166667  11.166667  11.066667   4735\n",
       "2010   12.160000  11.116667  11.500000  11.616667  11.533333   8634\n",
       "2011   11.580000   9.740000  11.600000  10.150000  11.840000  27788\n",
       "2012   14.040000  10.340000  11.060000  11.120000  11.660000  29048\n",
       "2013   13.160000  10.460000  10.100000   9.780000  12.020000  35772\n",
       "2014   14.360000  12.560000  13.460000  11.900000  13.720000  55879\n",
       "2015   11.880000   9.920000  13.160000  14.200000  14.540000  27945\n",
       "2016   13.375000  10.500000  11.720000  14.420000  13.400000  64974\n",
       "2017   14.400000  11.775000  10.175000  12.125000  13.200000  33657\n",
       "2018   14.275000  11.533333  12.575000  11.840000  12.280000   1890\n",
       "2019   13.250000  12.100000  12.025000   9.600000  12.200000   2792\n",
       "2020         NaN        NaN  11.200000  12.200000  12.400000     58"
      ],
      "text/html": "<div>\n<style scoped>\n    .dataframe tbody tr th:only-of-type {\n        vertical-align: middle;\n    }\n\n    .dataframe tbody tr th {\n        vertical-align: top;\n    }\n\n    .dataframe thead th {\n        text-align: right;\n    }\n</style>\n<table border=\"1\" class=\"dataframe\">\n  <thead>\n    <tr style=\"text-align: right;\">\n      <th>Month</th>\n      <th>11</th>\n      <th>12</th>\n      <th>01</th>\n      <th>02</th>\n      <th>03</th>\n      <th>Count</th>\n    </tr>\n    <tr>\n      <th>Year</th>\n      <th></th>\n      <th></th>\n      <th></th>\n      <th></th>\n      <th></th>\n      <th></th>\n    </tr>\n  </thead>\n  <tbody>\n    <tr>\n      <th>2000</th>\n      <td>10.833333</td>\n      <td>11.900000</td>\n      <td>NaN</td>\n      <td>NaN</td>\n      <td>11.800000</td>\n      <td>20000</td>\n    </tr>\n    <tr>\n      <th>2001</th>\n      <td>13.216667</td>\n      <td>10.666667</td>\n      <td>10.025000</td>\n      <td>10.675000</td>\n      <td>12.575000</td>\n      <td>31203</td>\n    </tr>\n    <tr>\n      <th>2002</th>\n      <td>14.514286</td>\n      <td>11.414286</td>\n      <td>8.866667</td>\n      <td>11.685714</td>\n      <td>11.433333</td>\n      <td>11593</td>\n    </tr>\n    <tr>\n      <th>2003</th>\n      <td>12.000000</td>\n      <td>11.428571</td>\n      <td>13.571429</td>\n      <td>11.228571</td>\n      <td>12.485714</td>\n      <td>68979</td>\n    </tr>\n    <tr>\n      <th>2004</th>\n      <td>12.285714</td>\n      <td>11.228571</td>\n      <td>10.033333</td>\n      <td>10.785714</td>\n      <td>14.542857</td>\n      <td>54481</td>\n    </tr>\n    <tr>\n      <th>2005</th>\n      <td>14.600000</td>\n      <td>12.000000</td>\n      <td>10.900000</td>\n      <td>12.485714</td>\n      <td>13.585714</td>\n      <td>37540</td>\n    </tr>\n    <tr>\n      <th>2006</th>\n      <td>12.928571</td>\n      <td>10.871429</td>\n      <td>11.014286</td>\n      <td>12.014286</td>\n      <td>9.914286</td>\n      <td>59957</td>\n    </tr>\n    <tr>\n      <th>2007</th>\n      <td>13.250000</td>\n      <td>9.416667</td>\n      <td>9.028571</td>\n      <td>10.971429</td>\n      <td>12.700000</td>\n      <td>15426</td>\n    </tr>\n    <tr>\n      <th>2008</th>\n      <td>14.333333</td>\n      <td>9.716667</td>\n      <td>9.600000</td>\n      <td>10.633333</td>\n      <td>11.300000</td>\n      <td>31063</td>\n    </tr>\n    <tr>\n      <th>2009</th>\n      <td>12.550000</td>\n      <td>9.950000</td>\n      <td>12.166667</td>\n      <td>11.166667</td>\n      <td>11.066667</td>\n      <td>4735</td>\n    </tr>\n    <tr>\n      <th>2010</th>\n      <td>12.160000</td>\n      <td>11.116667</td>\n      <td>11.500000</td>\n      <td>11.616667</td>\n      <td>11.533333</td>\n      <td>8634</td>\n    </tr>\n    <tr>\n      <th>2011</th>\n      <td>11.580000</td>\n      <td>9.740000</td>\n      <td>11.600000</td>\n      <td>10.150000</td>\n      <td>11.840000</td>\n      <td>27788</td>\n    </tr>\n    <tr>\n      <th>2012</th>\n      <td>14.040000</td>\n      <td>10.340000</td>\n      <td>11.060000</td>\n      <td>11.120000</td>\n      <td>11.660000</td>\n      <td>29048</td>\n    </tr>\n    <tr>\n      <th>2013</th>\n      <td>13.160000</td>\n      <td>10.460000</td>\n      <td>10.100000</td>\n      <td>9.780000</td>\n      <td>12.020000</td>\n      <td>35772</td>\n    </tr>\n    <tr>\n      <th>2014</th>\n      <td>14.360000</td>\n      <td>12.560000</td>\n      <td>13.460000</td>\n      <td>11.900000</td>\n      <td>13.720000</td>\n      <td>55879</td>\n    </tr>\n    <tr>\n      <th>2015</th>\n      <td>11.880000</td>\n      <td>9.920000</td>\n      <td>13.160000</td>\n      <td>14.200000</td>\n      <td>14.540000</td>\n      <td>27945</td>\n    </tr>\n    <tr>\n      <th>2016</th>\n      <td>13.375000</td>\n      <td>10.500000</td>\n      <td>11.720000</td>\n      <td>14.420000</td>\n      <td>13.400000</td>\n      <td>64974</td>\n    </tr>\n    <tr>\n      <th>2017</th>\n      <td>14.400000</td>\n      <td>11.775000</td>\n      <td>10.175000</td>\n      <td>12.125000</td>\n      <td>13.200000</td>\n      <td>33657</td>\n    </tr>\n    <tr>\n      <th>2018</th>\n      <td>14.275000</td>\n      <td>11.533333</td>\n      <td>12.575000</td>\n      <td>11.840000</td>\n      <td>12.280000</td>\n      <td>1890</td>\n    </tr>\n    <tr>\n      <th>2019</th>\n      <td>13.250000</td>\n      <td>12.100000</td>\n      <td>12.025000</td>\n      <td>9.600000</td>\n      <td>12.200000</td>\n      <td>2792</td>\n    </tr>\n    <tr>\n      <th>2020</th>\n      <td>NaN</td>\n      <td>NaN</td>\n      <td>11.200000</td>\n      <td>12.200000</td>\n      <td>12.400000</td>\n      <td>58</td>\n    </tr>\n  </tbody>\n</table>\n</div>"
     },
     "metadata": {},
     "execution_count": 57
    }
   ],
   "source": [
    "monterey_on_season"
   ]
  },
  {
   "cell_type": "code",
   "execution_count": 58,
   "metadata": {},
   "outputs": [],
   "source": [
    "monterey_on_season['Y/N']=[1,1,1,1,1,1,1,1,1,1,1,1,1,1,1,1,1,1,1,1,1]\n"
   ]
  },
  {
   "cell_type": "code",
   "execution_count": 59,
   "metadata": {},
   "outputs": [
    {
     "output_type": "execute_result",
     "data": {
      "text/plain": [
       "Month         11         12         01         02         03  Count  Y/N\n",
       "Year                                                                    \n",
       "2000   10.833333  11.900000        NaN        NaN  11.800000  20000    1\n",
       "2001   13.216667  10.666667  10.025000  10.675000  12.575000  31203    1\n",
       "2002   14.514286  11.414286   8.866667  11.685714  11.433333  11593    1\n",
       "2003   12.000000  11.428571  13.571429  11.228571  12.485714  68979    1\n",
       "2004   12.285714  11.228571  10.033333  10.785714  14.542857  54481    1\n",
       "2005   14.600000  12.000000  10.900000  12.485714  13.585714  37540    1\n",
       "2006   12.928571  10.871429  11.014286  12.014286   9.914286  59957    1\n",
       "2007   13.250000   9.416667   9.028571  10.971429  12.700000  15426    1\n",
       "2008   14.333333   9.716667   9.600000  10.633333  11.300000  31063    1\n",
       "2009   12.550000   9.950000  12.166667  11.166667  11.066667   4735    1\n",
       "2010   12.160000  11.116667  11.500000  11.616667  11.533333   8634    1\n",
       "2011   11.580000   9.740000  11.600000  10.150000  11.840000  27788    1\n",
       "2012   14.040000  10.340000  11.060000  11.120000  11.660000  29048    1\n",
       "2013   13.160000  10.460000  10.100000   9.780000  12.020000  35772    1\n",
       "2014   14.360000  12.560000  13.460000  11.900000  13.720000  55879    1\n",
       "2015   11.880000   9.920000  13.160000  14.200000  14.540000  27945    1\n",
       "2016   13.375000  10.500000  11.720000  14.420000  13.400000  64974    1\n",
       "2017   14.400000  11.775000  10.175000  12.125000  13.200000  33657    1\n",
       "2018   14.275000  11.533333  12.575000  11.840000  12.280000   1890    1\n",
       "2019   13.250000  12.100000  12.025000   9.600000  12.200000   2792    1\n",
       "2020         NaN        NaN  11.200000  12.200000  12.400000     58    1"
      ],
      "text/html": "<div>\n<style scoped>\n    .dataframe tbody tr th:only-of-type {\n        vertical-align: middle;\n    }\n\n    .dataframe tbody tr th {\n        vertical-align: top;\n    }\n\n    .dataframe thead th {\n        text-align: right;\n    }\n</style>\n<table border=\"1\" class=\"dataframe\">\n  <thead>\n    <tr style=\"text-align: right;\">\n      <th>Month</th>\n      <th>11</th>\n      <th>12</th>\n      <th>01</th>\n      <th>02</th>\n      <th>03</th>\n      <th>Count</th>\n      <th>Y/N</th>\n    </tr>\n    <tr>\n      <th>Year</th>\n      <th></th>\n      <th></th>\n      <th></th>\n      <th></th>\n      <th></th>\n      <th></th>\n      <th></th>\n    </tr>\n  </thead>\n  <tbody>\n    <tr>\n      <th>2000</th>\n      <td>10.833333</td>\n      <td>11.900000</td>\n      <td>NaN</td>\n      <td>NaN</td>\n      <td>11.800000</td>\n      <td>20000</td>\n      <td>1</td>\n    </tr>\n    <tr>\n      <th>2001</th>\n      <td>13.216667</td>\n      <td>10.666667</td>\n      <td>10.025000</td>\n      <td>10.675000</td>\n      <td>12.575000</td>\n      <td>31203</td>\n      <td>1</td>\n    </tr>\n    <tr>\n      <th>2002</th>\n      <td>14.514286</td>\n      <td>11.414286</td>\n      <td>8.866667</td>\n      <td>11.685714</td>\n      <td>11.433333</td>\n      <td>11593</td>\n      <td>1</td>\n    </tr>\n    <tr>\n      <th>2003</th>\n      <td>12.000000</td>\n      <td>11.428571</td>\n      <td>13.571429</td>\n      <td>11.228571</td>\n      <td>12.485714</td>\n      <td>68979</td>\n      <td>1</td>\n    </tr>\n    <tr>\n      <th>2004</th>\n      <td>12.285714</td>\n      <td>11.228571</td>\n      <td>10.033333</td>\n      <td>10.785714</td>\n      <td>14.542857</td>\n      <td>54481</td>\n      <td>1</td>\n    </tr>\n    <tr>\n      <th>2005</th>\n      <td>14.600000</td>\n      <td>12.000000</td>\n      <td>10.900000</td>\n      <td>12.485714</td>\n      <td>13.585714</td>\n      <td>37540</td>\n      <td>1</td>\n    </tr>\n    <tr>\n      <th>2006</th>\n      <td>12.928571</td>\n      <td>10.871429</td>\n      <td>11.014286</td>\n      <td>12.014286</td>\n      <td>9.914286</td>\n      <td>59957</td>\n      <td>1</td>\n    </tr>\n    <tr>\n      <th>2007</th>\n      <td>13.250000</td>\n      <td>9.416667</td>\n      <td>9.028571</td>\n      <td>10.971429</td>\n      <td>12.700000</td>\n      <td>15426</td>\n      <td>1</td>\n    </tr>\n    <tr>\n      <th>2008</th>\n      <td>14.333333</td>\n      <td>9.716667</td>\n      <td>9.600000</td>\n      <td>10.633333</td>\n      <td>11.300000</td>\n      <td>31063</td>\n      <td>1</td>\n    </tr>\n    <tr>\n      <th>2009</th>\n      <td>12.550000</td>\n      <td>9.950000</td>\n      <td>12.166667</td>\n      <td>11.166667</td>\n      <td>11.066667</td>\n      <td>4735</td>\n      <td>1</td>\n    </tr>\n    <tr>\n      <th>2010</th>\n      <td>12.160000</td>\n      <td>11.116667</td>\n      <td>11.500000</td>\n      <td>11.616667</td>\n      <td>11.533333</td>\n      <td>8634</td>\n      <td>1</td>\n    </tr>\n    <tr>\n      <th>2011</th>\n      <td>11.580000</td>\n      <td>9.740000</td>\n      <td>11.600000</td>\n      <td>10.150000</td>\n      <td>11.840000</td>\n      <td>27788</td>\n      <td>1</td>\n    </tr>\n    <tr>\n      <th>2012</th>\n      <td>14.040000</td>\n      <td>10.340000</td>\n      <td>11.060000</td>\n      <td>11.120000</td>\n      <td>11.660000</td>\n      <td>29048</td>\n      <td>1</td>\n    </tr>\n    <tr>\n      <th>2013</th>\n      <td>13.160000</td>\n      <td>10.460000</td>\n      <td>10.100000</td>\n      <td>9.780000</td>\n      <td>12.020000</td>\n      <td>35772</td>\n      <td>1</td>\n    </tr>\n    <tr>\n      <th>2014</th>\n      <td>14.360000</td>\n      <td>12.560000</td>\n      <td>13.460000</td>\n      <td>11.900000</td>\n      <td>13.720000</td>\n      <td>55879</td>\n      <td>1</td>\n    </tr>\n    <tr>\n      <th>2015</th>\n      <td>11.880000</td>\n      <td>9.920000</td>\n      <td>13.160000</td>\n      <td>14.200000</td>\n      <td>14.540000</td>\n      <td>27945</td>\n      <td>1</td>\n    </tr>\n    <tr>\n      <th>2016</th>\n      <td>13.375000</td>\n      <td>10.500000</td>\n      <td>11.720000</td>\n      <td>14.420000</td>\n      <td>13.400000</td>\n      <td>64974</td>\n      <td>1</td>\n    </tr>\n    <tr>\n      <th>2017</th>\n      <td>14.400000</td>\n      <td>11.775000</td>\n      <td>10.175000</td>\n      <td>12.125000</td>\n      <td>13.200000</td>\n      <td>33657</td>\n      <td>1</td>\n    </tr>\n    <tr>\n      <th>2018</th>\n      <td>14.275000</td>\n      <td>11.533333</td>\n      <td>12.575000</td>\n      <td>11.840000</td>\n      <td>12.280000</td>\n      <td>1890</td>\n      <td>1</td>\n    </tr>\n    <tr>\n      <th>2019</th>\n      <td>13.250000</td>\n      <td>12.100000</td>\n      <td>12.025000</td>\n      <td>9.600000</td>\n      <td>12.200000</td>\n      <td>2792</td>\n      <td>1</td>\n    </tr>\n    <tr>\n      <th>2020</th>\n      <td>NaN</td>\n      <td>NaN</td>\n      <td>11.200000</td>\n      <td>12.200000</td>\n      <td>12.400000</td>\n      <td>58</td>\n      <td>1</td>\n    </tr>\n  </tbody>\n</table>\n</div>"
     },
     "metadata": {},
     "execution_count": 59
    }
   ],
   "source": []
  },
  {
   "cell_type": "code",
   "execution_count": 15,
   "metadata": {},
   "outputs": [],
   "source": [
    "monterey_off_season['Count']=(0,0,0,0,0,0,0,0,0,0,0,0,0,0,0,0,0,0,0,0,0)"
   ]
  },
  {
   "cell_type": "code",
   "execution_count": 16,
   "metadata": {},
   "outputs": [
    {
     "output_type": "execute_result",
     "data": {
      "text/plain": [
       "Month         04         05         06         07         08  N  Count  Y/N\n",
       "Year                                                                       \n",
       "2000   13.750000  14.625000  15.866667  15.400000  16.025000  0      0    0\n",
       "2001   11.050000  15.450000  15.700000  15.925000  15.925000  0      0    0\n",
       "2002   12.560000  13.066667  14.542857  16.085714  16.428571  0      0    0\n",
       "2003   11.916667  14.050000  15.960000  16.800000  17.828571  0      0    0\n",
       "2004   13.771429  14.428571  15.085714  16.700000  17.760000  0      0    0"
      ],
      "text/html": "<div>\n<style scoped>\n    .dataframe tbody tr th:only-of-type {\n        vertical-align: middle;\n    }\n\n    .dataframe tbody tr th {\n        vertical-align: top;\n    }\n\n    .dataframe thead th {\n        text-align: right;\n    }\n</style>\n<table border=\"1\" class=\"dataframe\">\n  <thead>\n    <tr style=\"text-align: right;\">\n      <th>Month</th>\n      <th>04</th>\n      <th>05</th>\n      <th>06</th>\n      <th>07</th>\n      <th>08</th>\n      <th>N</th>\n      <th>Count</th>\n      <th>Y/N</th>\n    </tr>\n    <tr>\n      <th>Year</th>\n      <th></th>\n      <th></th>\n      <th></th>\n      <th></th>\n      <th></th>\n      <th></th>\n      <th></th>\n      <th></th>\n    </tr>\n  </thead>\n  <tbody>\n    <tr>\n      <th>2000</th>\n      <td>13.750000</td>\n      <td>14.625000</td>\n      <td>15.866667</td>\n      <td>15.400000</td>\n      <td>16.025000</td>\n      <td>0</td>\n      <td>0</td>\n      <td>0</td>\n    </tr>\n    <tr>\n      <th>2001</th>\n      <td>11.050000</td>\n      <td>15.450000</td>\n      <td>15.700000</td>\n      <td>15.925000</td>\n      <td>15.925000</td>\n      <td>0</td>\n      <td>0</td>\n      <td>0</td>\n    </tr>\n    <tr>\n      <th>2002</th>\n      <td>12.560000</td>\n      <td>13.066667</td>\n      <td>14.542857</td>\n      <td>16.085714</td>\n      <td>16.428571</td>\n      <td>0</td>\n      <td>0</td>\n      <td>0</td>\n    </tr>\n    <tr>\n      <th>2003</th>\n      <td>11.916667</td>\n      <td>14.050000</td>\n      <td>15.960000</td>\n      <td>16.800000</td>\n      <td>17.828571</td>\n      <td>0</td>\n      <td>0</td>\n      <td>0</td>\n    </tr>\n    <tr>\n      <th>2004</th>\n      <td>13.771429</td>\n      <td>14.428571</td>\n      <td>15.085714</td>\n      <td>16.700000</td>\n      <td>17.760000</td>\n      <td>0</td>\n      <td>0</td>\n      <td>0</td>\n    </tr>\n  </tbody>\n</table>\n</div>"
     },
     "metadata": {},
     "execution_count": 16
    }
   ],
   "source": [
    "monterey_off_season['Y/N']=(0,0,0,0,0,0,0,0,0,0,0,0,0,0,0,0,0,0,0,0,0)\n",
    "monterey_off_season.head()\n"
   ]
  },
  {
   "cell_type": "code",
   "execution_count": 60,
   "metadata": {},
   "outputs": [
    {
     "output_type": "execute_result",
     "data": {
      "text/plain": [
       "Month         11         12         01         02         03  Count  Y/N\n",
       "Year                                                                    \n",
       "2000   10.833333  11.900000        NaN        NaN  11.800000  20000    1\n",
       "2001   13.216667  10.666667  10.025000  10.675000  12.575000  31203    1\n",
       "2002   14.514286  11.414286   8.866667  11.685714  11.433333  11593    1\n",
       "2003   12.000000  11.428571  13.571429  11.228571  12.485714  68979    1\n",
       "2004   12.285714  11.228571  10.033333  10.785714  14.542857  54481    1"
      ],
      "text/html": "<div>\n<style scoped>\n    .dataframe tbody tr th:only-of-type {\n        vertical-align: middle;\n    }\n\n    .dataframe tbody tr th {\n        vertical-align: top;\n    }\n\n    .dataframe thead th {\n        text-align: right;\n    }\n</style>\n<table border=\"1\" class=\"dataframe\">\n  <thead>\n    <tr style=\"text-align: right;\">\n      <th>Month</th>\n      <th>11</th>\n      <th>12</th>\n      <th>01</th>\n      <th>02</th>\n      <th>03</th>\n      <th>Count</th>\n      <th>Y/N</th>\n    </tr>\n    <tr>\n      <th>Year</th>\n      <th></th>\n      <th></th>\n      <th></th>\n      <th></th>\n      <th></th>\n      <th></th>\n      <th></th>\n    </tr>\n  </thead>\n  <tbody>\n    <tr>\n      <th>2000</th>\n      <td>10.833333</td>\n      <td>11.900000</td>\n      <td>NaN</td>\n      <td>NaN</td>\n      <td>11.800000</td>\n      <td>20000</td>\n      <td>1</td>\n    </tr>\n    <tr>\n      <th>2001</th>\n      <td>13.216667</td>\n      <td>10.666667</td>\n      <td>10.025000</td>\n      <td>10.675000</td>\n      <td>12.575000</td>\n      <td>31203</td>\n      <td>1</td>\n    </tr>\n    <tr>\n      <th>2002</th>\n      <td>14.514286</td>\n      <td>11.414286</td>\n      <td>8.866667</td>\n      <td>11.685714</td>\n      <td>11.433333</td>\n      <td>11593</td>\n      <td>1</td>\n    </tr>\n    <tr>\n      <th>2003</th>\n      <td>12.000000</td>\n      <td>11.428571</td>\n      <td>13.571429</td>\n      <td>11.228571</td>\n      <td>12.485714</td>\n      <td>68979</td>\n      <td>1</td>\n    </tr>\n    <tr>\n      <th>2004</th>\n      <td>12.285714</td>\n      <td>11.228571</td>\n      <td>10.033333</td>\n      <td>10.785714</td>\n      <td>14.542857</td>\n      <td>54481</td>\n      <td>1</td>\n    </tr>\n  </tbody>\n</table>\n</div>"
     },
     "metadata": {},
     "execution_count": 60
    }
   ],
   "source": [
    "monterey_on_season.head()"
   ]
  },
  {
   "cell_type": "code",
   "execution_count": null,
   "metadata": {},
   "outputs": [],
   "source": []
  },
  {
   "cell_type": "code",
   "execution_count": 61,
   "metadata": {},
   "outputs": [],
   "source": [
    "monterey_on_season=monterey_on_season.rename(columns={'11':'month_1','12':'month_2','01':\"month_3\",'02':'month_4','03':'month_5'})\n",
    "montere_off_season=monterey_off_season.rename(columns={'04':'month_1','05':'month_2','06':'month_3','07':'month_4','08':'month_5'})"
   ]
  },
  {
   "cell_type": "code",
   "execution_count": 90,
   "metadata": {},
   "outputs": [],
   "source": [
    "good_data_monterey=pd.concat([montere_off_season,monterey_on_season])"
   ]
  },
  {
   "cell_type": "code",
   "execution_count": 91,
   "metadata": {},
   "outputs": [
    {
     "output_type": "execute_result",
     "data": {
      "text/plain": [
       "        month_1    month_2    month_3    month_4    month_5    N  Count  Y/N\n",
       "Year                                                                        \n",
       "2000  13.750000  14.625000  15.866667  15.400000  16.025000  0.0      0    0\n",
       "2001  11.050000  15.450000  15.700000  15.925000  15.925000  0.0      0    0\n",
       "2002  12.560000  13.066667  14.542857  16.085714  16.428571  0.0      0    0\n",
       "2003  11.916667  14.050000  15.960000  16.800000  17.828571  0.0      0    0\n",
       "2004  13.771429  14.428571  15.085714  16.700000  17.760000  0.0      0    0\n",
       "2005  12.385714  14.842857  14.885714  16.342857  16.228571  0.0      0    0\n",
       "2006  12.457143  14.242857  16.228571  17.128571  15.900000  0.0      0    0\n",
       "2007  12.050000  13.283333  14.583333  16.300000  16.783333  0.0      0    0\n",
       "2008  12.116667  13.350000  15.216667  16.016667  16.266667  0.0      0    0\n",
       "2009  12.516667  13.900000  15.650000  15.533333  17.016667  0.0      0    0\n",
       "2010  11.766667  12.483333  14.850000  15.266667  15.433333  0.0      0    0\n",
       "2011  12.066667  12.616667  14.400000  16.020000  15.460000  0.0      0    0\n",
       "2012  12.700000  13.280000  14.860000  15.425000  15.700000  0.0      0    0\n",
       "2013  13.220000  14.720000  16.150000  16.380000  16.920000  0.0      0    0\n",
       "2014  13.980000  15.700000  15.680000  17.820000  17.940000  0.0      0    0\n",
       "2015  13.020000  13.760000  16.340000  18.540000  19.260000  0.0      0    0\n",
       "2016  14.580000  14.820000  16.020000  15.440000  16.140000  0.0      0    0\n",
       "2017  13.825000  14.525000  16.025000  16.733333  17.600000  0.0      0    0\n",
       "2018  13.240000  14.180000  15.450000  17.600000  16.925000  0.0      0    0\n",
       "2019  14.266667  14.266667  16.700000  16.933333  18.766667  0.0      0    0\n",
       "2020        NaN        NaN        NaN        NaN        NaN  0.0      0    0\n",
       "2000  10.833333  11.900000        NaN        NaN  11.800000  NaN  20000    1\n",
       "2001  13.216667  10.666667  10.025000  10.675000  12.575000  NaN  31203    1\n",
       "2002  14.514286  11.414286   8.866667  11.685714  11.433333  NaN  11593    1\n",
       "2003  12.000000  11.428571  13.571429  11.228571  12.485714  NaN  68979    1\n",
       "2004  12.285714  11.228571  10.033333  10.785714  14.542857  NaN  54481    1\n",
       "2005  14.600000  12.000000  10.900000  12.485714  13.585714  NaN  37540    1\n",
       "2006  12.928571  10.871429  11.014286  12.014286   9.914286  NaN  59957    1\n",
       "2007  13.250000   9.416667   9.028571  10.971429  12.700000  NaN  15426    1\n",
       "2008  14.333333   9.716667   9.600000  10.633333  11.300000  NaN  31063    1\n",
       "2009  12.550000   9.950000  12.166667  11.166667  11.066667  NaN   4735    1\n",
       "2010  12.160000  11.116667  11.500000  11.616667  11.533333  NaN   8634    1\n",
       "2011  11.580000   9.740000  11.600000  10.150000  11.840000  NaN  27788    1\n",
       "2012  14.040000  10.340000  11.060000  11.120000  11.660000  NaN  29048    1\n",
       "2013  13.160000  10.460000  10.100000   9.780000  12.020000  NaN  35772    1\n",
       "2014  14.360000  12.560000  13.460000  11.900000  13.720000  NaN  55879    1\n",
       "2015  11.880000   9.920000  13.160000  14.200000  14.540000  NaN  27945    1\n",
       "2016  13.375000  10.500000  11.720000  14.420000  13.400000  NaN  64974    1\n",
       "2017  14.400000  11.775000  10.175000  12.125000  13.200000  NaN  33657    1\n",
       "2018  14.275000  11.533333  12.575000  11.840000  12.280000  NaN   1890    1\n",
       "2019  13.250000  12.100000  12.025000   9.600000  12.200000  NaN   2792    1\n",
       "2020        NaN        NaN  11.200000  12.200000  12.400000  NaN     58    1"
      ],
      "text/html": "<div>\n<style scoped>\n    .dataframe tbody tr th:only-of-type {\n        vertical-align: middle;\n    }\n\n    .dataframe tbody tr th {\n        vertical-align: top;\n    }\n\n    .dataframe thead th {\n        text-align: right;\n    }\n</style>\n<table border=\"1\" class=\"dataframe\">\n  <thead>\n    <tr style=\"text-align: right;\">\n      <th></th>\n      <th>month_1</th>\n      <th>month_2</th>\n      <th>month_3</th>\n      <th>month_4</th>\n      <th>month_5</th>\n      <th>N</th>\n      <th>Count</th>\n      <th>Y/N</th>\n    </tr>\n    <tr>\n      <th>Year</th>\n      <th></th>\n      <th></th>\n      <th></th>\n      <th></th>\n      <th></th>\n      <th></th>\n      <th></th>\n      <th></th>\n    </tr>\n  </thead>\n  <tbody>\n    <tr>\n      <th>2000</th>\n      <td>13.750000</td>\n      <td>14.625000</td>\n      <td>15.866667</td>\n      <td>15.400000</td>\n      <td>16.025000</td>\n      <td>0.0</td>\n      <td>0</td>\n      <td>0</td>\n    </tr>\n    <tr>\n      <th>2001</th>\n      <td>11.050000</td>\n      <td>15.450000</td>\n      <td>15.700000</td>\n      <td>15.925000</td>\n      <td>15.925000</td>\n      <td>0.0</td>\n      <td>0</td>\n      <td>0</td>\n    </tr>\n    <tr>\n      <th>2002</th>\n      <td>12.560000</td>\n      <td>13.066667</td>\n      <td>14.542857</td>\n      <td>16.085714</td>\n      <td>16.428571</td>\n      <td>0.0</td>\n      <td>0</td>\n      <td>0</td>\n    </tr>\n    <tr>\n      <th>2003</th>\n      <td>11.916667</td>\n      <td>14.050000</td>\n      <td>15.960000</td>\n      <td>16.800000</td>\n      <td>17.828571</td>\n      <td>0.0</td>\n      <td>0</td>\n      <td>0</td>\n    </tr>\n    <tr>\n      <th>2004</th>\n      <td>13.771429</td>\n      <td>14.428571</td>\n      <td>15.085714</td>\n      <td>16.700000</td>\n      <td>17.760000</td>\n      <td>0.0</td>\n      <td>0</td>\n      <td>0</td>\n    </tr>\n    <tr>\n      <th>2005</th>\n      <td>12.385714</td>\n      <td>14.842857</td>\n      <td>14.885714</td>\n      <td>16.342857</td>\n      <td>16.228571</td>\n      <td>0.0</td>\n      <td>0</td>\n      <td>0</td>\n    </tr>\n    <tr>\n      <th>2006</th>\n      <td>12.457143</td>\n      <td>14.242857</td>\n      <td>16.228571</td>\n      <td>17.128571</td>\n      <td>15.900000</td>\n      <td>0.0</td>\n      <td>0</td>\n      <td>0</td>\n    </tr>\n    <tr>\n      <th>2007</th>\n      <td>12.050000</td>\n      <td>13.283333</td>\n      <td>14.583333</td>\n      <td>16.300000</td>\n      <td>16.783333</td>\n      <td>0.0</td>\n      <td>0</td>\n      <td>0</td>\n    </tr>\n    <tr>\n      <th>2008</th>\n      <td>12.116667</td>\n      <td>13.350000</td>\n      <td>15.216667</td>\n      <td>16.016667</td>\n      <td>16.266667</td>\n      <td>0.0</td>\n      <td>0</td>\n      <td>0</td>\n    </tr>\n    <tr>\n      <th>2009</th>\n      <td>12.516667</td>\n      <td>13.900000</td>\n      <td>15.650000</td>\n      <td>15.533333</td>\n      <td>17.016667</td>\n      <td>0.0</td>\n      <td>0</td>\n      <td>0</td>\n    </tr>\n    <tr>\n      <th>2010</th>\n      <td>11.766667</td>\n      <td>12.483333</td>\n      <td>14.850000</td>\n      <td>15.266667</td>\n      <td>15.433333</td>\n      <td>0.0</td>\n      <td>0</td>\n      <td>0</td>\n    </tr>\n    <tr>\n      <th>2011</th>\n      <td>12.066667</td>\n      <td>12.616667</td>\n      <td>14.400000</td>\n      <td>16.020000</td>\n      <td>15.460000</td>\n      <td>0.0</td>\n      <td>0</td>\n      <td>0</td>\n    </tr>\n    <tr>\n      <th>2012</th>\n      <td>12.700000</td>\n      <td>13.280000</td>\n      <td>14.860000</td>\n      <td>15.425000</td>\n      <td>15.700000</td>\n      <td>0.0</td>\n      <td>0</td>\n      <td>0</td>\n    </tr>\n    <tr>\n      <th>2013</th>\n      <td>13.220000</td>\n      <td>14.720000</td>\n      <td>16.150000</td>\n      <td>16.380000</td>\n      <td>16.920000</td>\n      <td>0.0</td>\n      <td>0</td>\n      <td>0</td>\n    </tr>\n    <tr>\n      <th>2014</th>\n      <td>13.980000</td>\n      <td>15.700000</td>\n      <td>15.680000</td>\n      <td>17.820000</td>\n      <td>17.940000</td>\n      <td>0.0</td>\n      <td>0</td>\n      <td>0</td>\n    </tr>\n    <tr>\n      <th>2015</th>\n      <td>13.020000</td>\n      <td>13.760000</td>\n      <td>16.340000</td>\n      <td>18.540000</td>\n      <td>19.260000</td>\n      <td>0.0</td>\n      <td>0</td>\n      <td>0</td>\n    </tr>\n    <tr>\n      <th>2016</th>\n      <td>14.580000</td>\n      <td>14.820000</td>\n      <td>16.020000</td>\n      <td>15.440000</td>\n      <td>16.140000</td>\n      <td>0.0</td>\n      <td>0</td>\n      <td>0</td>\n    </tr>\n    <tr>\n      <th>2017</th>\n      <td>13.825000</td>\n      <td>14.525000</td>\n      <td>16.025000</td>\n      <td>16.733333</td>\n      <td>17.600000</td>\n      <td>0.0</td>\n      <td>0</td>\n      <td>0</td>\n    </tr>\n    <tr>\n      <th>2018</th>\n      <td>13.240000</td>\n      <td>14.180000</td>\n      <td>15.450000</td>\n      <td>17.600000</td>\n      <td>16.925000</td>\n      <td>0.0</td>\n      <td>0</td>\n      <td>0</td>\n    </tr>\n    <tr>\n      <th>2019</th>\n      <td>14.266667</td>\n      <td>14.266667</td>\n      <td>16.700000</td>\n      <td>16.933333</td>\n      <td>18.766667</td>\n      <td>0.0</td>\n      <td>0</td>\n      <td>0</td>\n    </tr>\n    <tr>\n      <th>2020</th>\n      <td>NaN</td>\n      <td>NaN</td>\n      <td>NaN</td>\n      <td>NaN</td>\n      <td>NaN</td>\n      <td>0.0</td>\n      <td>0</td>\n      <td>0</td>\n    </tr>\n    <tr>\n      <th>2000</th>\n      <td>10.833333</td>\n      <td>11.900000</td>\n      <td>NaN</td>\n      <td>NaN</td>\n      <td>11.800000</td>\n      <td>NaN</td>\n      <td>20000</td>\n      <td>1</td>\n    </tr>\n    <tr>\n      <th>2001</th>\n      <td>13.216667</td>\n      <td>10.666667</td>\n      <td>10.025000</td>\n      <td>10.675000</td>\n      <td>12.575000</td>\n      <td>NaN</td>\n      <td>31203</td>\n      <td>1</td>\n    </tr>\n    <tr>\n      <th>2002</th>\n      <td>14.514286</td>\n      <td>11.414286</td>\n      <td>8.866667</td>\n      <td>11.685714</td>\n      <td>11.433333</td>\n      <td>NaN</td>\n      <td>11593</td>\n      <td>1</td>\n    </tr>\n    <tr>\n      <th>2003</th>\n      <td>12.000000</td>\n      <td>11.428571</td>\n      <td>13.571429</td>\n      <td>11.228571</td>\n      <td>12.485714</td>\n      <td>NaN</td>\n      <td>68979</td>\n      <td>1</td>\n    </tr>\n    <tr>\n      <th>2004</th>\n      <td>12.285714</td>\n      <td>11.228571</td>\n      <td>10.033333</td>\n      <td>10.785714</td>\n      <td>14.542857</td>\n      <td>NaN</td>\n      <td>54481</td>\n      <td>1</td>\n    </tr>\n    <tr>\n      <th>2005</th>\n      <td>14.600000</td>\n      <td>12.000000</td>\n      <td>10.900000</td>\n      <td>12.485714</td>\n      <td>13.585714</td>\n      <td>NaN</td>\n      <td>37540</td>\n      <td>1</td>\n    </tr>\n    <tr>\n      <th>2006</th>\n      <td>12.928571</td>\n      <td>10.871429</td>\n      <td>11.014286</td>\n      <td>12.014286</td>\n      <td>9.914286</td>\n      <td>NaN</td>\n      <td>59957</td>\n      <td>1</td>\n    </tr>\n    <tr>\n      <th>2007</th>\n      <td>13.250000</td>\n      <td>9.416667</td>\n      <td>9.028571</td>\n      <td>10.971429</td>\n      <td>12.700000</td>\n      <td>NaN</td>\n      <td>15426</td>\n      <td>1</td>\n    </tr>\n    <tr>\n      <th>2008</th>\n      <td>14.333333</td>\n      <td>9.716667</td>\n      <td>9.600000</td>\n      <td>10.633333</td>\n      <td>11.300000</td>\n      <td>NaN</td>\n      <td>31063</td>\n      <td>1</td>\n    </tr>\n    <tr>\n      <th>2009</th>\n      <td>12.550000</td>\n      <td>9.950000</td>\n      <td>12.166667</td>\n      <td>11.166667</td>\n      <td>11.066667</td>\n      <td>NaN</td>\n      <td>4735</td>\n      <td>1</td>\n    </tr>\n    <tr>\n      <th>2010</th>\n      <td>12.160000</td>\n      <td>11.116667</td>\n      <td>11.500000</td>\n      <td>11.616667</td>\n      <td>11.533333</td>\n      <td>NaN</td>\n      <td>8634</td>\n      <td>1</td>\n    </tr>\n    <tr>\n      <th>2011</th>\n      <td>11.580000</td>\n      <td>9.740000</td>\n      <td>11.600000</td>\n      <td>10.150000</td>\n      <td>11.840000</td>\n      <td>NaN</td>\n      <td>27788</td>\n      <td>1</td>\n    </tr>\n    <tr>\n      <th>2012</th>\n      <td>14.040000</td>\n      <td>10.340000</td>\n      <td>11.060000</td>\n      <td>11.120000</td>\n      <td>11.660000</td>\n      <td>NaN</td>\n      <td>29048</td>\n      <td>1</td>\n    </tr>\n    <tr>\n      <th>2013</th>\n      <td>13.160000</td>\n      <td>10.460000</td>\n      <td>10.100000</td>\n      <td>9.780000</td>\n      <td>12.020000</td>\n      <td>NaN</td>\n      <td>35772</td>\n      <td>1</td>\n    </tr>\n    <tr>\n      <th>2014</th>\n      <td>14.360000</td>\n      <td>12.560000</td>\n      <td>13.460000</td>\n      <td>11.900000</td>\n      <td>13.720000</td>\n      <td>NaN</td>\n      <td>55879</td>\n      <td>1</td>\n    </tr>\n    <tr>\n      <th>2015</th>\n      <td>11.880000</td>\n      <td>9.920000</td>\n      <td>13.160000</td>\n      <td>14.200000</td>\n      <td>14.540000</td>\n      <td>NaN</td>\n      <td>27945</td>\n      <td>1</td>\n    </tr>\n    <tr>\n      <th>2016</th>\n      <td>13.375000</td>\n      <td>10.500000</td>\n      <td>11.720000</td>\n      <td>14.420000</td>\n      <td>13.400000</td>\n      <td>NaN</td>\n      <td>64974</td>\n      <td>1</td>\n    </tr>\n    <tr>\n      <th>2017</th>\n      <td>14.400000</td>\n      <td>11.775000</td>\n      <td>10.175000</td>\n      <td>12.125000</td>\n      <td>13.200000</td>\n      <td>NaN</td>\n      <td>33657</td>\n      <td>1</td>\n    </tr>\n    <tr>\n      <th>2018</th>\n      <td>14.275000</td>\n      <td>11.533333</td>\n      <td>12.575000</td>\n      <td>11.840000</td>\n      <td>12.280000</td>\n      <td>NaN</td>\n      <td>1890</td>\n      <td>1</td>\n    </tr>\n    <tr>\n      <th>2019</th>\n      <td>13.250000</td>\n      <td>12.100000</td>\n      <td>12.025000</td>\n      <td>9.600000</td>\n      <td>12.200000</td>\n      <td>NaN</td>\n      <td>2792</td>\n      <td>1</td>\n    </tr>\n    <tr>\n      <th>2020</th>\n      <td>NaN</td>\n      <td>NaN</td>\n      <td>11.200000</td>\n      <td>12.200000</td>\n      <td>12.400000</td>\n      <td>NaN</td>\n      <td>58</td>\n      <td>1</td>\n    </tr>\n  </tbody>\n</table>\n</div>"
     },
     "metadata": {},
     "execution_count": 91
    }
   ],
   "source": [
    "good_data_monterey"
   ]
  },
  {
   "cell_type": "code",
   "execution_count": 92,
   "metadata": {},
   "outputs": [],
   "source": [
    "good_data_monterey=good_data_monterey.dropna()"
   ]
  },
  {
   "cell_type": "code",
   "execution_count": 88,
   "metadata": {},
   "outputs": [],
   "source": [
    "#good_data_monterey=good_data_monterey.reset_index()"
   ]
  },
  {
   "cell_type": "code",
   "execution_count": 94,
   "metadata": {},
   "outputs": [
    {
     "output_type": "execute_result",
     "data": {
      "text/plain": [
       "Year\n",
       "2000    13.750000\n",
       "2001    11.050000\n",
       "2002    12.560000\n",
       "2003    11.916667\n",
       "2004    13.771429\n",
       "2005    12.385714\n",
       "2006    12.457143\n",
       "2007    12.050000\n",
       "2008    12.116667\n",
       "2009    12.516667\n",
       "2010    11.766667\n",
       "2011    12.066667\n",
       "2012    12.700000\n",
       "2013    13.220000\n",
       "2014    13.980000\n",
       "2015    13.020000\n",
       "2016    14.580000\n",
       "2017    13.825000\n",
       "2018    13.240000\n",
       "2019    14.266667\n",
       "Name: month_1, dtype: float64"
      ]
     },
     "metadata": {},
     "execution_count": 94
    }
   ],
   "source": [
    "good_data_monterey[]"
   ]
  },
  {
   "cell_type": "code",
   "execution_count": 37,
   "metadata": {},
   "outputs": [],
   "source": [
    "from sklearn.utils import shuffle\n",
    "monterey_shuffle=shuffle(good_data_monterey)"
   ]
  },
  {
   "cell_type": "code",
   "execution_count": 23,
   "metadata": {},
   "outputs": [],
   "source": []
  },
  {
   "cell_type": "code",
   "execution_count": 38,
   "metadata": {},
   "outputs": [],
   "source": [
    "X=monterey_shuffle[['month_1','month_2','month_3','month_4','month_5','Count','Y/N']]\n",
    "y=monterey_shuffle['Count']\n"
   ]
  },
  {
   "cell_type": "code",
   "execution_count": 40,
   "metadata": {},
   "outputs": [
    {
     "output_type": "execute_result",
     "data": {
      "text/plain": [
       "(array([[12.05      , 13.28333333, 14.58333333, 16.3       , 16.78333333,\n",
       "          0.        ,  0.        ],\n",
       "        [13.22      , 14.72      , 16.15      , 16.38      , 16.92      ,\n",
       "          0.        ,  0.        ],\n",
       "        [13.825     , 14.525     , 16.025     , 16.73333333, 17.6       ,\n",
       "          0.        ,  0.        ],\n",
       "        [12.11666667, 13.35      , 15.21666667, 16.01666667, 16.26666667,\n",
       "          0.        ,  0.        ],\n",
       "        [13.98      , 15.7       , 15.68      , 17.82      , 17.94      ,\n",
       "          0.        ,  0.        ],\n",
       "        [12.06666667, 12.61666667, 14.4       , 16.02      , 15.46      ,\n",
       "          0.        ,  0.        ],\n",
       "        [12.38571429, 14.84285714, 14.88571429, 16.34285714, 16.22857143,\n",
       "          0.        ,  0.        ],\n",
       "        [13.24      , 14.18      , 15.45      , 17.6       , 16.925     ,\n",
       "          0.        ,  0.        ],\n",
       "        [11.76666667, 12.48333333, 14.85      , 15.26666667, 15.43333333,\n",
       "          0.        ,  0.        ],\n",
       "        [12.56      , 13.06666667, 14.54285714, 16.08571429, 16.42857143,\n",
       "          0.        ,  0.        ],\n",
       "        [11.91666667, 14.05      , 15.96      , 16.8       , 17.82857143,\n",
       "          0.        ,  0.        ],\n",
       "        [11.05      , 15.45      , 15.7       , 15.925     , 15.925     ,\n",
       "          0.        ,  0.        ],\n",
       "        [13.75      , 14.625     , 15.86666667, 15.4       , 16.025     ,\n",
       "          0.        ,  0.        ],\n",
       "        [12.7       , 13.28      , 14.86      , 15.425     , 15.7       ,\n",
       "          0.        ,  0.        ],\n",
       "        [12.51666667, 13.9       , 15.65      , 15.53333333, 17.01666667,\n",
       "          0.        ,  0.        ],\n",
       "        [13.77142857, 14.42857143, 15.08571429, 16.7       , 17.76      ,\n",
       "          0.        ,  0.        ],\n",
       "        [14.58      , 14.82      , 16.02      , 15.44      , 16.14      ,\n",
       "          0.        ,  0.        ],\n",
       "        [13.02      , 13.76      , 16.34      , 18.54      , 19.26      ,\n",
       "          0.        ,  0.        ],\n",
       "        [12.45714286, 14.24285714, 16.22857143, 17.12857143, 15.9       ,\n",
       "          0.        ,  0.        ],\n",
       "        [14.26666667, 14.26666667, 16.7       , 16.93333333, 18.76666667,\n",
       "          0.        ,  0.        ]]),\n",
       " array([0, 0, 0, 0, 0, 0, 0, 0, 0, 0, 0, 0, 0, 0, 0, 0, 0, 0, 0, 0]))"
      ]
     },
     "metadata": {},
     "execution_count": 40
    }
   ],
   "source": [
    "X.values,y.values"
   ]
  },
  {
   "cell_type": "code",
   "execution_count": 41,
   "metadata": {},
   "outputs": [],
   "source": [
    "from sklearn.linear_model import LogisticRegression\n",
    "\n",
    "X_train, X_test, y_train, y_test = train_test_split(X, y, random_state=1)\n"
   ]
  },
  {
   "cell_type": "code",
   "execution_count": 44,
   "metadata": {},
   "outputs": [
    {
     "output_type": "execute_result",
     "data": {
      "text/plain": [
       "LogisticRegression()"
      ]
     },
     "metadata": {},
     "execution_count": 44
    }
   ],
   "source": [
    "classifier = LogisticRegression()\n",
    "classifier"
   ]
  },
  {
   "cell_type": "code",
   "execution_count": 45,
   "metadata": {},
   "outputs": [
    {
     "output_type": "error",
     "ename": "ValueError",
     "evalue": "This solver needs samples of at least 2 classes in the data, but the data contains only one class: 0",
     "traceback": [
      "\u001b[0;31m---------------------------------------------------------------------------\u001b[0m",
      "\u001b[0;31mValueError\u001b[0m                                Traceback (most recent call last)",
      "\u001b[0;32m<ipython-input-45-f44724590846>\u001b[0m in \u001b[0;36m<module>\u001b[0;34m\u001b[0m\n\u001b[0;32m----> 1\u001b[0;31m \u001b[0mclassifier\u001b[0m\u001b[0;34m.\u001b[0m\u001b[0mfit\u001b[0m\u001b[0;34m(\u001b[0m\u001b[0mX_train\u001b[0m\u001b[0;34m,\u001b[0m \u001b[0my_train\u001b[0m\u001b[0;34m)\u001b[0m\u001b[0;34m\u001b[0m\u001b[0;34m\u001b[0m\u001b[0m\n\u001b[0m",
      "\u001b[0;32m~/opt/anaconda3/envs/dviz_ml/lib/python3.6/site-packages/sklearn/linear_model/_logistic.py\u001b[0m in \u001b[0;36mfit\u001b[0;34m(self, X, y, sample_weight)\u001b[0m\n\u001b[1;32m   1374\u001b[0m             raise ValueError(\"This solver needs samples of at least 2 classes\"\n\u001b[1;32m   1375\u001b[0m                              \u001b[0;34m\" in the data, but the data contains only one\"\u001b[0m\u001b[0;34m\u001b[0m\u001b[0;34m\u001b[0m\u001b[0m\n\u001b[0;32m-> 1376\u001b[0;31m                              \" class: %r\" % classes_[0])\n\u001b[0m\u001b[1;32m   1377\u001b[0m \u001b[0;34m\u001b[0m\u001b[0m\n\u001b[1;32m   1378\u001b[0m         \u001b[0;32mif\u001b[0m \u001b[0mlen\u001b[0m\u001b[0;34m(\u001b[0m\u001b[0mself\u001b[0m\u001b[0;34m.\u001b[0m\u001b[0mclasses_\u001b[0m\u001b[0;34m)\u001b[0m \u001b[0;34m==\u001b[0m \u001b[0;36m2\u001b[0m\u001b[0;34m:\u001b[0m\u001b[0;34m\u001b[0m\u001b[0;34m\u001b[0m\u001b[0m\n",
      "\u001b[0;31mValueError\u001b[0m: This solver needs samples of at least 2 classes in the data, but the data contains only one class: 0"
     ]
    }
   ],
   "source": [
    "classifier.fit(X_train, y_train)"
   ]
  },
  {
   "cell_type": "code",
   "execution_count": 1,
   "metadata": {},
   "outputs": [
    {
     "output_type": "error",
     "ename": "NameError",
     "evalue": "name 'classifier' is not defined",
     "traceback": [
      "\u001b[0;31m---------------------------------------------------------------------------\u001b[0m",
      "\u001b[0;31mNameError\u001b[0m                                 Traceback (most recent call last)",
      "\u001b[0;32m<ipython-input-1-88c0079011b5>\u001b[0m in \u001b[0;36m<module>\u001b[0;34m\u001b[0m\n\u001b[0;32m----> 1\u001b[0;31m \u001b[0mpredictions\u001b[0m \u001b[0;34m=\u001b[0m \u001b[0mclassifier\u001b[0m\u001b[0;34m.\u001b[0m\u001b[0mpredict\u001b[0m\u001b[0;34m(\u001b[0m\u001b[0mX_test\u001b[0m\u001b[0;34m)\u001b[0m\u001b[0;34m\u001b[0m\u001b[0;34m\u001b[0m\u001b[0m\n\u001b[0m\u001b[1;32m      2\u001b[0m \u001b[0mpd\u001b[0m\u001b[0;34m.\u001b[0m\u001b[0mDataFrame\u001b[0m\u001b[0;34m(\u001b[0m\u001b[0;34m{\u001b[0m\u001b[0;34m\"Prediction\"\u001b[0m\u001b[0;34m:\u001b[0m \u001b[0mpredictions\u001b[0m\u001b[0;34m,\u001b[0m \u001b[0;34m\"Actual\"\u001b[0m\u001b[0;34m:\u001b[0m \u001b[0my_test\u001b[0m\u001b[0;34m}\u001b[0m\u001b[0;34m)\u001b[0m\u001b[0;34m\u001b[0m\u001b[0;34m\u001b[0m\u001b[0m\n",
      "\u001b[0;31mNameError\u001b[0m: name 'classifier' is not defined"
     ]
    }
   ],
   "source": [
    " predictions = classifier.predict(X_test)\n",
    "pd.DataFrame({\"Prediction\": predictions, \"Actual\": y_test})"
   ]
  },
  {
   "cell_type": "code",
   "execution_count": 10,
   "metadata": {},
   "outputs": [],
   "source": [
    "Sacramento=pd.read_csv(\"Raw_Data/grouped_dates_sacramento_avg.csv\")\n",
    "sacramento_df=pd.DataFrame(Sacramento)\n",
    "Sandiego=pd.read_csv(\"Raw_Data/grouped_dates_sandiego_avg.csv\")\n",
    "sandiego_df=Sandiego\n",
    "Santamaria=pd.read_csv(\"Raw_Data/grouped_dates_santamaria_avg.csv\")\n",
    "santamaria_df=Santamaria\n",
    "Santa_rosa=pd.read_csv(\"Raw_Data/grouped_dates_santarosa_avg.csv\")\n",
    "santarosa_df=Santa_rosa\n",
    "Stockton=pd.read_csv(\"Raw_Data/grouped_dates_stockton_avg.csv\")\n",
    "stockton_df=Stockton"
   ]
  },
  {
   "cell_type": "code",
   "execution_count": 11,
   "metadata": {},
   "outputs": [],
   "source": [
    "sacramento_df[['Year', 'Month']]=sacramento_df['DATE'].str.split('-',1,expand=True)\n",
    "sacramento_yr_mo_avg=sacramento_df[['Year','Month','TAVG']]\n",
    "sacramento_yr_mo_avg_pivot=sacramento_yr_mo_avg.pivot(index='Year', columns='Month', values=['TAVG'])"
   ]
  },
  {
   "cell_type": "code",
   "execution_count": 12,
   "metadata": {},
   "outputs": [
    {
     "output_type": "execute_result",
     "data": {
      "text/plain": [
       "            TAVG                                                         \\\n",
       "Month         01         02         03         04         05         06   \n",
       "Year                                                                      \n",
       "2000    9.466667  11.000000  13.266667  16.433333  19.433333  23.633333   \n",
       "2001    7.966667   9.566667  14.433333  13.933333  22.800000  23.500000   \n",
       "2002    7.333333  10.633333  11.733333  15.100000  18.766667  23.166667   \n",
       "2003   10.466667  10.233333  13.500000  12.600000  18.766667  23.033333   \n",
       "2004    8.366667  10.533333  15.800000  17.166667  19.800000  22.966667   \n",
       "\n",
       "                                                                        \n",
       "Month         07         08         09         10         11        12  \n",
       "Year                                                                    \n",
       "2000   23.000000  23.933333  22.033333  16.666667   9.333333  8.633333  \n",
       "2001   23.633333  24.200000  22.200000  19.066667  13.466667  9.400000  \n",
       "2002   25.066667  23.600000  22.966667  17.200000  12.600000  9.900000  \n",
       "2003   26.766667  24.333333  23.500000  19.400000  10.766667  9.600000  \n",
       "2004   24.566667  24.666667  22.500000  17.000000  10.933333  8.466667  "
      ],
      "text/html": "<div>\n<style scoped>\n    .dataframe tbody tr th:only-of-type {\n        vertical-align: middle;\n    }\n\n    .dataframe tbody tr th {\n        vertical-align: top;\n    }\n\n    .dataframe thead tr th {\n        text-align: left;\n    }\n\n    .dataframe thead tr:last-of-type th {\n        text-align: right;\n    }\n</style>\n<table border=\"1\" class=\"dataframe\">\n  <thead>\n    <tr>\n      <th></th>\n      <th colspan=\"12\" halign=\"left\">TAVG</th>\n    </tr>\n    <tr>\n      <th>Month</th>\n      <th>01</th>\n      <th>02</th>\n      <th>03</th>\n      <th>04</th>\n      <th>05</th>\n      <th>06</th>\n      <th>07</th>\n      <th>08</th>\n      <th>09</th>\n      <th>10</th>\n      <th>11</th>\n      <th>12</th>\n    </tr>\n    <tr>\n      <th>Year</th>\n      <th></th>\n      <th></th>\n      <th></th>\n      <th></th>\n      <th></th>\n      <th></th>\n      <th></th>\n      <th></th>\n      <th></th>\n      <th></th>\n      <th></th>\n      <th></th>\n    </tr>\n  </thead>\n  <tbody>\n    <tr>\n      <th>2000</th>\n      <td>9.466667</td>\n      <td>11.000000</td>\n      <td>13.266667</td>\n      <td>16.433333</td>\n      <td>19.433333</td>\n      <td>23.633333</td>\n      <td>23.000000</td>\n      <td>23.933333</td>\n      <td>22.033333</td>\n      <td>16.666667</td>\n      <td>9.333333</td>\n      <td>8.633333</td>\n    </tr>\n    <tr>\n      <th>2001</th>\n      <td>7.966667</td>\n      <td>9.566667</td>\n      <td>14.433333</td>\n      <td>13.933333</td>\n      <td>22.800000</td>\n      <td>23.500000</td>\n      <td>23.633333</td>\n      <td>24.200000</td>\n      <td>22.200000</td>\n      <td>19.066667</td>\n      <td>13.466667</td>\n      <td>9.400000</td>\n    </tr>\n    <tr>\n      <th>2002</th>\n      <td>7.333333</td>\n      <td>10.633333</td>\n      <td>11.733333</td>\n      <td>15.100000</td>\n      <td>18.766667</td>\n      <td>23.166667</td>\n      <td>25.066667</td>\n      <td>23.600000</td>\n      <td>22.966667</td>\n      <td>17.200000</td>\n      <td>12.600000</td>\n      <td>9.900000</td>\n    </tr>\n    <tr>\n      <th>2003</th>\n      <td>10.466667</td>\n      <td>10.233333</td>\n      <td>13.500000</td>\n      <td>12.600000</td>\n      <td>18.766667</td>\n      <td>23.033333</td>\n      <td>26.766667</td>\n      <td>24.333333</td>\n      <td>23.500000</td>\n      <td>19.400000</td>\n      <td>10.766667</td>\n      <td>9.600000</td>\n    </tr>\n    <tr>\n      <th>2004</th>\n      <td>8.366667</td>\n      <td>10.533333</td>\n      <td>15.800000</td>\n      <td>17.166667</td>\n      <td>19.800000</td>\n      <td>22.966667</td>\n      <td>24.566667</td>\n      <td>24.666667</td>\n      <td>22.500000</td>\n      <td>17.000000</td>\n      <td>10.933333</td>\n      <td>8.466667</td>\n    </tr>\n  </tbody>\n</table>\n</div>"
     },
     "metadata": {},
     "execution_count": 12
    }
   ],
   "source": [
    "sacramento_yr_mo_avg_pivot.head()"
   ]
  },
  {
   "cell_type": "code",
   "execution_count": 13,
   "metadata": {},
   "outputs": [],
   "source": [
    "sacramento_butterfly_count = (0,0,0,0,0,0,0,0,0,0,0,0,0,210,16,5,17,0,10)"
   ]
  },
  {
   "cell_type": "code",
   "execution_count": 14,
   "metadata": {},
   "outputs": [],
   "source": [
    "sandiego_df[['Year', 'Month']]=sandiego_df['DATE'].str.split('-',1,expand=True)\n",
    "sandiego_yr_mo_avg=sandiego_df[['Year','Month','TAVG']]\n",
    "sandiego_yr_mo_avg_pivot=sandiego_yr_mo_avg.pivot(index='Year', columns='Month', values=['TAVG'])"
   ]
  },
  {
   "cell_type": "code",
   "execution_count": 15,
   "metadata": {},
   "outputs": [
    {
     "output_type": "execute_result",
     "data": {
      "text/plain": [
       "            TAVG                                                         \\\n",
       "Month         01         02         03         04         05         06   \n",
       "Year                                                                      \n",
       "2000   13.658824  13.406667  13.368750  16.481250  18.740000  21.021429   \n",
       "2001   11.022222  11.255556  14.042105  13.752632  18.505263  20.794444   \n",
       "2002   11.868182  13.495000  12.829412  14.795000  16.563158  19.244444   \n",
       "2003   15.664706  13.336842  14.194737  13.673684  16.688889  18.733333   \n",
       "2004   12.252632  11.678947  16.300000  16.364706  19.029412  19.287500   \n",
       "\n",
       "                                                                         \n",
       "Month         07         08         09         10         11         12  \n",
       "Year                                                                     \n",
       "2000   21.852941  23.529412  21.922222  17.300000  13.029412  13.964706  \n",
       "2001   21.476190  22.566667  21.500000  19.131579  15.221053  11.342105  \n",
       "2002   21.463158  21.566667  22.066667  17.100000  16.605263  11.778947  \n",
       "2003   23.178947  24.315000  22.300000  20.486667  14.440000  12.300000  \n",
       "2004   22.680000  22.378947  22.406250  17.443750  13.372222  12.817647  "
      ],
      "text/html": "<div>\n<style scoped>\n    .dataframe tbody tr th:only-of-type {\n        vertical-align: middle;\n    }\n\n    .dataframe tbody tr th {\n        vertical-align: top;\n    }\n\n    .dataframe thead tr th {\n        text-align: left;\n    }\n\n    .dataframe thead tr:last-of-type th {\n        text-align: right;\n    }\n</style>\n<table border=\"1\" class=\"dataframe\">\n  <thead>\n    <tr>\n      <th></th>\n      <th colspan=\"12\" halign=\"left\">TAVG</th>\n    </tr>\n    <tr>\n      <th>Month</th>\n      <th>01</th>\n      <th>02</th>\n      <th>03</th>\n      <th>04</th>\n      <th>05</th>\n      <th>06</th>\n      <th>07</th>\n      <th>08</th>\n      <th>09</th>\n      <th>10</th>\n      <th>11</th>\n      <th>12</th>\n    </tr>\n    <tr>\n      <th>Year</th>\n      <th></th>\n      <th></th>\n      <th></th>\n      <th></th>\n      <th></th>\n      <th></th>\n      <th></th>\n      <th></th>\n      <th></th>\n      <th></th>\n      <th></th>\n      <th></th>\n    </tr>\n  </thead>\n  <tbody>\n    <tr>\n      <th>2000</th>\n      <td>13.658824</td>\n      <td>13.406667</td>\n      <td>13.368750</td>\n      <td>16.481250</td>\n      <td>18.740000</td>\n      <td>21.021429</td>\n      <td>21.852941</td>\n      <td>23.529412</td>\n      <td>21.922222</td>\n      <td>17.300000</td>\n      <td>13.029412</td>\n      <td>13.964706</td>\n    </tr>\n    <tr>\n      <th>2001</th>\n      <td>11.022222</td>\n      <td>11.255556</td>\n      <td>14.042105</td>\n      <td>13.752632</td>\n      <td>18.505263</td>\n      <td>20.794444</td>\n      <td>21.476190</td>\n      <td>22.566667</td>\n      <td>21.500000</td>\n      <td>19.131579</td>\n      <td>15.221053</td>\n      <td>11.342105</td>\n    </tr>\n    <tr>\n      <th>2002</th>\n      <td>11.868182</td>\n      <td>13.495000</td>\n      <td>12.829412</td>\n      <td>14.795000</td>\n      <td>16.563158</td>\n      <td>19.244444</td>\n      <td>21.463158</td>\n      <td>21.566667</td>\n      <td>22.066667</td>\n      <td>17.100000</td>\n      <td>16.605263</td>\n      <td>11.778947</td>\n    </tr>\n    <tr>\n      <th>2003</th>\n      <td>15.664706</td>\n      <td>13.336842</td>\n      <td>14.194737</td>\n      <td>13.673684</td>\n      <td>16.688889</td>\n      <td>18.733333</td>\n      <td>23.178947</td>\n      <td>24.315000</td>\n      <td>22.300000</td>\n      <td>20.486667</td>\n      <td>14.440000</td>\n      <td>12.300000</td>\n    </tr>\n    <tr>\n      <th>2004</th>\n      <td>12.252632</td>\n      <td>11.678947</td>\n      <td>16.300000</td>\n      <td>16.364706</td>\n      <td>19.029412</td>\n      <td>19.287500</td>\n      <td>22.680000</td>\n      <td>22.378947</td>\n      <td>22.406250</td>\n      <td>17.443750</td>\n      <td>13.372222</td>\n      <td>12.817647</td>\n    </tr>\n  </tbody>\n</table>\n</div>"
     },
     "metadata": {},
     "execution_count": 15
    }
   ],
   "source": [
    "sandiego_yr_mo_avg_pivot.head()"
   ]
  },
  {
   "cell_type": "code",
   "execution_count": 16,
   "metadata": {},
   "outputs": [],
   "source": [
    "sandiego_butterfly_count = (348,78,40,50,260,902,395,51,723,73,372,92,292,144,232,194,50,60,12,22,30)"
   ]
  },
  {
   "cell_type": "code",
   "execution_count": 17,
   "metadata": {},
   "outputs": [],
   "source": [
    "santamaria_df[['Year', 'Month']]=santamaria_df['DATE'].str.split('-',1,expand=True)\n",
    "santamaria_yr_mo_avg=santamaria_df[['Year','Month','TAVG']]\n",
    "santamaria_yr_mo_avg_pivot=santamaria_yr_mo_avg.pivot(index='Year', columns='Month', values=['TAVG'])"
   ]
  },
  {
   "cell_type": "code",
   "execution_count": 18,
   "metadata": {},
   "outputs": [
    {
     "output_type": "execute_result",
     "data": {
      "text/plain": [
       "            TAVG                                                         \\\n",
       "Month         01         02         03         04         05         06   \n",
       "Year                                                                      \n",
       "2016   12.500000  16.250000  14.600000  16.200000  14.400000  16.900000   \n",
       "2017   10.900000  11.966667  14.400000  14.800000  15.100000  16.566667   \n",
       "2018   14.733333  12.650000  12.666667  14.133333  14.366667  16.300000   \n",
       "2019   12.633333   9.533333  13.100000  14.966667  14.566667  17.266667   \n",
       "2020   12.500000  13.300000  11.900000        NaN        NaN        NaN   \n",
       "\n",
       "                                                                     \n",
       "Month     07         08         09         10         11         12  \n",
       "Year                                                                 \n",
       "2016   16.95  17.166667  18.800000  17.500000  15.066667  11.333333  \n",
       "2017   17.95  18.400000  20.100000  18.900000  16.500000  14.500000  \n",
       "2018   19.10  19.300000  17.266667  18.333333  16.166667  12.500000  \n",
       "2019   17.70  18.633333  20.100000  18.433333  14.833333  12.300000  \n",
       "2020     NaN        NaN        NaN        NaN        NaN        NaN  "
      ],
      "text/html": "<div>\n<style scoped>\n    .dataframe tbody tr th:only-of-type {\n        vertical-align: middle;\n    }\n\n    .dataframe tbody tr th {\n        vertical-align: top;\n    }\n\n    .dataframe thead tr th {\n        text-align: left;\n    }\n\n    .dataframe thead tr:last-of-type th {\n        text-align: right;\n    }\n</style>\n<table border=\"1\" class=\"dataframe\">\n  <thead>\n    <tr>\n      <th></th>\n      <th colspan=\"12\" halign=\"left\">TAVG</th>\n    </tr>\n    <tr>\n      <th>Month</th>\n      <th>01</th>\n      <th>02</th>\n      <th>03</th>\n      <th>04</th>\n      <th>05</th>\n      <th>06</th>\n      <th>07</th>\n      <th>08</th>\n      <th>09</th>\n      <th>10</th>\n      <th>11</th>\n      <th>12</th>\n    </tr>\n    <tr>\n      <th>Year</th>\n      <th></th>\n      <th></th>\n      <th></th>\n      <th></th>\n      <th></th>\n      <th></th>\n      <th></th>\n      <th></th>\n      <th></th>\n      <th></th>\n      <th></th>\n      <th></th>\n    </tr>\n  </thead>\n  <tbody>\n    <tr>\n      <th>2016</th>\n      <td>12.500000</td>\n      <td>16.250000</td>\n      <td>14.600000</td>\n      <td>16.200000</td>\n      <td>14.400000</td>\n      <td>16.900000</td>\n      <td>16.95</td>\n      <td>17.166667</td>\n      <td>18.800000</td>\n      <td>17.500000</td>\n      <td>15.066667</td>\n      <td>11.333333</td>\n    </tr>\n    <tr>\n      <th>2017</th>\n      <td>10.900000</td>\n      <td>11.966667</td>\n      <td>14.400000</td>\n      <td>14.800000</td>\n      <td>15.100000</td>\n      <td>16.566667</td>\n      <td>17.95</td>\n      <td>18.400000</td>\n      <td>20.100000</td>\n      <td>18.900000</td>\n      <td>16.500000</td>\n      <td>14.500000</td>\n    </tr>\n    <tr>\n      <th>2018</th>\n      <td>14.733333</td>\n      <td>12.650000</td>\n      <td>12.666667</td>\n      <td>14.133333</td>\n      <td>14.366667</td>\n      <td>16.300000</td>\n      <td>19.10</td>\n      <td>19.300000</td>\n      <td>17.266667</td>\n      <td>18.333333</td>\n      <td>16.166667</td>\n      <td>12.500000</td>\n    </tr>\n    <tr>\n      <th>2019</th>\n      <td>12.633333</td>\n      <td>9.533333</td>\n      <td>13.100000</td>\n      <td>14.966667</td>\n      <td>14.566667</td>\n      <td>17.266667</td>\n      <td>17.70</td>\n      <td>18.633333</td>\n      <td>20.100000</td>\n      <td>18.433333</td>\n      <td>14.833333</td>\n      <td>12.300000</td>\n    </tr>\n    <tr>\n      <th>2020</th>\n      <td>12.500000</td>\n      <td>13.300000</td>\n      <td>11.900000</td>\n      <td>NaN</td>\n      <td>NaN</td>\n      <td>NaN</td>\n      <td>NaN</td>\n      <td>NaN</td>\n      <td>NaN</td>\n      <td>NaN</td>\n      <td>NaN</td>\n      <td>NaN</td>\n    </tr>\n  </tbody>\n</table>\n</div>"
     },
     "metadata": {},
     "execution_count": 18
    }
   ],
   "source": [
    "santamaria_yr_mo_avg_pivot.tail()"
   ]
  },
  {
   "cell_type": "code",
   "execution_count": 19,
   "metadata": {},
   "outputs": [],
   "source": [
    "santarosa_df[['Year', 'Month']]=santarosa_df['DATE'].str.split('-',1,expand=True)\n",
    "santarosa_yr_mo_avg=santarosa_df[['Year','Month','TAVG']]\n",
    "santarosa_yr_mo_avg_pivot=santarosa_yr_mo_avg.pivot(index='Year', columns='Month', values=['TAVG'])"
   ]
  },
  {
   "cell_type": "code",
   "execution_count": 20,
   "metadata": {},
   "outputs": [
    {
     "output_type": "execute_result",
     "data": {
      "text/plain": [
       "            TAVG                                                         \\\n",
       "Month         01         02         03         04         05         06   \n",
       "Year                                                                      \n",
       "2000    9.671429  10.875000  12.285714  14.542857  17.033333  18.442857   \n",
       "2001    8.037500   9.333333  13.257143  12.200000  19.350000  20.375000   \n",
       "2002    8.162500  10.966667  11.285714  13.750000  15.362500  20.100000   \n",
       "2003   11.344444  10.425000  12.800000  11.177778  16.188889  19.414286   \n",
       "2004    9.100000   9.962500  15.555556  15.087500  16.950000  19.342857   \n",
       "\n",
       "                                                                        \n",
       "Month         07         08         09         10         11        12  \n",
       "Year                                                                    \n",
       "2000   18.925000  19.700000  19.757143  15.475000  10.228571  9.575000  \n",
       "2001   18.900000  20.344444  18.675000  17.875000  12.828571  9.487500  \n",
       "2002   20.342857  20.285714  19.750000  16.188889  13.288889  9.812500  \n",
       "2003   21.214286  20.800000  20.500000  18.314286  10.411111  9.162500  \n",
       "2004   20.287500  21.271429  20.942857  15.633333  11.587500  9.528571  "
      ],
      "text/html": "<div>\n<style scoped>\n    .dataframe tbody tr th:only-of-type {\n        vertical-align: middle;\n    }\n\n    .dataframe tbody tr th {\n        vertical-align: top;\n    }\n\n    .dataframe thead tr th {\n        text-align: left;\n    }\n\n    .dataframe thead tr:last-of-type th {\n        text-align: right;\n    }\n</style>\n<table border=\"1\" class=\"dataframe\">\n  <thead>\n    <tr>\n      <th></th>\n      <th colspan=\"12\" halign=\"left\">TAVG</th>\n    </tr>\n    <tr>\n      <th>Month</th>\n      <th>01</th>\n      <th>02</th>\n      <th>03</th>\n      <th>04</th>\n      <th>05</th>\n      <th>06</th>\n      <th>07</th>\n      <th>08</th>\n      <th>09</th>\n      <th>10</th>\n      <th>11</th>\n      <th>12</th>\n    </tr>\n    <tr>\n      <th>Year</th>\n      <th></th>\n      <th></th>\n      <th></th>\n      <th></th>\n      <th></th>\n      <th></th>\n      <th></th>\n      <th></th>\n      <th></th>\n      <th></th>\n      <th></th>\n      <th></th>\n    </tr>\n  </thead>\n  <tbody>\n    <tr>\n      <th>2000</th>\n      <td>9.671429</td>\n      <td>10.875000</td>\n      <td>12.285714</td>\n      <td>14.542857</td>\n      <td>17.033333</td>\n      <td>18.442857</td>\n      <td>18.925000</td>\n      <td>19.700000</td>\n      <td>19.757143</td>\n      <td>15.475000</td>\n      <td>10.228571</td>\n      <td>9.575000</td>\n    </tr>\n    <tr>\n      <th>2001</th>\n      <td>8.037500</td>\n      <td>9.333333</td>\n      <td>13.257143</td>\n      <td>12.200000</td>\n      <td>19.350000</td>\n      <td>20.375000</td>\n      <td>18.900000</td>\n      <td>20.344444</td>\n      <td>18.675000</td>\n      <td>17.875000</td>\n      <td>12.828571</td>\n      <td>9.487500</td>\n    </tr>\n    <tr>\n      <th>2002</th>\n      <td>8.162500</td>\n      <td>10.966667</td>\n      <td>11.285714</td>\n      <td>13.750000</td>\n      <td>15.362500</td>\n      <td>20.100000</td>\n      <td>20.342857</td>\n      <td>20.285714</td>\n      <td>19.750000</td>\n      <td>16.188889</td>\n      <td>13.288889</td>\n      <td>9.812500</td>\n    </tr>\n    <tr>\n      <th>2003</th>\n      <td>11.344444</td>\n      <td>10.425000</td>\n      <td>12.800000</td>\n      <td>11.177778</td>\n      <td>16.188889</td>\n      <td>19.414286</td>\n      <td>21.214286</td>\n      <td>20.800000</td>\n      <td>20.500000</td>\n      <td>18.314286</td>\n      <td>10.411111</td>\n      <td>9.162500</td>\n    </tr>\n    <tr>\n      <th>2004</th>\n      <td>9.100000</td>\n      <td>9.962500</td>\n      <td>15.555556</td>\n      <td>15.087500</td>\n      <td>16.950000</td>\n      <td>19.342857</td>\n      <td>20.287500</td>\n      <td>21.271429</td>\n      <td>20.942857</td>\n      <td>15.633333</td>\n      <td>11.587500</td>\n      <td>9.528571</td>\n    </tr>\n  </tbody>\n</table>\n</div>"
     },
     "metadata": {},
     "execution_count": 20
    }
   ],
   "source": [
    "santarosa_yr_mo_avg_pivot.head()"
   ]
  },
  {
   "cell_type": "code",
   "execution_count": 21,
   "metadata": {},
   "outputs": [],
   "source": [
    "santa_rosa_butterfly_count= (0,0,0,0,0,0,0,0,0,0,600,20,5,8,911,50,18,5,0,7)"
   ]
  },
  {
   "cell_type": "code",
   "execution_count": 22,
   "metadata": {},
   "outputs": [],
   "source": [
    "stockton_df[['Year', 'Month']]=stockton_df['DATE'].str.split('-',1,expand=True)\n",
    "stockton_yr_mo_avg=stockton_df[['Year','Month','TAVG']]\n",
    "stockton_yr_mo_avg_pivot=stockton_yr_mo_avg.pivot(index='Year', columns='Month', values=['TAVG'])"
   ]
  },
  {
   "cell_type": "code",
   "execution_count": 23,
   "metadata": {},
   "outputs": [
    {
     "output_type": "execute_result",
     "data": {
      "text/plain": [
       "            TAVG                                                     \\\n",
       "Month         01         02         03     04         05         06   \n",
       "Year                                                                  \n",
       "2000    9.866667  11.600000  13.166667  16.10  18.933333  23.166667   \n",
       "2001    7.200000   9.700000  13.966667  13.60  22.100000  23.433333   \n",
       "2002    7.033333  10.633333  11.950000  15.15  18.600000  23.000000   \n",
       "2003   10.100000  10.200000  13.433333  13.40  18.950000  22.733333   \n",
       "2004    8.133333  10.233333  15.800000  17.00  19.766667  22.766667   \n",
       "\n",
       "                                                                    \n",
       "Month         07     08         09         10         11        12  \n",
       "Year                                                                \n",
       "2000   22.633333  23.95  22.066667  16.866667   9.566667  8.266667  \n",
       "2001   23.650000  24.20  22.133333  19.000000  12.966667  8.966667  \n",
       "2002   24.600000  23.10  23.033333  17.533333  12.233333  9.300000  \n",
       "2003   25.966667  23.90  23.300000  19.966667  11.100000  9.500000  \n",
       "2004   24.233333  24.20  22.533333  16.700000  10.633333  8.233333  "
      ],
      "text/html": "<div>\n<style scoped>\n    .dataframe tbody tr th:only-of-type {\n        vertical-align: middle;\n    }\n\n    .dataframe tbody tr th {\n        vertical-align: top;\n    }\n\n    .dataframe thead tr th {\n        text-align: left;\n    }\n\n    .dataframe thead tr:last-of-type th {\n        text-align: right;\n    }\n</style>\n<table border=\"1\" class=\"dataframe\">\n  <thead>\n    <tr>\n      <th></th>\n      <th colspan=\"12\" halign=\"left\">TAVG</th>\n    </tr>\n    <tr>\n      <th>Month</th>\n      <th>01</th>\n      <th>02</th>\n      <th>03</th>\n      <th>04</th>\n      <th>05</th>\n      <th>06</th>\n      <th>07</th>\n      <th>08</th>\n      <th>09</th>\n      <th>10</th>\n      <th>11</th>\n      <th>12</th>\n    </tr>\n    <tr>\n      <th>Year</th>\n      <th></th>\n      <th></th>\n      <th></th>\n      <th></th>\n      <th></th>\n      <th></th>\n      <th></th>\n      <th></th>\n      <th></th>\n      <th></th>\n      <th></th>\n      <th></th>\n    </tr>\n  </thead>\n  <tbody>\n    <tr>\n      <th>2000</th>\n      <td>9.866667</td>\n      <td>11.600000</td>\n      <td>13.166667</td>\n      <td>16.10</td>\n      <td>18.933333</td>\n      <td>23.166667</td>\n      <td>22.633333</td>\n      <td>23.95</td>\n      <td>22.066667</td>\n      <td>16.866667</td>\n      <td>9.566667</td>\n      <td>8.266667</td>\n    </tr>\n    <tr>\n      <th>2001</th>\n      <td>7.200000</td>\n      <td>9.700000</td>\n      <td>13.966667</td>\n      <td>13.60</td>\n      <td>22.100000</td>\n      <td>23.433333</td>\n      <td>23.650000</td>\n      <td>24.20</td>\n      <td>22.133333</td>\n      <td>19.000000</td>\n      <td>12.966667</td>\n      <td>8.966667</td>\n    </tr>\n    <tr>\n      <th>2002</th>\n      <td>7.033333</td>\n      <td>10.633333</td>\n      <td>11.950000</td>\n      <td>15.15</td>\n      <td>18.600000</td>\n      <td>23.000000</td>\n      <td>24.600000</td>\n      <td>23.10</td>\n      <td>23.033333</td>\n      <td>17.533333</td>\n      <td>12.233333</td>\n      <td>9.300000</td>\n    </tr>\n    <tr>\n      <th>2003</th>\n      <td>10.100000</td>\n      <td>10.200000</td>\n      <td>13.433333</td>\n      <td>13.40</td>\n      <td>18.950000</td>\n      <td>22.733333</td>\n      <td>25.966667</td>\n      <td>23.90</td>\n      <td>23.300000</td>\n      <td>19.966667</td>\n      <td>11.100000</td>\n      <td>9.500000</td>\n    </tr>\n    <tr>\n      <th>2004</th>\n      <td>8.133333</td>\n      <td>10.233333</td>\n      <td>15.800000</td>\n      <td>17.00</td>\n      <td>19.766667</td>\n      <td>22.766667</td>\n      <td>24.233333</td>\n      <td>24.20</td>\n      <td>22.533333</td>\n      <td>16.700000</td>\n      <td>10.633333</td>\n      <td>8.233333</td>\n    </tr>\n  </tbody>\n</table>\n</div>"
     },
     "metadata": {},
     "execution_count": 23
    }
   ],
   "source": [
    "stockton_yr_mo_avg_pivot.head()"
   ]
  },
  {
   "cell_type": "code",
   "execution_count": null,
   "metadata": {},
   "outputs": [],
   "source": []
  }
 ]
}