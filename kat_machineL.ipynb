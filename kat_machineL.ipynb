{
 "metadata": {
  "language_info": {
   "codemirror_mode": {
    "name": "ipython",
    "version": 3
   },
   "file_extension": ".py",
   "mimetype": "text/x-python",
   "name": "python",
   "nbconvert_exporter": "python",
   "pygments_lexer": "ipython3",
   "version": "3.6.10-final"
  },
  "orig_nbformat": 2,
  "kernelspec": {
   "name": "python3",
   "display_name": "Python 3",
   "language": "python"
  }
 },
 "nbformat": 4,
 "nbformat_minor": 2,
 "cells": [
  {
   "cell_type": "code",
   "execution_count": 1,
   "metadata": {},
   "outputs": [],
   "source": [
    "import pandas as pd\n",
    "from sklearn.model_selection import train_test_split\n",
    "from sklearn.preprocessing import MinMaxScaler\n",
    "from sklearn.linear_model import LogisticRegression\n",
    "from sklearn.model_selection import GridSearchCV\n",
    "from sklearn.metrics import explained_variance_score, \\\n",
    "    mean_absolute_error, \\\n",
    "    median_absolute_error\n",
    "import tensorflow as tf\n",
    "import joblib"
   ]
  },
  {
   "cell_type": "code",
   "execution_count": 11,
   "metadata": {},
   "outputs": [],
   "source": [
    "Path=\"Raw_Data/grouped_dates_monterey_avg.csv\"\n",
    "df=pd.read_csv(Path)"
   ]
  },
  {
   "cell_type": "code",
   "execution_count": 12,
   "metadata": {},
   "outputs": [
    {
     "output_type": "execute_result",
     "data": {
      "text/plain": [
       "      LATITUDE   LONGITUDE  ELEVATION      EMNT    EMXT       TAVG\n",
       "0    36.574080 -121.786360  64.260000  4.575000  26.125  11.800000\n",
       "1    36.569425 -121.769075  71.025000  0.733333  22.200  10.833333\n",
       "2    36.574080 -121.786360  64.260000  0.975000  24.175  11.900000\n",
       "3    36.574080 -121.786360  64.260000  0.300000  24.750  10.025000\n",
       "4    36.574080 -121.786360  64.260000  1.125000  25.275  10.675000\n",
       "..         ...         ...        ...       ...     ...        ...\n",
       "96   36.637198 -121.759970  57.528571  2.250000  28.900  13.250000\n",
       "97   36.637198 -121.759970  57.528571  1.650000  20.850  12.100000\n",
       "98   36.637198 -121.759970  57.528571  1.950000  23.300  11.200000\n",
       "99   36.664012 -121.766689  44.466667 -1.400000  26.650  12.200000\n",
       "100  36.613995 -121.765233  66.200000  2.200000  24.200  12.400000\n",
       "\n",
       "[101 rows x 6 columns]"
      ],
      "text/html": "<div>\n<style scoped>\n    .dataframe tbody tr th:only-of-type {\n        vertical-align: middle;\n    }\n\n    .dataframe tbody tr th {\n        vertical-align: top;\n    }\n\n    .dataframe thead th {\n        text-align: right;\n    }\n</style>\n<table border=\"1\" class=\"dataframe\">\n  <thead>\n    <tr style=\"text-align: right;\">\n      <th></th>\n      <th>LATITUDE</th>\n      <th>LONGITUDE</th>\n      <th>ELEVATION</th>\n      <th>EMNT</th>\n      <th>EMXT</th>\n      <th>TAVG</th>\n    </tr>\n  </thead>\n  <tbody>\n    <tr>\n      <th>0</th>\n      <td>36.574080</td>\n      <td>-121.786360</td>\n      <td>64.260000</td>\n      <td>4.575000</td>\n      <td>26.125</td>\n      <td>11.800000</td>\n    </tr>\n    <tr>\n      <th>1</th>\n      <td>36.569425</td>\n      <td>-121.769075</td>\n      <td>71.025000</td>\n      <td>0.733333</td>\n      <td>22.200</td>\n      <td>10.833333</td>\n    </tr>\n    <tr>\n      <th>2</th>\n      <td>36.574080</td>\n      <td>-121.786360</td>\n      <td>64.260000</td>\n      <td>0.975000</td>\n      <td>24.175</td>\n      <td>11.900000</td>\n    </tr>\n    <tr>\n      <th>3</th>\n      <td>36.574080</td>\n      <td>-121.786360</td>\n      <td>64.260000</td>\n      <td>0.300000</td>\n      <td>24.750</td>\n      <td>10.025000</td>\n    </tr>\n    <tr>\n      <th>4</th>\n      <td>36.574080</td>\n      <td>-121.786360</td>\n      <td>64.260000</td>\n      <td>1.125000</td>\n      <td>25.275</td>\n      <td>10.675000</td>\n    </tr>\n    <tr>\n      <th>...</th>\n      <td>...</td>\n      <td>...</td>\n      <td>...</td>\n      <td>...</td>\n      <td>...</td>\n      <td>...</td>\n    </tr>\n    <tr>\n      <th>96</th>\n      <td>36.637198</td>\n      <td>-121.759970</td>\n      <td>57.528571</td>\n      <td>2.250000</td>\n      <td>28.900</td>\n      <td>13.250000</td>\n    </tr>\n    <tr>\n      <th>97</th>\n      <td>36.637198</td>\n      <td>-121.759970</td>\n      <td>57.528571</td>\n      <td>1.650000</td>\n      <td>20.850</td>\n      <td>12.100000</td>\n    </tr>\n    <tr>\n      <th>98</th>\n      <td>36.637198</td>\n      <td>-121.759970</td>\n      <td>57.528571</td>\n      <td>1.950000</td>\n      <td>23.300</td>\n      <td>11.200000</td>\n    </tr>\n    <tr>\n      <th>99</th>\n      <td>36.664012</td>\n      <td>-121.766689</td>\n      <td>44.466667</td>\n      <td>-1.400000</td>\n      <td>26.650</td>\n      <td>12.200000</td>\n    </tr>\n    <tr>\n      <th>100</th>\n      <td>36.613995</td>\n      <td>-121.765233</td>\n      <td>66.200000</td>\n      <td>2.200000</td>\n      <td>24.200</td>\n      <td>12.400000</td>\n    </tr>\n  </tbody>\n</table>\n<p>101 rows × 6 columns</p>\n</div>"
     },
     "metadata": {},
     "execution_count": 12
    }
   ],
   "source": []
  },
  {
   "cell_type": "code",
   "execution_count": null,
   "metadata": {},
   "outputs": [],
   "source": []
  }
 ]
}