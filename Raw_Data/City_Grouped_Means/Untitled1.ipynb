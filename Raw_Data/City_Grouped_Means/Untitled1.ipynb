{
 "cells": [
  {
   "cell_type": "code",
   "execution_count": 1,
   "id": "iraqi-editing",
   "metadata": {},
   "outputs": [],
   "source": [
    "import pandas as pd\n",
    "import numpy as np\n",
    "import tensorflow as tf\n",
    "from sklearn.metrics import explained_variance_score, \\\n",
    "    mean_absolute_error, \\\n",
    "    median_absolute_error\n",
    "from sklearn.model_selection import train_test_split"
   ]
  },
  {
   "cell_type": "code",
   "execution_count": 2,
   "id": "mechanical-travel",
   "metadata": {},
   "outputs": [
    {
     "data": {
      "text/html": [
       "<div>\n",
       "<style scoped>\n",
       "    .dataframe tbody tr th:only-of-type {\n",
       "        vertical-align: middle;\n",
       "    }\n",
       "\n",
       "    .dataframe tbody tr th {\n",
       "        vertical-align: top;\n",
       "    }\n",
       "\n",
       "    .dataframe thead th {\n",
       "        text-align: right;\n",
       "    }\n",
       "</style>\n",
       "<table border=\"1\" class=\"dataframe\">\n",
       "  <thead>\n",
       "    <tr style=\"text-align: right;\">\n",
       "      <th></th>\n",
       "      <th>count</th>\n",
       "      <th>mean</th>\n",
       "      <th>std</th>\n",
       "      <th>min</th>\n",
       "      <th>25%</th>\n",
       "      <th>50%</th>\n",
       "      <th>75%</th>\n",
       "      <th>max</th>\n",
       "    </tr>\n",
       "  </thead>\n",
       "  <tbody>\n",
       "    <tr>\n",
       "      <th>Unnamed: 0</th>\n",
       "      <td>100.0</td>\n",
       "      <td>696.305915</td>\n",
       "      <td>243.560441</td>\n",
       "      <td>103.466667</td>\n",
       "      <td>543.807994</td>\n",
       "      <td>788.786866</td>\n",
       "      <td>913.078125</td>\n",
       "      <td>967.750000</td>\n",
       "    </tr>\n",
       "    <tr>\n",
       "      <th>LATITUDE</th>\n",
       "      <td>100.0</td>\n",
       "      <td>34.092589</td>\n",
       "      <td>0.010130</td>\n",
       "      <td>34.070194</td>\n",
       "      <td>34.085612</td>\n",
       "      <td>34.090528</td>\n",
       "      <td>34.097040</td>\n",
       "      <td>34.133871</td>\n",
       "    </tr>\n",
       "    <tr>\n",
       "      <th>LONGITUDE</th>\n",
       "      <td>100.0</td>\n",
       "      <td>-118.264067</td>\n",
       "      <td>0.014761</td>\n",
       "      <td>-118.299943</td>\n",
       "      <td>-118.276855</td>\n",
       "      <td>-118.264438</td>\n",
       "      <td>-118.253003</td>\n",
       "      <td>-118.228762</td>\n",
       "    </tr>\n",
       "    <tr>\n",
       "      <th>ELEVATION</th>\n",
       "      <td>100.0</td>\n",
       "      <td>384.799970</td>\n",
       "      <td>24.680136</td>\n",
       "      <td>322.707143</td>\n",
       "      <td>362.192529</td>\n",
       "      <td>386.148653</td>\n",
       "      <td>402.892500</td>\n",
       "      <td>455.148148</td>\n",
       "    </tr>\n",
       "    <tr>\n",
       "      <th>EMNT</th>\n",
       "      <td>100.0</td>\n",
       "      <td>3.369970</td>\n",
       "      <td>1.888607</td>\n",
       "      <td>-1.706250</td>\n",
       "      <td>1.991774</td>\n",
       "      <td>3.101786</td>\n",
       "      <td>4.374266</td>\n",
       "      <td>8.111111</td>\n",
       "    </tr>\n",
       "    <tr>\n",
       "      <th>EMXT</th>\n",
       "      <td>100.0</td>\n",
       "      <td>28.143166</td>\n",
       "      <td>2.821956</td>\n",
       "      <td>19.582143</td>\n",
       "      <td>25.924934</td>\n",
       "      <td>28.089063</td>\n",
       "      <td>30.154924</td>\n",
       "      <td>35.060714</td>\n",
       "    </tr>\n",
       "    <tr>\n",
       "      <th>TAVG</th>\n",
       "      <td>100.0</td>\n",
       "      <td>14.210740</td>\n",
       "      <td>1.986627</td>\n",
       "      <td>10.042857</td>\n",
       "      <td>12.863382</td>\n",
       "      <td>13.922350</td>\n",
       "      <td>15.619657</td>\n",
       "      <td>18.858621</td>\n",
       "    </tr>\n",
       "  </tbody>\n",
       "</table>\n",
       "</div>"
      ],
      "text/plain": [
       "            count        mean         std         min         25%         50%  \\\n",
       "Unnamed: 0  100.0  696.305915  243.560441  103.466667  543.807994  788.786866   \n",
       "LATITUDE    100.0   34.092589    0.010130   34.070194   34.085612   34.090528   \n",
       "LONGITUDE   100.0 -118.264067    0.014761 -118.299943 -118.276855 -118.264438   \n",
       "ELEVATION   100.0  384.799970   24.680136  322.707143  362.192529  386.148653   \n",
       "EMNT        100.0    3.369970    1.888607   -1.706250    1.991774    3.101786   \n",
       "EMXT        100.0   28.143166    2.821956   19.582143   25.924934   28.089063   \n",
       "TAVG        100.0   14.210740    1.986627   10.042857   12.863382   13.922350   \n",
       "\n",
       "                   75%         max  \n",
       "Unnamed: 0  913.078125  967.750000  \n",
       "LATITUDE     34.097040   34.133871  \n",
       "LONGITUDE  -118.253003 -118.228762  \n",
       "ELEVATION   402.892500  455.148148  \n",
       "EMNT          4.374266    8.111111  \n",
       "EMXT         30.154924   35.060714  \n",
       "TAVG         15.619657   18.858621  "
      ]
     },
     "execution_count": 2,
     "metadata": {},
     "output_type": "execute_result"
    }
   ],
   "source": [
    "# read in the csv data into a pandas data frame and set the date as the index\n",
    "df = pd.read_csv('los_angeles_grouped_dates.csv')\n",
    "\n",
    "# execute the describe() function and transpose the output so that it doesn't overflow the width of the screen\n",
    "df.describe().T"
   ]
  },
  {
   "cell_type": "code",
   "execution_count": 3,
   "id": "published-assessment",
   "metadata": {},
   "outputs": [
    {
     "name": "stdout",
     "output_type": "stream",
     "text": [
      "<class 'pandas.core.frame.DataFrame'>\n",
      "RangeIndex: 100 entries, 0 to 99\n",
      "Data columns (total 7 columns):\n",
      " #   Column      Non-Null Count  Dtype  \n",
      "---  ------      --------------  -----  \n",
      " 0   Unnamed: 0  100 non-null    float64\n",
      " 1   LATITUDE    100 non-null    float64\n",
      " 2   LONGITUDE   100 non-null    float64\n",
      " 3   ELEVATION   100 non-null    float64\n",
      " 4   EMNT        100 non-null    float64\n",
      " 5   EMXT        100 non-null    float64\n",
      " 6   TAVG        100 non-null    float64\n",
      "dtypes: float64(7)\n",
      "memory usage: 5.6 KB\n"
     ]
    }
   ],
   "source": [
    "# execute the info() function\n",
    "df.info()"
   ]
  },
  {
   "cell_type": "code",
   "execution_count": 4,
   "id": "deadly-fetish",
   "metadata": {},
   "outputs": [],
   "source": [
    "# X will be a pandas dataframe of all columns except meantempm\n",
    "X = df[[col for col in df.columns if col != 'TAVG']]\n",
    "\n",
    "# y will be a pandas series of the meantempm\n",
    "y = df['EMNT']"
   ]
  },
  {
   "cell_type": "code",
   "execution_count": 5,
   "id": "social-class",
   "metadata": {},
   "outputs": [],
   "source": [
    "# split data into training set and a temporary set using sklearn.model_selection.traing_test_split\n",
    "X_train, X_tmp, y_train, y_tmp = train_test_split(X, y, test_size=0.2, random_state=23)"
   ]
  },
  {
   "cell_type": "code",
   "execution_count": 6,
   "id": "durable-residence",
   "metadata": {},
   "outputs": [
    {
     "name": "stdout",
     "output_type": "stream",
     "text": [
      "Training instances   80, Training features   6\n",
      "Validation instances 10, Validation features 6\n",
      "Testing instances    10, Testing features    6\n"
     ]
    }
   ],
   "source": [
    "# take the remaining 20% of data in X_tmp, y_tmp and split them evenly\n",
    "X_test, X_val, y_test, y_val = train_test_split(X_tmp, y_tmp, test_size=0.5, random_state=23)\n",
    "\n",
    "X_train.shape, X_test.shape, X_val.shape\n",
    "print(\"Training instances   {}, Training features   {}\".format(X_train.shape[0], X_train.shape[1]))\n",
    "print(\"Validation instances {}, Validation features {}\".format(X_val.shape[0], X_val.shape[1]))\n",
    "print(\"Testing instances    {}, Testing features    {}\".format(X_test.shape[0], X_test.shape[1]))\n"
   ]
  },
  {
   "cell_type": "code",
   "execution_count": 7,
   "id": "accredited-disability",
   "metadata": {},
   "outputs": [],
   "source": [
    "feature_cols = [tf.feature_column.numeric_column(col) for col in X.columns]"
   ]
  },
  {
   "cell_type": "code",
   "execution_count": 8,
   "id": "published-residence",
   "metadata": {},
   "outputs": [
    {
     "name": "stdout",
     "output_type": "stream",
     "text": [
      "INFO:tensorflow:Using default config.\n",
      "INFO:tensorflow:Using config: {'_model_dir': 'tf_wx_model', '_tf_random_seed': None, '_save_summary_steps': 100, '_save_checkpoints_steps': None, '_save_checkpoints_secs': 600, '_session_config': allow_soft_placement: true\n",
      "graph_options {\n",
      "  rewrite_options {\n",
      "    meta_optimizer_iterations: ONE\n",
      "  }\n",
      "}\n",
      ", '_keep_checkpoint_max': 5, '_keep_checkpoint_every_n_hours': 10000, '_log_step_count_steps': 100, '_train_distribute': None, '_device_fn': None, '_protocol': None, '_eval_distribute': None, '_experimental_distribute': None, '_experimental_max_worker_delay_secs': None, '_session_creation_timeout_secs': 7200, '_service': None, '_cluster_spec': <tensorflow.python.training.server_lib.ClusterSpec object at 0x7ff364c616a0>, '_task_type': 'worker', '_task_id': 0, '_global_id_in_cluster': 0, '_master': '', '_evaluation_master': '', '_is_chief': True, '_num_ps_replicas': 0, '_num_worker_replicas': 1}\n"
     ]
    }
   ],
   "source": [
    "regressor = tf.estimator.DNNRegressor(feature_columns=feature_cols,\n",
    "                                      hidden_units=[50, 50],\n",
    "                                      model_dir='tf_wx_model')"
   ]
  },
  {
   "cell_type": "code",
   "execution_count": 9,
   "id": "blank-biography",
   "metadata": {},
   "outputs": [],
   "source": [
    "def wx_input_fn(X, y=None, num_epochs=None, shuffle=True, batch_size=400):\n",
    "    return tf.estimator.inputs.pandas_input_fn(x=X,\n",
    "                                               y=y,\n",
    "                                               num_epochs=num_epochs,\n",
    "                                               shuffle=shuffle,\n",
    "                                               batch_size=batch_size)"
   ]
  },
  {
   "cell_type": "code",
   "execution_count": 10,
   "id": "consistent-canada",
   "metadata": {},
   "outputs": [
    {
     "ename": "AttributeError",
     "evalue": "module 'tensorflow_core.estimator' has no attribute 'inputs'",
     "output_type": "error",
     "traceback": [
      "\u001b[0;31m---------------------------------------------------------------------------\u001b[0m",
      "\u001b[0;31mAttributeError\u001b[0m                            Traceback (most recent call last)",
      "\u001b[0;32m<ipython-input-10-f25e66a3d90f>\u001b[0m in \u001b[0;36m<module>\u001b[0;34m\u001b[0m\n\u001b[1;32m      2\u001b[0m \u001b[0mSTEPS\u001b[0m \u001b[0;34m=\u001b[0m \u001b[0;36m400\u001b[0m\u001b[0;34m\u001b[0m\u001b[0;34m\u001b[0m\u001b[0m\n\u001b[1;32m      3\u001b[0m \u001b[0;32mfor\u001b[0m \u001b[0mi\u001b[0m \u001b[0;32min\u001b[0m \u001b[0mrange\u001b[0m\u001b[0;34m(\u001b[0m\u001b[0;36m100\u001b[0m\u001b[0;34m)\u001b[0m\u001b[0;34m:\u001b[0m\u001b[0;34m\u001b[0m\u001b[0;34m\u001b[0m\u001b[0m\n\u001b[0;32m----> 4\u001b[0;31m     \u001b[0mregressor\u001b[0m\u001b[0;34m.\u001b[0m\u001b[0mtrain\u001b[0m\u001b[0;34m(\u001b[0m\u001b[0minput_fn\u001b[0m\u001b[0;34m=\u001b[0m\u001b[0mwx_input_fn\u001b[0m\u001b[0;34m(\u001b[0m\u001b[0mX_train\u001b[0m\u001b[0;34m,\u001b[0m \u001b[0my\u001b[0m\u001b[0;34m=\u001b[0m\u001b[0my_train\u001b[0m\u001b[0;34m)\u001b[0m\u001b[0;34m,\u001b[0m \u001b[0msteps\u001b[0m\u001b[0;34m=\u001b[0m\u001b[0mSTEPS\u001b[0m\u001b[0;34m)\u001b[0m\u001b[0;34m\u001b[0m\u001b[0;34m\u001b[0m\u001b[0m\n\u001b[0m\u001b[1;32m      5\u001b[0m     evaluations.append(regressor.evaluate(input_fn=wx_input_fn(X_val,\n\u001b[1;32m      6\u001b[0m                                                                \u001b[0my_val\u001b[0m\u001b[0;34m,\u001b[0m\u001b[0;34m\u001b[0m\u001b[0;34m\u001b[0m\u001b[0m\n",
      "\u001b[0;32m<ipython-input-9-54c50a3cf158>\u001b[0m in \u001b[0;36mwx_input_fn\u001b[0;34m(X, y, num_epochs, shuffle, batch_size)\u001b[0m\n\u001b[1;32m      1\u001b[0m \u001b[0;32mdef\u001b[0m \u001b[0mwx_input_fn\u001b[0m\u001b[0;34m(\u001b[0m\u001b[0mX\u001b[0m\u001b[0;34m,\u001b[0m \u001b[0my\u001b[0m\u001b[0;34m=\u001b[0m\u001b[0;32mNone\u001b[0m\u001b[0;34m,\u001b[0m \u001b[0mnum_epochs\u001b[0m\u001b[0;34m=\u001b[0m\u001b[0;32mNone\u001b[0m\u001b[0;34m,\u001b[0m \u001b[0mshuffle\u001b[0m\u001b[0;34m=\u001b[0m\u001b[0;32mTrue\u001b[0m\u001b[0;34m,\u001b[0m \u001b[0mbatch_size\u001b[0m\u001b[0;34m=\u001b[0m\u001b[0;36m400\u001b[0m\u001b[0;34m)\u001b[0m\u001b[0;34m:\u001b[0m\u001b[0;34m\u001b[0m\u001b[0;34m\u001b[0m\u001b[0m\n\u001b[0;32m----> 2\u001b[0;31m     return tf.estimator.inputs.pandas_input_fn(x=X,\n\u001b[0m\u001b[1;32m      3\u001b[0m                                                \u001b[0my\u001b[0m\u001b[0;34m=\u001b[0m\u001b[0my\u001b[0m\u001b[0;34m,\u001b[0m\u001b[0;34m\u001b[0m\u001b[0;34m\u001b[0m\u001b[0m\n\u001b[1;32m      4\u001b[0m                                                \u001b[0mnum_epochs\u001b[0m\u001b[0;34m=\u001b[0m\u001b[0mnum_epochs\u001b[0m\u001b[0;34m,\u001b[0m\u001b[0;34m\u001b[0m\u001b[0;34m\u001b[0m\u001b[0m\n\u001b[1;32m      5\u001b[0m                                                \u001b[0mshuffle\u001b[0m\u001b[0;34m=\u001b[0m\u001b[0mshuffle\u001b[0m\u001b[0;34m,\u001b[0m\u001b[0;34m\u001b[0m\u001b[0;34m\u001b[0m\u001b[0m\n",
      "\u001b[0;31mAttributeError\u001b[0m: module 'tensorflow_core.estimator' has no attribute 'inputs'"
     ]
    }
   ],
   "source": [
    "evaluations = []\n",
    "STEPS = 400\n",
    "for i in range(100):\n",
    "    regressor.train(input_fn=wx_input_fn(X_train, y=y_train), steps=STEPS)\n",
    "    evaluations.append(regressor.evaluate(input_fn=wx_input_fn(X_val,\n",
    "                                                               y_val,\n",
    "                                                               num_epochs=1,\n",
    "                                                               shuffle=False)))"
   ]
  },
  {
   "cell_type": "code",
   "execution_count": null,
   "id": "vocational-cancer",
   "metadata": {},
   "outputs": [],
   "source": []
  }
 ],
 "metadata": {
  "kernelspec": {
   "display_name": "Python [conda env:dviz_ml] *",
   "language": "python",
   "name": "conda-env-dviz_ml-py"
  },
  "language_info": {
   "codemirror_mode": {
    "name": "ipython",
    "version": 3
   },
   "file_extension": ".py",
   "mimetype": "text/x-python",
   "name": "python",
   "nbconvert_exporter": "python",
   "pygments_lexer": "ipython3",
   "version": "3.6.10"
  }
 },
 "nbformat": 4,
 "nbformat_minor": 5
}
