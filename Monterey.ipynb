{
 "metadata": {
  "language_info": {
   "codemirror_mode": {
    "name": "ipython",
    "version": 3
   },
   "file_extension": ".py",
   "mimetype": "text/x-python",
   "name": "python",
   "nbconvert_exporter": "python",
   "pygments_lexer": "ipython3",
   "version": "3.9.1-final"
  },
  "orig_nbformat": 2,
  "kernelspec": {
   "name": "python3",
   "display_name": "Python 3",
   "language": "python"
  }
 },
 "nbformat": 4,
 "nbformat_minor": 2,
 "cells": [
  {
   "cell_type": "code",
   "execution_count": 1,
   "metadata": {},
   "outputs": [],
   "source": [
    "import pandas as pd                     \n",
    "import matplotlib.pyplot as plt      \n",
    "import numpy as np        \n",
    "import pandas\n",
    "import matplotlib as plt\n",
    "import matplotlib.pyplot as plt\n",
    "from os import listdir\n",
    "from os.path import isfile, join\n",
    "import csv\n",
    "from datetime import date, timedelta"
   ]
  },
  {
   "cell_type": "code",
   "execution_count": 2,
   "metadata": {},
   "outputs": [],
   "source": [
    "monterey_path = \"././Raw_Data/Monthly_data_raw/Monterey_csv.csv\"\n",
    "sacramento_path=\"././Raw_Data/Monthly_data_raw/Sacramento.csv\"\n",
    "san_diego_1_path=\"././Raw_Data/Monthly_data_raw/Sandiego_1.csv\"\n",
    "san_diego_2_path=\"././Raw_Data/Monthly_data_raw/Sandiego_2.csv\"\n",
    "san_diego_3_path=\"././Raw_Data/Monthly_data_raw/Sandiego_3.csv\"\n",
    "san_diego_4_path=\"././Raw_Data/Monthly_data_raw/Sandiego_4.csv\"\n",
    "Santa_Maria_path=\"././Raw_Data/Monthly_data_raw/Santa_Maria.csv\"\n",
    "Santa_rosa_path=\"././Raw_Data/Monthly_data_raw/Santa_rosa.csv\"\n",
    "Santa_rosa_2_path=\"././Raw_Data/Monthly_data_raw/Santa_rosa_2.csv\"\n",
    "#read csv into df\n",
    "monterey=pd.read_csv(monterey_path)\n",
    "sacramento=pd.read_csv(sacramento_path)\n",
    "sandiego_1=pd.read_csv(san_diego_1_path)\n",
    "sandiego_2=pd.read_csv(san_diego_2_path)\n",
    "sandiego_3=pd.read_csv(san_diego_3_path)\n",
    "sandiego_4=pd.read_csv(san_diego_4_path)\n",
    "santa_maria=pd.read_csv(Santa_Maria_path)\n",
    "santarosa_1=pd.read_csv(Santa_rosa_path)\n",
    "santarosa_2=pd.read_csv(Santa_rosa_2_path)\n",
    "#make each into DF\n",
    "monterey_df=pd.DataFrame(monterey)\n",
    "sacramento_df=pd.DataFrame(sacramento)\n",
    "sandiego_1_df=pd.DataFrame(sandiego_1)\n",
    "sandiego_2_df=pd.DataFrame(sandiego_2)\n",
    "sandiego_3_df=pd.DataFrame(sandiego_3)\n",
    "sandiego_4_df=pd.DataFrame(sandiego_4)\n",
    "santamaria_df=pd.DataFrame(santa_maria)\n",
    "santarosa_1_df=pd.DataFrame(santarosa_1)\n",
    "santarosa_2_df=pd.DataFrame(santarosa_2)\n"
   ]
  },
  {
   "cell_type": "code",
   "execution_count": 6,
   "metadata": {},
   "outputs": [
    {
     "output_type": "execute_result",
     "data": {
      "text/plain": [
       "       STATION                                    NAME  LATITUDE  LONGITUDE  \\\n",
       "0  USW00023188  SAN DIEGO INTERNATIONAL AIRPORT, CA US   32.7336  -117.1831   \n",
       "1  USW00023188  SAN DIEGO INTERNATIONAL AIRPORT, CA US   32.7336  -117.1831   \n",
       "2  USW00023188  SAN DIEGO INTERNATIONAL AIRPORT, CA US   32.7336  -117.1831   \n",
       "3  USW00023188  SAN DIEGO INTERNATIONAL AIRPORT, CA US   32.7336  -117.1831   \n",
       "4  USW00023188  SAN DIEGO INTERNATIONAL AIRPORT, CA US   32.7336  -117.1831   \n",
       "\n",
       "   ELEVATION     DATE  EMNT  EMXT  TAVG  \n",
       "0        4.6  2000-01   6.1  25.0  14.6  \n",
       "1        4.6  2000-02   8.3  28.3  15.0  \n",
       "2        4.6  2000-03   7.2  22.8  14.5  \n",
       "3        4.6  2000-04  11.1  26.1  16.9  \n",
       "4        4.6  2000-05  13.3  25.0  18.1  "
      ],
      "text/html": "<div>\n<style scoped>\n    .dataframe tbody tr th:only-of-type {\n        vertical-align: middle;\n    }\n\n    .dataframe tbody tr th {\n        vertical-align: top;\n    }\n\n    .dataframe thead th {\n        text-align: right;\n    }\n</style>\n<table border=\"1\" class=\"dataframe\">\n  <thead>\n    <tr style=\"text-align: right;\">\n      <th></th>\n      <th>STATION</th>\n      <th>NAME</th>\n      <th>LATITUDE</th>\n      <th>LONGITUDE</th>\n      <th>ELEVATION</th>\n      <th>DATE</th>\n      <th>EMNT</th>\n      <th>EMXT</th>\n      <th>TAVG</th>\n    </tr>\n  </thead>\n  <tbody>\n    <tr>\n      <th>0</th>\n      <td>USW00023188</td>\n      <td>SAN DIEGO INTERNATIONAL AIRPORT, CA US</td>\n      <td>32.7336</td>\n      <td>-117.1831</td>\n      <td>4.6</td>\n      <td>2000-01</td>\n      <td>6.1</td>\n      <td>25.0</td>\n      <td>14.6</td>\n    </tr>\n    <tr>\n      <th>1</th>\n      <td>USW00023188</td>\n      <td>SAN DIEGO INTERNATIONAL AIRPORT, CA US</td>\n      <td>32.7336</td>\n      <td>-117.1831</td>\n      <td>4.6</td>\n      <td>2000-02</td>\n      <td>8.3</td>\n      <td>28.3</td>\n      <td>15.0</td>\n    </tr>\n    <tr>\n      <th>2</th>\n      <td>USW00023188</td>\n      <td>SAN DIEGO INTERNATIONAL AIRPORT, CA US</td>\n      <td>32.7336</td>\n      <td>-117.1831</td>\n      <td>4.6</td>\n      <td>2000-03</td>\n      <td>7.2</td>\n      <td>22.8</td>\n      <td>14.5</td>\n    </tr>\n    <tr>\n      <th>3</th>\n      <td>USW00023188</td>\n      <td>SAN DIEGO INTERNATIONAL AIRPORT, CA US</td>\n      <td>32.7336</td>\n      <td>-117.1831</td>\n      <td>4.6</td>\n      <td>2000-04</td>\n      <td>11.1</td>\n      <td>26.1</td>\n      <td>16.9</td>\n    </tr>\n    <tr>\n      <th>4</th>\n      <td>USW00023188</td>\n      <td>SAN DIEGO INTERNATIONAL AIRPORT, CA US</td>\n      <td>32.7336</td>\n      <td>-117.1831</td>\n      <td>4.6</td>\n      <td>2000-05</td>\n      <td>13.3</td>\n      <td>25.0</td>\n      <td>18.1</td>\n    </tr>\n  </tbody>\n</table>\n</div>"
     },
     "metadata": {},
     "execution_count": 6
    }
   ],
   "source": []
  },
  {
   "cell_type": "code",
   "execution_count": 7,
   "metadata": {},
   "outputs": [
    {
     "output_type": "execute_result",
     "data": {
      "text/plain": [
       "STATION       object\n",
       "NAME          object\n",
       "LATITUDE     float64\n",
       "LONGITUDE    float64\n",
       "ELEVATION    float64\n",
       "DATE          object\n",
       "EMNT         float64\n",
       "EMXT         float64\n",
       "TAVG         float64\n",
       "dtype: object"
      ]
     },
     "metadata": {},
     "execution_count": 7
    }
   ],
   "source": [
    "monterey_df.dtypes"
   ]
  },
  {
   "cell_type": "code",
   "execution_count": 8,
   "metadata": {},
   "outputs": [],
   "source": [
    "#delete months 04-10 for all years"
   ]
  },
  {
   "cell_type": "code",
   "execution_count": 9,
   "metadata": {},
   "outputs": [],
   "source": [
    "date_00=('2000-04|2000-05|2000-06|2000-07|2000-08|2000-09|2000-10')\n",
    "date_01=('2001-04|2001-05|2001-06|2001-07|2001-08|2001-09|2001-10')\n",
    "date_02=('2002-04|2002-05|2002-06|2002-07|2002-08|2002-09|2002-10')\n",
    "date_03=('2003-04|2003-05|2003-06|2003-07|2003-08|2003-09|2003-10')\n",
    "date_04=('2004-04|2004-05|2004-06|2004-07|2004-08|2004-09|2004-10')\n",
    "date_05=('2005-04|2005-05|2005-06|2005-07|2005-08|2005-09|2005-10')\n",
    "date_06=('2006-04|2006-05|2006-06|2006-07|2006-08|2006-09|2006-10')\n",
    "date_07=('2007-04|2007-05|2007-06|2007-07|2007-08|2007-09|2007-10')\n",
    "date_08=('2008-04|2008-05|2008-06|2008-07|2008-08|2008-09|2008-10')\n",
    "date_09=('2009-04|2009-05|2009-06|2009-07|2009-08|2009-09|2009-10')\n",
    "date_10=('2010-04|2010-05|2010-06|2010-07|2010-08|2010-09|2010-10')\n",
    "date_11=('2011-04|2011-05|2011-06|2011-07|2011-08|2011-09|2011-10')\n",
    "date_12=('2012-04|2012-05|2012-06|2012-07|2012-08|2012-09|2012-10')\n",
    "date_13=('2013-04|2013-05|2013-06|2013-07|2013-08|2013-09|2013-10')\n",
    "date_14=('2014-04|2014-05|2014-06|2014-07|2014-08|2014-09|2014-10')\n",
    "date_15=('2015-04|2015-05|2015-06|2015-07|2015-08|2015-09|2015-10')\n",
    "date_16=('2016-04|2016-05|2016-06|2016-07|2016-08|2016-09|2016-10')\n",
    "date_17=('2017-04|2017-05|2017-06|2017-07|2017-08|2017-09|2017-10')\n",
    "date_18=('2018-04|2018-05|2018-06|2018-07|2018-08|2018-09|2018-10')\n",
    "date_19=('2019-04|2019-05|2019-06|2019-07|2019-08|2019-09|2019-10')\n",
    "date_20=('2020-04|2020-05|2020-06|2020-07|2020-08|2020-09|2020-10')"
   ]
  },
  {
   "cell_type": "code",
   "execution_count": 10,
   "metadata": {},
   "outputs": [],
   "source": [
    "monterey_df=monterey_df[monterey_df[\"DATE\"].str.contains(date_02)==False]"
   ]
  },
  {
   "cell_type": "code",
   "execution_count": 11,
   "metadata": {},
   "outputs": [],
   "source": [
    "monterey_df=monterey_df[monterey_df[\"DATE\"].str.contains(date_03)==False]\n",
    "monterey_df=monterey_df[monterey_df[\"DATE\"].str.contains(date_04)==False]\n",
    "monterey_df=monterey_df[monterey_df[\"DATE\"].str.contains(date_05)==False]\n",
    "monterey_df=monterey_df[monterey_df[\"DATE\"].str.contains(date_06)==False]\n",
    "monterey_df=monterey_df[monterey_df[\"DATE\"].str.contains(date_07)==False]\n",
    "monterey_df=monterey_df[monterey_df[\"DATE\"].str.contains(date_08)==False]\n",
    "monterey_df=monterey_df[monterey_df[\"DATE\"].str.contains(date_09)==False]\n",
    "monterey_df=monterey_df[monterey_df[\"DATE\"].str.contains(date_10)==False]\n",
    "monterey_df=monterey_df[monterey_df[\"DATE\"].str.contains(date_01)==False]\n",
    "monterey_df=monterey_df[monterey_df[\"DATE\"].str.contains(date_00)==False]\n"
   ]
  },
  {
   "cell_type": "code",
   "execution_count": 38,
   "metadata": {},
   "outputs": [],
   "source": [
    "monterey_df=monterey_df[monterey_df[\"DATE\"].str.contains(date_11)==False]\n",
    "monterey_df=monterey_df[monterey_df[\"DATE\"].str.contains(date_12)==False]\n",
    "monterey_df=monterey_df[monterey_df[\"DATE\"].str.contains(date_13)==False]\n",
    "monterey_df=monterey_df[monterey_df[\"DATE\"].str.contains(date_14)==False]\n",
    "monterey_df=monterey_df[monterey_df[\"DATE\"].str.contains(date_15)==False]\n",
    "monterey_df=monterey_df[monterey_df[\"DATE\"].str.contains(date_16)==False]\n",
    "monterey_df=monterey_df[monterey_df[\"DATE\"].str.contains(date_17)==False]\n",
    "monterey_df=monterey_df[monterey_df[\"DATE\"].str.contains(date_18)==False]\n",
    "monterey_df=monterey_df[monterey_df[\"DATE\"].str.contains(date_19)==False]\n",
    "monterey_df=monterey_df[monterey_df[\"DATE\"].str.contains(date_20)==False]\n"
   ]
  },
  {
   "cell_type": "code",
   "execution_count": 13,
   "metadata": {},
   "outputs": [],
   "source": [
    "monterey_df_drop_nan=monterey_df.dropna()"
   ]
  },
  {
   "cell_type": "code",
   "execution_count": 14,
   "metadata": {},
   "outputs": [],
   "source": [
    "#group by DATE then avg TMIN, TMAX and TAVG\n",
    "#groupby date then med TMin, max and avg\n",
    "#sel tavg by yr-month then avg into one 'station'\n",
    "grouped_dates=monterey_df.groupby([monterey_df.DATE]).mean()\n",
    "group_dates_monterey_median=monterey_df.groupby([monterey_df.DATE]).median()"
   ]
  },
  {
   "cell_type": "code",
   "execution_count": 15,
   "metadata": {},
   "outputs": [
    {
     "output_type": "execute_result",
     "data": {
      "text/plain": [
       "          LATITUDE   LONGITUDE  ELEVATION      EMNT    EMXT       TAVG\n",
       "DATE                                                                  \n",
       "2000-03  36.574080 -121.786360  64.260000  4.575000  26.125  11.800000\n",
       "2000-11  36.569425 -121.769075  71.025000  0.733333  22.200  10.833333\n",
       "2000-12  36.574080 -121.786360  64.260000  0.975000  24.175  11.900000\n",
       "2001-01  36.574080 -121.786360  64.260000  0.300000  24.750  10.025000\n",
       "2001-02  36.574080 -121.786360  64.260000  1.125000  25.275  10.675000\n",
       "...            ...         ...        ...       ...     ...        ...\n",
       "2019-11  36.637198 -121.759970  57.528571  2.250000  28.900  13.250000\n",
       "2019-12  36.637198 -121.759970  57.528571  1.650000  20.850  12.100000\n",
       "2020-01  36.637198 -121.759970  57.528571  1.950000  23.300  11.200000\n",
       "2020-02  36.664012 -121.766689  44.466667 -1.400000  26.650  12.200000\n",
       "2020-03  36.613995 -121.765233  66.200000  2.200000  24.200  12.400000\n",
       "\n",
       "[101 rows x 6 columns]"
      ],
      "text/html": "<div>\n<style scoped>\n    .dataframe tbody tr th:only-of-type {\n        vertical-align: middle;\n    }\n\n    .dataframe tbody tr th {\n        vertical-align: top;\n    }\n\n    .dataframe thead th {\n        text-align: right;\n    }\n</style>\n<table border=\"1\" class=\"dataframe\">\n  <thead>\n    <tr style=\"text-align: right;\">\n      <th></th>\n      <th>LATITUDE</th>\n      <th>LONGITUDE</th>\n      <th>ELEVATION</th>\n      <th>EMNT</th>\n      <th>EMXT</th>\n      <th>TAVG</th>\n    </tr>\n    <tr>\n      <th>DATE</th>\n      <th></th>\n      <th></th>\n      <th></th>\n      <th></th>\n      <th></th>\n      <th></th>\n    </tr>\n  </thead>\n  <tbody>\n    <tr>\n      <th>2000-03</th>\n      <td>36.574080</td>\n      <td>-121.786360</td>\n      <td>64.260000</td>\n      <td>4.575000</td>\n      <td>26.125</td>\n      <td>11.800000</td>\n    </tr>\n    <tr>\n      <th>2000-11</th>\n      <td>36.569425</td>\n      <td>-121.769075</td>\n      <td>71.025000</td>\n      <td>0.733333</td>\n      <td>22.200</td>\n      <td>10.833333</td>\n    </tr>\n    <tr>\n      <th>2000-12</th>\n      <td>36.574080</td>\n      <td>-121.786360</td>\n      <td>64.260000</td>\n      <td>0.975000</td>\n      <td>24.175</td>\n      <td>11.900000</td>\n    </tr>\n    <tr>\n      <th>2001-01</th>\n      <td>36.574080</td>\n      <td>-121.786360</td>\n      <td>64.260000</td>\n      <td>0.300000</td>\n      <td>24.750</td>\n      <td>10.025000</td>\n    </tr>\n    <tr>\n      <th>2001-02</th>\n      <td>36.574080</td>\n      <td>-121.786360</td>\n      <td>64.260000</td>\n      <td>1.125000</td>\n      <td>25.275</td>\n      <td>10.675000</td>\n    </tr>\n    <tr>\n      <th>...</th>\n      <td>...</td>\n      <td>...</td>\n      <td>...</td>\n      <td>...</td>\n      <td>...</td>\n      <td>...</td>\n    </tr>\n    <tr>\n      <th>2019-11</th>\n      <td>36.637198</td>\n      <td>-121.759970</td>\n      <td>57.528571</td>\n      <td>2.250000</td>\n      <td>28.900</td>\n      <td>13.250000</td>\n    </tr>\n    <tr>\n      <th>2019-12</th>\n      <td>36.637198</td>\n      <td>-121.759970</td>\n      <td>57.528571</td>\n      <td>1.650000</td>\n      <td>20.850</td>\n      <td>12.100000</td>\n    </tr>\n    <tr>\n      <th>2020-01</th>\n      <td>36.637198</td>\n      <td>-121.759970</td>\n      <td>57.528571</td>\n      <td>1.950000</td>\n      <td>23.300</td>\n      <td>11.200000</td>\n    </tr>\n    <tr>\n      <th>2020-02</th>\n      <td>36.664012</td>\n      <td>-121.766689</td>\n      <td>44.466667</td>\n      <td>-1.400000</td>\n      <td>26.650</td>\n      <td>12.200000</td>\n    </tr>\n    <tr>\n      <th>2020-03</th>\n      <td>36.613995</td>\n      <td>-121.765233</td>\n      <td>66.200000</td>\n      <td>2.200000</td>\n      <td>24.200</td>\n      <td>12.400000</td>\n    </tr>\n  </tbody>\n</table>\n<p>101 rows × 6 columns</p>\n</div>"
     },
     "metadata": {},
     "execution_count": 15
    }
   ],
   "source": [
    "grouped_dates_monterey_avg=grouped_dates\n",
    "grouped_dates_monterey_avg"
   ]
  },
  {
   "cell_type": "code",
   "execution_count": 16,
   "metadata": {},
   "outputs": [
    {
     "output_type": "execute_result",
     "data": {
      "text/plain": [
       "          LATITUDE   LONGITUDE  ELEVATION  EMNT   EMXT   TAVG\n",
       "DATE                                                         \n",
       "2000-03  36.592700 -121.845300      37.20  4.70  26.40  11.90\n",
       "2000-11  36.590400 -121.777250      43.75  1.10  22.20  10.90\n",
       "2000-12  36.592700 -121.845300      37.20  0.55  23.90  11.90\n",
       "2001-01  36.592700 -121.845300      37.20  0.60  24.75  10.05\n",
       "2001-02  36.592700 -121.845300      37.20  1.40  25.30  10.65\n",
       "...            ...         ...        ...   ...    ...    ...\n",
       "2019-11  36.673164 -121.728389      41.50  2.25  28.90  13.25\n",
       "2019-12  36.673164 -121.728389      41.50  1.65  20.85  12.10\n",
       "2020-01  36.673164 -121.728389      41.50  1.95  23.30  11.20\n",
       "2020-02  36.681027 -121.756013      29.75 -1.40  26.65  12.20\n",
       "2020-03  36.630632 -121.755289      45.90  2.20  24.20  12.40\n",
       "\n",
       "[101 rows x 6 columns]"
      ],
      "text/html": "<div>\n<style scoped>\n    .dataframe tbody tr th:only-of-type {\n        vertical-align: middle;\n    }\n\n    .dataframe tbody tr th {\n        vertical-align: top;\n    }\n\n    .dataframe thead th {\n        text-align: right;\n    }\n</style>\n<table border=\"1\" class=\"dataframe\">\n  <thead>\n    <tr style=\"text-align: right;\">\n      <th></th>\n      <th>LATITUDE</th>\n      <th>LONGITUDE</th>\n      <th>ELEVATION</th>\n      <th>EMNT</th>\n      <th>EMXT</th>\n      <th>TAVG</th>\n    </tr>\n    <tr>\n      <th>DATE</th>\n      <th></th>\n      <th></th>\n      <th></th>\n      <th></th>\n      <th></th>\n      <th></th>\n    </tr>\n  </thead>\n  <tbody>\n    <tr>\n      <th>2000-03</th>\n      <td>36.592700</td>\n      <td>-121.845300</td>\n      <td>37.20</td>\n      <td>4.70</td>\n      <td>26.40</td>\n      <td>11.90</td>\n    </tr>\n    <tr>\n      <th>2000-11</th>\n      <td>36.590400</td>\n      <td>-121.777250</td>\n      <td>43.75</td>\n      <td>1.10</td>\n      <td>22.20</td>\n      <td>10.90</td>\n    </tr>\n    <tr>\n      <th>2000-12</th>\n      <td>36.592700</td>\n      <td>-121.845300</td>\n      <td>37.20</td>\n      <td>0.55</td>\n      <td>23.90</td>\n      <td>11.90</td>\n    </tr>\n    <tr>\n      <th>2001-01</th>\n      <td>36.592700</td>\n      <td>-121.845300</td>\n      <td>37.20</td>\n      <td>0.60</td>\n      <td>24.75</td>\n      <td>10.05</td>\n    </tr>\n    <tr>\n      <th>2001-02</th>\n      <td>36.592700</td>\n      <td>-121.845300</td>\n      <td>37.20</td>\n      <td>1.40</td>\n      <td>25.30</td>\n      <td>10.65</td>\n    </tr>\n    <tr>\n      <th>...</th>\n      <td>...</td>\n      <td>...</td>\n      <td>...</td>\n      <td>...</td>\n      <td>...</td>\n      <td>...</td>\n    </tr>\n    <tr>\n      <th>2019-11</th>\n      <td>36.673164</td>\n      <td>-121.728389</td>\n      <td>41.50</td>\n      <td>2.25</td>\n      <td>28.90</td>\n      <td>13.25</td>\n    </tr>\n    <tr>\n      <th>2019-12</th>\n      <td>36.673164</td>\n      <td>-121.728389</td>\n      <td>41.50</td>\n      <td>1.65</td>\n      <td>20.85</td>\n      <td>12.10</td>\n    </tr>\n    <tr>\n      <th>2020-01</th>\n      <td>36.673164</td>\n      <td>-121.728389</td>\n      <td>41.50</td>\n      <td>1.95</td>\n      <td>23.30</td>\n      <td>11.20</td>\n    </tr>\n    <tr>\n      <th>2020-02</th>\n      <td>36.681027</td>\n      <td>-121.756013</td>\n      <td>29.75</td>\n      <td>-1.40</td>\n      <td>26.65</td>\n      <td>12.20</td>\n    </tr>\n    <tr>\n      <th>2020-03</th>\n      <td>36.630632</td>\n      <td>-121.755289</td>\n      <td>45.90</td>\n      <td>2.20</td>\n      <td>24.20</td>\n      <td>12.40</td>\n    </tr>\n  </tbody>\n</table>\n<p>101 rows × 6 columns</p>\n</div>"
     },
     "metadata": {},
     "execution_count": 16
    }
   ],
   "source": [
    "group_dates_monterey_median"
   ]
  },
  {
   "cell_type": "code",
   "execution_count": null,
   "metadata": {},
   "outputs": [],
   "source": []
  },
  {
   "cell_type": "code",
   "execution_count": 17,
   "metadata": {},
   "outputs": [
    {
     "output_type": "execute_result",
     "data": {
      "text/plain": [
       "       STATION                           NAME   LATITUDE   LONGITUDE  \\\n",
       "0  US1CASA0062      SACRAMENTO 2.7 SSW, CA US  38.533270 -121.493212   \n",
       "1  US1CASA0061  RANCHO CORDOVA 5.9 ESE, CA US  38.570137 -121.196535   \n",
       "2  US1CASA0061  RANCHO CORDOVA 5.9 ESE, CA US  38.570137 -121.196535   \n",
       "3  US1CASA0061  RANCHO CORDOVA 5.9 ESE, CA US  38.570137 -121.196535   \n",
       "4  US1CASA0061  RANCHO CORDOVA 5.9 ESE, CA US  38.570137 -121.196535   \n",
       "\n",
       "   ELEVATION     DATE  EMNT  EMXT  TAVG  \n",
       "0        7.0  2019-12   NaN   NaN   NaN  \n",
       "1       74.1  2019-02   NaN   NaN   NaN  \n",
       "2       74.1  2019-03   NaN   NaN   NaN  \n",
       "3       74.1  2019-04   NaN   NaN   NaN  \n",
       "4       74.1  2019-05   NaN   NaN   NaN  "
      ],
      "text/html": "<div>\n<style scoped>\n    .dataframe tbody tr th:only-of-type {\n        vertical-align: middle;\n    }\n\n    .dataframe tbody tr th {\n        vertical-align: top;\n    }\n\n    .dataframe thead th {\n        text-align: right;\n    }\n</style>\n<table border=\"1\" class=\"dataframe\">\n  <thead>\n    <tr style=\"text-align: right;\">\n      <th></th>\n      <th>STATION</th>\n      <th>NAME</th>\n      <th>LATITUDE</th>\n      <th>LONGITUDE</th>\n      <th>ELEVATION</th>\n      <th>DATE</th>\n      <th>EMNT</th>\n      <th>EMXT</th>\n      <th>TAVG</th>\n    </tr>\n  </thead>\n  <tbody>\n    <tr>\n      <th>0</th>\n      <td>US1CASA0062</td>\n      <td>SACRAMENTO 2.7 SSW, CA US</td>\n      <td>38.533270</td>\n      <td>-121.493212</td>\n      <td>7.0</td>\n      <td>2019-12</td>\n      <td>NaN</td>\n      <td>NaN</td>\n      <td>NaN</td>\n    </tr>\n    <tr>\n      <th>1</th>\n      <td>US1CASA0061</td>\n      <td>RANCHO CORDOVA 5.9 ESE, CA US</td>\n      <td>38.570137</td>\n      <td>-121.196535</td>\n      <td>74.1</td>\n      <td>2019-02</td>\n      <td>NaN</td>\n      <td>NaN</td>\n      <td>NaN</td>\n    </tr>\n    <tr>\n      <th>2</th>\n      <td>US1CASA0061</td>\n      <td>RANCHO CORDOVA 5.9 ESE, CA US</td>\n      <td>38.570137</td>\n      <td>-121.196535</td>\n      <td>74.1</td>\n      <td>2019-03</td>\n      <td>NaN</td>\n      <td>NaN</td>\n      <td>NaN</td>\n    </tr>\n    <tr>\n      <th>3</th>\n      <td>US1CASA0061</td>\n      <td>RANCHO CORDOVA 5.9 ESE, CA US</td>\n      <td>38.570137</td>\n      <td>-121.196535</td>\n      <td>74.1</td>\n      <td>2019-04</td>\n      <td>NaN</td>\n      <td>NaN</td>\n      <td>NaN</td>\n    </tr>\n    <tr>\n      <th>4</th>\n      <td>US1CASA0061</td>\n      <td>RANCHO CORDOVA 5.9 ESE, CA US</td>\n      <td>38.570137</td>\n      <td>-121.196535</td>\n      <td>74.1</td>\n      <td>2019-05</td>\n      <td>NaN</td>\n      <td>NaN</td>\n      <td>NaN</td>\n    </tr>\n  </tbody>\n</table>\n</div>"
     },
     "metadata": {},
     "execution_count": 17
    }
   ],
   "source": [
    "#sacramento cleaning\n",
    "sacramento_df.head()"
   ]
  },
  {
   "cell_type": "code",
   "execution_count": 18,
   "metadata": {},
   "outputs": [],
   "source": [
    "sacramento_drop_na=sacramento.dropna()"
   ]
  },
  {
   "cell_type": "code",
   "execution_count": 19,
   "metadata": {},
   "outputs": [],
   "source": [
    "sacramento_clean=sacramento_drop_na[sacramento_drop_na[\"DATE\"].str.contains(date_01)==False]\n",
    "sacramento_clean=sacramento_drop_na[sacramento_drop_na[\"DATE\"].str.contains(date_00)==False]\n",
    "sacramento_clean=sacramento_drop_na[sacramento_drop_na[\"DATE\"].str.contains(date_02)==False]\n",
    "sacramento_clean=sacramento_drop_na[sacramento_drop_na[\"DATE\"].str.contains(date_03)==False]\n",
    "sacramento_clean=sacramento_drop_na[sacramento_drop_na[\"DATE\"].str.contains(date_04)==False]\n",
    "sacramento_clean=sacramento_drop_na[sacramento_drop_na[\"DATE\"].str.contains(date_05)==False]\n",
    "sacramento_clean=sacramento_drop_na[sacramento_drop_na[\"DATE\"].str.contains(date_06)==False]\n",
    "sacramento_clean=sacramento_drop_na[sacramento_drop_na[\"DATE\"].str.contains(date_07)==False]\n",
    "sacramento_clean=sacramento_drop_na[sacramento_drop_na[\"DATE\"].str.contains(date_08)==False]\n",
    "sacramento_clean=sacramento_drop_na[sacramento_drop_na[\"DATE\"].str.contains(date_09)==False]\n",
    "sacramento_clean=sacramento_drop_na[sacramento_drop_na[\"DATE\"].str.contains(date_10)==False]\n",
    "sacramento_clean=sacramento_drop_na[sacramento_drop_na[\"DATE\"].str.contains(date_11)==False]\n",
    "sacramento_clean=sacramento_drop_na[sacramento_drop_na[\"DATE\"].str.contains(date_12)==False]\n",
    "sacramento_clean=sacramento_drop_na[sacramento_drop_na[\"DATE\"].str.contains(date_13)==False]\n",
    "sacramento_clean=sacramento_drop_na[sacramento_drop_na[\"DATE\"].str.contains(date_14)==False]\n",
    "sacramento_clean=sacramento_drop_na[sacramento_drop_na[\"DATE\"].str.contains(date_15)==False]\n",
    "sacramento_clean=sacramento_drop_na[sacramento_drop_na[\"DATE\"].str.contains(date_16)==False]\n",
    "sacramento_clean=sacramento_drop_na[sacramento_drop_na[\"DATE\"].str.contains(date_17)==False]\n",
    "sacramento_clean=sacramento_drop_na[sacramento_drop_na[\"DATE\"].str.contains(date_18)==False]\n",
    "sacramento_clean=sacramento_drop_na[sacramento_drop_na[\"DATE\"].str.contains(date_19)==False]\n",
    "sacramento_clean=sacramento_drop_na[sacramento_drop_na[\"DATE\"].str.contains(date_20)==False]"
   ]
  },
  {
   "cell_type": "code",
   "execution_count": 20,
   "metadata": {},
   "outputs": [],
   "source": [
    "grouped_dates_sac_avg=sacramento_clean.groupby([sacramento_clean.DATE]).mean()\n",
    "group_dates_sac_median=sacramento_clean.groupby([sacramento_clean.DATE]).median()"
   ]
  },
  {
   "cell_type": "code",
   "execution_count": 21,
   "metadata": {},
   "outputs": [],
   "source": [
    "sandiego0=sandiego_1.append(sandiego_2)\n"
   ]
  },
  {
   "cell_type": "code",
   "execution_count": 22,
   "metadata": {},
   "outputs": [],
   "source": [
    "sandiego1=sandiego0.append(sandiego_3)\n",
    "sandiego_combined=sandiego1.append(sandiego_4)"
   ]
  },
  {
   "cell_type": "code",
   "execution_count": 26,
   "metadata": {},
   "outputs": [],
   "source": [
    "sandiego_dropped=sandiego_combined.dropna()"
   ]
  },
  {
   "cell_type": "code",
   "execution_count": 28,
   "metadata": {},
   "outputs": [],
   "source": [
    "san_diego_grouped_dates_avg=sandiego_dropped.groupby([sandiego_dropped.DATE]).mean()\n",
    "san_diego_group_dates_median=sandiego_dropped.groupby([sandiego_dropped.DATE]).median()"
   ]
  },
  {
   "cell_type": "code",
   "execution_count": 25,
   "metadata": {},
   "outputs": [],
   "source": [
    "#export grouped dates avg, grouped dates median and group dates with separated yr month\n",
    "grouped_dates_monterey_avg.to_csv('./Raw_Data/grouped_dates_monterey_avg', index=False)\n",
    "grouped_dates_sac_avg.to_csv('./Raw_Data/grouped_dates_sacramento_avg', index=False)"
   ]
  },
  {
   "cell_type": "code",
   "execution_count": 29,
   "metadata": {},
   "outputs": [],
   "source": [
    "#EXPORT\n",
    "#san_diego_grouped_dates_avg.to_csv('./Raw_Data/grouped_dates_sandiego_avg', index=False)\n",
    "#santamaria_grouped_dates_avg.to_csv('./Raw_Data/grouped_dates_santamaria_avg', index=False)\n",
    "#santarosa_clean_grouped_dates_avg.to_csv('./Raw_Data/grouped_dates_santarosa_avg', index=False)\n",
    "\n"
   ]
  },
  {
   "cell_type": "code",
   "execution_count": 32,
   "metadata": {},
   "outputs": [],
   "source": [
    "#Santa_Maria cleaning\n",
    "santa_maria_dropped=santa_maria.dropna()"
   ]
  },
  {
   "cell_type": "code",
   "execution_count": 37,
   "metadata": {},
   "outputs": [],
   "source": [
    "santamaria_clean=santa_maria_dropped[santa_maria_dropped[\"DATE\"].str.contains(date_01)==False]"
   ]
  },
  {
   "cell_type": "code",
   "execution_count": 40,
   "metadata": {},
   "outputs": [],
   "source": [
    "\n",
    "santamaria_clean=santa_maria_dropped[santa_maria_dropped[\"DATE\"].str.contains(date_00)==False]\n",
    "santamaria_clean=santa_maria_dropped[santa_maria_dropped[\"DATE\"].str.contains(date_02)==False]\n",
    "santamaria_clean=santa_maria_dropped[santa_maria_dropped[\"DATE\"].str.contains(date_03)==False]\n",
    "santamaria_clean=santa_maria_dropped[santa_maria_dropped[\"DATE\"].str.contains(date_04)==False]\n",
    "santamaria_clean=santa_maria_dropped[santa_maria_dropped[\"DATE\"].str.contains(date_05)==False]\n",
    "santamaria_clean=santa_maria_dropped[santa_maria_dropped[\"DATE\"].str.contains(date_06)==False]\n",
    "santamaria_clean=santa_maria_dropped[santa_maria_dropped[\"DATE\"].str.contains(date_07)==False]\n",
    "santamaria_clean=santa_maria_dropped[santa_maria_dropped[\"DATE\"].str.contains(date_08)==False]\n",
    "santamaria_clean=santa_maria_dropped[santa_maria_dropped[\"DATE\"].str.contains(date_09)==False]\n",
    "santamaria_clean=santa_maria_dropped[santa_maria_dropped[\"DATE\"].str.contains(date_10)==False]\n",
    "\n",
    "santamaria_clean=santa_maria_dropped[santa_maria_dropped[\"DATE\"].str.contains(date_12)==False]\n",
    "santamaria_clean=santa_maria_dropped[santa_maria_dropped[\"DATE\"].str.contains(date_13)==False]\n",
    "santamaria_clean=santa_maria_dropped[santa_maria_dropped[\"DATE\"].str.contains(date_14)==False]\n",
    "santamaria_clean=santa_maria_dropped[santa_maria_dropped[\"DATE\"].str.contains(date_15)==False]\n",
    "santamaria_clean=santa_maria_dropped[santa_maria_dropped[\"DATE\"].str.contains(date_16)==False]\n",
    "santamaria_clean=santa_maria_dropped[santa_maria_dropped[\"DATE\"].str.contains(date_17)==False]\n",
    "santamaria_clean=santa_maria_dropped[santa_maria_dropped[\"DATE\"].str.contains(date_18)==False]\n",
    "santamaria_clean=santa_maria_dropped[santa_maria_dropped[\"DATE\"].str.contains(date_19)==False]\n",
    "santamaria_clean=santa_maria_dropped[santa_maria_dropped[\"DATE\"].str.contains(date_20)==False]"
   ]
  },
  {
   "cell_type": "code",
   "execution_count": 41,
   "metadata": {},
   "outputs": [],
   "source": [
    "santamaria_clean=santa_maria_dropped[santa_maria_dropped[\"DATE\"].str.contains(date_11)==False]"
   ]
  },
  {
   "cell_type": "code",
   "execution_count": 42,
   "metadata": {},
   "outputs": [],
   "source": [
    "santamaria_grouped_dates_avg=santamaria_clean.groupby([santamaria_clean.DATE]).mean()\n",
    "santamaria_group_dates_median=santamaria_clean.groupby([santamaria_clean.DATE]).median()"
   ]
  },
  {
   "cell_type": "code",
   "execution_count": 47,
   "metadata": {},
   "outputs": [],
   "source": [
    "#santa rosa\n",
    "santarosa_combined=santarosa_1.append(santarosa_2)"
   ]
  },
  {
   "cell_type": "code",
   "execution_count": 50,
   "metadata": {},
   "outputs": [],
   "source": [
    "santarosa_drop=santarosa_combined.dropna()"
   ]
  },
  {
   "cell_type": "code",
   "execution_count": 52,
   "metadata": {},
   "outputs": [],
   "source": [
    "santarosa_clean=santarosa_drop[santarosa_drop[\"DATE\"].str.contains(date_01)==False]\n",
    "santarosa_clean=santarosa_drop[santarosa_drop[\"DATE\"].str.contains(date_00)==False]\n",
    "santarosa_clean=santarosa_drop[santarosa_drop[\"DATE\"].str.contains(date_02)==False]\n",
    "santarosa_clean=santarosa_drop[santarosa_drop[\"DATE\"].str.contains(date_03)==False]\n",
    "santarosa_clean=santarosa_drop[santarosa_drop[\"DATE\"].str.contains(date_04)==False]\n",
    "santarosa_clean=santarosa_drop[santarosa_drop[\"DATE\"].str.contains(date_05)==False]\n",
    "santarosa_clean=santarosa_drop[santarosa_drop[\"DATE\"].str.contains(date_06)==False]\n",
    "santarosa_clean=santarosa_drop[santarosa_drop[\"DATE\"].str.contains(date_07)==False]\n",
    "santarosa_clean=santarosa_drop[santarosa_drop[\"DATE\"].str.contains(date_08)==False]\n",
    "santarosa_clean=santarosa_drop[santarosa_drop[\"DATE\"].str.contains(date_09)==False]\n",
    "santarosa_clean=santarosa_drop[santarosa_drop[\"DATE\"].str.contains(date_10)==False]\n",
    "santarosa_clean=santarosa_drop[santarosa_drop[\"DATE\"].str.contains(date_11)==False]\n",
    "santarosa_clean=santarosa_drop[santarosa_drop[\"DATE\"].str.contains(date_12)==False]\n",
    "santarosa_clean=santarosa_drop[santarosa_drop[\"DATE\"].str.contains(date_13)==False]\n",
    "santarosa_clean=santarosa_drop[santarosa_drop[\"DATE\"].str.contains(date_14)==False]\n",
    "santarosa_clean=santarosa_drop[santarosa_drop[\"DATE\"].str.contains(date_16)==False]\n",
    "santarosa_clean=santarosa_drop[santarosa_drop[\"DATE\"].str.contains(date_16)==False]\n",
    "santarosa_clean=santarosa_drop[santarosa_drop[\"DATE\"].str.contains(date_17)==False]\n",
    "santarosa_clean=santarosa_drop[santarosa_drop[\"DATE\"].str.contains(date_18)==False]\n",
    "santarosa_clean=santarosa_drop[santarosa_drop[\"DATE\"].str.contains(date_19)==False]\n",
    "santarosa_clean=santarosa_drop[santarosa_drop[\"DATE\"].str.contains(date_20)==False]"
   ]
  },
  {
   "cell_type": "code",
   "execution_count": 53,
   "metadata": {},
   "outputs": [],
   "source": [
    "santarosa_grouped_dates_avg=santarosa_clean.groupby([santarosa_clean.DATE]).mean()\n",
    "santarosa_group_dates_median=santarosa_clean.groupby([santarosa_clean.DATE]).median()"
   ]
  },
  {
   "cell_type": "code",
   "execution_count": null,
   "metadata": {},
   "outputs": [],
   "source": []
  }
 ]
}