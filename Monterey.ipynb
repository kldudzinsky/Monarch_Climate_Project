{
 "metadata": {
  "language_info": {
   "codemirror_mode": {
    "name": "ipython",
    "version": 3
   },
   "file_extension": ".py",
   "mimetype": "text/x-python",
   "name": "python",
   "nbconvert_exporter": "python",
   "pygments_lexer": "ipython3",
   "version": "3.9.1-final"
  },
  "orig_nbformat": 2,
  "kernelspec": {
   "name": "python3",
   "display_name": "Python 3.9.1 64-bit ('Boot-Camp': conda)",
   "metadata": {
    "interpreter": {
     "hash": "090b0cddc85ff3d143816ed7fc69b7574699eaa4781c61f73b617cba3a61388b"
    }
   }
  }
 },
 "nbformat": 4,
 "nbformat_minor": 2,
 "cells": [
  {
   "cell_type": "code",
   "execution_count": 1,
   "metadata": {},
   "outputs": [],
   "source": [
    "import pandas as pd                     \n",
    "import matplotlib.pyplot as plt      \n",
    "import numpy as np        \n",
    "import pandas\n",
    "import matplotlib as plt\n",
    "import matplotlib.pyplot as plt\n",
    "from os import listdir\n",
    "from os.path import isfile, join\n",
    "import csv"
   ]
  },
  {
   "cell_type": "code",
   "execution_count": 4,
   "metadata": {},
   "outputs": [],
   "source": [
    "monterey_path = \"./Raw_Data/Monthly_data_raw/Monterey.csv\"\n",
    "monterey=pd.read_csv(monterey_path)\n",
    "monterey_df=pd.DataFrame(monterey)"
   ]
  },
  {
   "cell_type": "code",
   "execution_count": 5,
   "metadata": {},
   "outputs": [
    {
     "output_type": "execute_result",
     "data": {
      "text/plain": [
       "       STATION                  NAME  LATITUDE  LONGITUDE  ELEVATION     DATE  \\\n",
       "0  USC00041534  CARMEL VALLEY, CA US   36.4805  -121.7244      146.3  2002-02   \n",
       "1  USC00041534  CARMEL VALLEY, CA US   36.4805  -121.7244      146.3  2002-03   \n",
       "2  USC00041534  CARMEL VALLEY, CA US   36.4805  -121.7244      146.3  2002-04   \n",
       "3  USC00041534  CARMEL VALLEY, CA US   36.4805  -121.7244      146.3  2002-05   \n",
       "4  USC00041534  CARMEL VALLEY, CA US   36.4805  -121.7244      146.3  2002-06   \n",
       "\n",
       "   TAVG  TMAX  TMIN  \n",
       "0  12.3  19.9   4.7  \n",
       "1  11.3  18.4   4.1  \n",
       "2   NaN   NaN   6.9  \n",
       "3  14.2  21.9   6.5  \n",
       "4  16.4  24.3   8.6  "
      ],
      "text/html": "<div>\n<style scoped>\n    .dataframe tbody tr th:only-of-type {\n        vertical-align: middle;\n    }\n\n    .dataframe tbody tr th {\n        vertical-align: top;\n    }\n\n    .dataframe thead th {\n        text-align: right;\n    }\n</style>\n<table border=\"1\" class=\"dataframe\">\n  <thead>\n    <tr style=\"text-align: right;\">\n      <th></th>\n      <th>STATION</th>\n      <th>NAME</th>\n      <th>LATITUDE</th>\n      <th>LONGITUDE</th>\n      <th>ELEVATION</th>\n      <th>DATE</th>\n      <th>TAVG</th>\n      <th>TMAX</th>\n      <th>TMIN</th>\n    </tr>\n  </thead>\n  <tbody>\n    <tr>\n      <th>0</th>\n      <td>USC00041534</td>\n      <td>CARMEL VALLEY, CA US</td>\n      <td>36.4805</td>\n      <td>-121.7244</td>\n      <td>146.3</td>\n      <td>2002-02</td>\n      <td>12.3</td>\n      <td>19.9</td>\n      <td>4.7</td>\n    </tr>\n    <tr>\n      <th>1</th>\n      <td>USC00041534</td>\n      <td>CARMEL VALLEY, CA US</td>\n      <td>36.4805</td>\n      <td>-121.7244</td>\n      <td>146.3</td>\n      <td>2002-03</td>\n      <td>11.3</td>\n      <td>18.4</td>\n      <td>4.1</td>\n    </tr>\n    <tr>\n      <th>2</th>\n      <td>USC00041534</td>\n      <td>CARMEL VALLEY, CA US</td>\n      <td>36.4805</td>\n      <td>-121.7244</td>\n      <td>146.3</td>\n      <td>2002-04</td>\n      <td>NaN</td>\n      <td>NaN</td>\n      <td>6.9</td>\n    </tr>\n    <tr>\n      <th>3</th>\n      <td>USC00041534</td>\n      <td>CARMEL VALLEY, CA US</td>\n      <td>36.4805</td>\n      <td>-121.7244</td>\n      <td>146.3</td>\n      <td>2002-05</td>\n      <td>14.2</td>\n      <td>21.9</td>\n      <td>6.5</td>\n    </tr>\n    <tr>\n      <th>4</th>\n      <td>USC00041534</td>\n      <td>CARMEL VALLEY, CA US</td>\n      <td>36.4805</td>\n      <td>-121.7244</td>\n      <td>146.3</td>\n      <td>2002-06</td>\n      <td>16.4</td>\n      <td>24.3</td>\n      <td>8.6</td>\n    </tr>\n  </tbody>\n</table>\n</div>"
     },
     "metadata": {},
     "execution_count": 5
    }
   ],
   "source": [
    "monterey_df.head()"
   ]
  },
  {
   "cell_type": "code",
   "execution_count": 21,
   "metadata": {},
   "outputs": [
    {
     "output_type": "execute_result",
     "data": {
      "text/plain": [
       "STATION       object\n",
       "NAME          object\n",
       "LATITUDE     float64\n",
       "LONGITUDE    float64\n",
       "ELEVATION    float64\n",
       "DATE          object\n",
       "TAVG         float64\n",
       "TMAX         float64\n",
       "TMIN         float64\n",
       "dtype: object"
      ]
     },
     "metadata": {},
     "execution_count": 21
    }
   ],
   "source": [
    "monterey_df.dtypes"
   ]
  },
  {
   "cell_type": "code",
   "execution_count": 9,
   "metadata": {},
   "outputs": [
    {
     "output_type": "error",
     "ename": "SyntaxError",
     "evalue": "leading zeros in decimal integer literals are not permitted; use an 0o prefix for octal integers (<ipython-input-9-398983536de1>, line 1)",
     "traceback": [
      "\u001b[0;36m  File \u001b[0;32m\"<ipython-input-9-398983536de1>\"\u001b[0;36m, line \u001b[0;32m1\u001b[0m\n\u001b[0;31m    date_02=[(2002-04),(2002-05)(2002-06),(2002-07),(2002-08),(2002-09),(2002-10)]\u001b[0m\n\u001b[0m                    ^\u001b[0m\n\u001b[0;31mSyntaxError\u001b[0m\u001b[0;31m:\u001b[0m leading zeros in decimal integer literals are not permitted; use an 0o prefix for octal integers\n"
     ]
    }
   ],
   "source": [
    "date_02=[(2002-04),(2002-05),(2002-06),(2002-07),(2002-08),(2002-09),(2002-10)]\n",
    "date_03=[(2003-04),(2003-05)(2003-06),(2003-07),(2003-08),(2003-09),(2003-10)]\n",
    "date_04=[(2004-04),(2004-05)(2004-06),(2004-07),(2004-08),(2004-09),(2004-10)]\n",
    "date_05=[(2005-04),(2005-05)(2005-06),(2005-07),(2005-08),(2005-09),(2005-10)]\n",
    "date_06=[(2006-04),(2006-05)(2006-06),(2006-07),(2006-08),(2006-09),(2006-10)]\n",
    "date_07=[(2007-04),(2007-05)(2007-06),(2007-07),(2007-08),(2007-09),(2007-10)]\n",
    "date_08=[(2008-04),(2008-05)(2008-06),(2008-07),(2008-08),(2008-09),(2008-10)]\n",
    "date_09=[(2009-04),(2009-05)(2009-06),(2009-07),(2009-08),(2009-09),(2009-10)]\n",
    "date_10=[(2010-04),(2010-05)(2010-06),(2010-07),(2010-08),(2010-09),(2010-10)]\n",
    "date_11=[(2011-04),(2011-05)(2011-06),(2011-07),(2011-08),(2011-09),(2011-10)]\n",
    "date_12=[(2012-04),(2012-05)(2012-06),(2012-07),(2012-08),(2012-09),(2012-10)]\n",
    "date_13=[(2013-04),(2013-05)(2013-06),(2013-07),(2013-08),(2013-09),(2013-10)]\n",
    "date_14=[(2014-04),(2014-05)(2014-06),(2014-07),(2014-08),(2014-09),(2014-10)]\n",
    "date_15=[(2015-04),(2015-05)(2015-06),(2015-07),(2015-08),(2015-09),(2015-10)]\n",
    "date_16=[(2016-04),(2016-05)(2016-06),(2016-07),(2016-08),(2016-09),(2016-10)]\n",
    "date_17=[(2017-04),(2017-05)(2017-06),(2017-07),(2017-08),(2017-09),(2017-10)]\n",
    "date_18=[(2018-04),(2018-05)(2018-06),(2018-07),(2018-08),(2018-09),(2018-10)]\n",
    "date_19=[(2019-04),(2019-05)(2019-06),(2019-07),(2019-08),(2019-09),(2019-10)]\n",
    "date_20=[(2020-04),(2020-05)(2020-06),(2020-07),(2020-08),(2020-09),(2020-10)]"
   ]
  },
  {
   "cell_type": "code",
   "execution_count": null,
   "metadata": {},
   "outputs": [],
   "source": [
    "if Date_contains=\"-04,-05,-06,-7,-08,-09,-10\" then drop"
   ]
  }
 ]
}